{
 "cells": [
  {
   "cell_type": "markdown",
   "metadata": {
    "id": "abA_L2ncIYeB"
   },
   "source": [
    "# **NumPy with  Python**"
   ]
  },
  {
   "cell_type": "markdown",
   "metadata": {
    "id": "F0lXOY-WJguQ"
   },
   "source": [
    "NumPy (short for Numerical Python) is an open source Python library for doing scientific computing with Python.\n",
    "\n",
    "It gives an ability to create multidimensional array objects and perform faster mathematical operations. The library contains a long list of useful mathematical functions, including some functions for linear algebra and complex mathematical operations such as Fourier Transform (FT) and random number generator (RNG).\n",
    "\n",
    "Most of the other libraries that we use in data analytics with Python, such as scikit-learn, SciPy and Pandas use some of NumPy's features."
   ]
  },
  {
   "cell_type": "markdown",
   "metadata": {
    "id": "oHfj4TumJxl3"
   },
   "source": [
    " **How to find the mean values across dimensions in a NumPy array in Python?**"
   ]
  },
  {
   "cell_type": "markdown",
   "metadata": {
    "id": "lomAxzTFJ5OC"
   },
   "source": [
    "### **Calculate mean values across each column**\n"
   ]
  },
  {
   "cell_type": "code",
   "execution_count": null,
   "metadata": {
    "colab": {
     "base_uri": "https://localhost:8080/"
    },
    "id": "PJxnCGNNKMob",
    "outputId": "03bed14b-dbc4-4d7c-9095-b5d3db187226"
   },
   "outputs": [
    {
     "name": "stdout",
     "output_type": "stream",
     "text": [
      "[3. 4. 5. 6.]\n"
     ]
    }
   ],
   "source": [
    "\n",
    "import numpy as np\n",
    " \n",
    "the_array = np.array([[1, 2, 3, 4], [5, 6, 7, 8]])\n",
    "mean_array = the_array.mean(axis=0)\n",
    "print(mean_array)"
   ]
  },
  {
   "cell_type": "markdown",
   "metadata": {
    "id": "wK6w24fZKfEl"
   },
   "source": [
    "### **Calculate mean values of each row**\n"
   ]
  },
  {
   "cell_type": "code",
   "execution_count": null,
   "metadata": {
    "colab": {
     "base_uri": "https://localhost:8080/"
    },
    "id": "hCNUuDUDKqWH",
    "outputId": "40993ade-42ec-484a-e94f-56ace106f892"
   },
   "outputs": [
    {
     "name": "stdout",
     "output_type": "stream",
     "text": [
      "[2.5 6.5]\n"
     ]
    }
   ],
   "source": [
    "import numpy as np\n",
    " \n",
    "the_array = np.array([[1, 2, 3, 4], [5, 6, 7, 8]])\n",
    "mean_array = the_array.mean(axis=1)\n",
    "print(mean_array)"
   ]
  },
  {
   "cell_type": "markdown",
   "metadata": {
    "id": "btSeRMLPK3XR"
   },
   "source": [
    "### **Mean of First column only**\n"
   ]
  },
  {
   "cell_type": "code",
   "execution_count": null,
   "metadata": {
    "colab": {
     "base_uri": "https://localhost:8080/"
    },
    "id": "DCNpX1LGK8H2",
    "outputId": "269c3d75-a01c-4f8e-8e76-156c316056d2"
   },
   "outputs": [
    {
     "name": "stdout",
     "output_type": "stream",
     "text": [
      "3.0\n"
     ]
    }
   ],
   "source": [
    "import numpy as np\n",
    " \n",
    "the_array = np.array([[1, 2, 3, 4], [5, 6, 7, 8]])\n",
    "mean_array = the_array[:, 0].mean()\n",
    "print(mean_array)"
   ]
  },
  {
   "cell_type": "markdown",
   "metadata": {
    "id": "EUxb_SnyLMdZ"
   },
   "source": [
    "### **Mean of Second column only**\n"
   ]
  },
  {
   "cell_type": "code",
   "execution_count": null,
   "metadata": {
    "colab": {
     "base_uri": "https://localhost:8080/"
    },
    "id": "RcWGdGKCLnts",
    "outputId": "82b2a435-032d-4412-c207-04aad1f674e4"
   },
   "outputs": [
    {
     "name": "stdout",
     "output_type": "stream",
     "text": [
      "3.0\n"
     ]
    }
   ],
   "source": [
    "import numpy as np\n",
    "\n",
    "the_array = np.array([[1, 2, 3, 4], [5, 6, 7, 8]])\n",
    "mean_array = the_array[:, 0].mean()\n",
    "print(mean_array)"
   ]
  },
  {
   "cell_type": "markdown",
   "metadata": {
    "id": "UfiBoUIHMdo1"
   },
   "source": [
    "### **How to create NumPy array?**"
   ]
  },
  {
   "cell_type": "markdown",
   "metadata": {
    "id": "L9KOO86TMlEQ"
   },
   "source": [
    "To create a NumPy array we need to pass list of element values inside a square bracket as an argument to the np.array() function.\n",
    "A 3d array is a matrix of 2d array. A 3d array can also be called as a list of lists where every element is again a list of elements.\n",
    "\n"
   ]
  },
  {
   "cell_type": "code",
   "execution_count": null,
   "metadata": {
    "colab": {
     "base_uri": "https://localhost:8080/"
    },
    "id": "4qoadax-MhKg",
    "outputId": "5e4f9431-51f4-4d88-9e2f-2491cfaed2da"
   },
   "outputs": [
    {
     "name": "stdout",
     "output_type": "stream",
     "text": [
      "[1 2 3 4 5 6]\n",
      "----------\n",
      "[[1 2 3]\n",
      " [4 5 6]]\n",
      "----------\n",
      "[[[ 1  2  3]\n",
      "  [ 4  5  6]]\n",
      "\n",
      " [[ 7  8  9]\n",
      "  [10 11 12]]]\n"
     ]
    }
   ],
   "source": [
    "import numpy as np\n",
    " \n",
    "array1d = np.array([1, 2, 3, 4, 5, 6])\n",
    "array2d = np.array([[1, 2, 3], [4, 5, 6]])\n",
    "array3d = np.array([[[1, 2, 3], [4, 5, 6]], [[7, 8, 9], [10, 11, 12]]])\n",
    " \n",
    "print(array1d)\n",
    " \n",
    "print(\"-\" * 10)\n",
    "print(array2d)\n",
    " \n",
    "print(\"-\" * 10)\n",
    "print(array3d)\n"
   ]
  },
  {
   "cell_type": "markdown",
   "metadata": {
    "id": "Ujky0KMVM0bP"
   },
   "source": [
    "The main data structure for multidimensional arrays in NumPy is the ndarray class. Basic Attributes of the ndarray Class as follow:\n",
    "\n"
   ]
  },
  {
   "cell_type": "markdown",
   "metadata": {
    "id": "oUG-NWeENBTq"
   },
   "source": [
    "**Attribute\tDescription**\n",
    "Shape -\tA tuple that specifies the number of elements for each dimension of the array.\n",
    "Size - The total number elements in the array.\n",
    "Ndim -\tDetermines the dimension an array.\n",
    "nbytes -\tNumber of bytes used to store the data.\n",
    "dtype -\tDetermines the datatype of elements stored in array."
   ]
  },
  {
   "cell_type": "markdown",
   "metadata": {
    "id": "nQA68W0cNXbw"
   },
   "source": [
    "**How to create NumPy array using arange function?**\n"
   ]
  },
  {
   "cell_type": "markdown",
   "metadata": {
    "id": "OVCy7IrEPv4B"
   },
   "source": [
    "The arange() function creates an array with evenly spaced values between the specified start, end, and increment values.\n",
    "General form: np.arange(Start, End, Increment)\n"
   ]
  },
  {
   "cell_type": "markdown",
   "metadata": {
    "id": "wjdV_rTWP2aR"
   },
   "source": [
    "The reshape function is used to change its dimension:"
   ]
  },
  {
   "cell_type": "code",
   "execution_count": null,
   "metadata": {
    "colab": {
     "base_uri": "https://localhost:8080/"
    },
    "id": "ufbiwNxpOqlp",
    "outputId": "e4f56d88-62e4-4b05-b3c3-fdc0efd425fc"
   },
   "outputs": [
    {
     "name": "stdout",
     "output_type": "stream",
     "text": [
      "[0 1 2 3 4]\n",
      "[ 0  2  4  6  8 10]\n",
      "[[ 0  2  4]\n",
      " [ 6  8 10]]\n",
      "[[0 1 2]\n",
      " [3 4 5]\n",
      " [6 7 8]]\n"
     ]
    }
   ],
   "source": [
    "import numpy as np\n",
    " \n",
    "array1d = np.arange(5)  # 1 row and 5 columns\n",
    "print(array1d)\n",
    " \n",
    "array1d = np.arange(0, 12, 2)  # 1 row and 6 columns\n",
    "print(array1d)\n",
    " \n",
    "array2d = np.arange(0, 12, 2).reshape(2, 3)  # 2 rows 3 columns\n",
    "print(array2d)\n",
    " \n",
    "array3d = np.arange(9).reshape(3, 3)  # 3 rows and columns\n",
    "print(array3d)\n"
   ]
  },
  {
   "cell_type": "markdown",
   "metadata": {
    "id": "YQakkXW7Rcmw"
   },
   "source": [
    "### **How to convert List or Tuple into NumPy array?**\n"
   ]
  },
  {
   "cell_type": "markdown",
   "metadata": {
    "id": "vMnnkvtwRkhj"
   },
   "source": [
    "The array() function can accept lists, tuples and other numpy.ndarray objects also to create new array object.\n"
   ]
  },
  {
   "cell_type": "code",
   "execution_count": null,
   "metadata": {
    "colab": {
     "base_uri": "https://localhost:8080/"
    },
    "id": "n2uqQEUWRoH1",
    "outputId": "8bc70c82-558a-41a0-8ae7-3248c53b6043"
   },
   "outputs": [
    {
     "name": "stdout",
     "output_type": "stream",
     "text": [
      "<class 'list'>\n",
      "<class 'numpy.ndarray'>\n",
      "<class 'tuple'>\n",
      "<class 'numpy.ndarray'>\n",
      "[[1 2 3]\n",
      " [1 2 3]\n",
      " [1 2 3]]\n"
     ]
    }
   ],
   "source": [
    "import numpy as np\n",
    " \n",
    "thelist = [1, 2, 3]\n",
    "print(type(thelist))  # <class 'list'>\n",
    " \n",
    "array1 = np.array(thelist)\n",
    "print(type(array1))  # <class 'numpy.ndarray'>\n",
    " \n",
    "thetuple = ((1, 2, 3))\n",
    "print(type(thetuple))  # <class 'tuple'>\n",
    " \n",
    "array2 = np.array(thetuple)\n",
    "print(type(array2))  # <class 'numpy.ndarray'>\n",
    " \n",
    "array3 = np.array([thetuple, thelist, array1])\n",
    "print(array3)\n"
   ]
  },
  {
   "cell_type": "markdown",
   "metadata": {
    "id": "nX2JuMwySziV"
   },
   "source": [
    "### **Detect if a NumPy array contains at least one non-numeric value?**\n"
   ]
  },
  {
   "cell_type": "markdown",
   "metadata": {
    "id": "nv-ioQ531m2y"
   },
   "source": [
    "Check NaN in array"
   ]
  },
  {
   "cell_type": "code",
   "execution_count": null,
   "metadata": {
    "colab": {
     "base_uri": "https://localhost:8080/"
    },
    "id": "1hgYoIH31zH5",
    "outputId": "45883cba-641c-4b7a-c216-384d8fefa6a9"
   },
   "outputs": [
    {
     "name": "stdout",
     "output_type": "stream",
     "text": [
      "True\n",
      "False\n"
     ]
    }
   ],
   "source": [
    "import numpy as np\n",
    "the_array = np.array([np.nan, 2, 3, 4])\n",
    "array_has_nan = np.isnan(the_array).any()\n",
    "print(array_has_nan)\n",
    "the_array = np.array([1, 2, 3, 4])\n",
    "array_has_nan = np.isnan(the_array).any()\n",
    "print(array_has_nan)"
   ]
  },
  {
   "cell_type": "markdown",
   "metadata": {
    "id": "Fp4bl6xn2Eu8"
   },
   "source": [
    "**How to get shape of NumPy array?**"
   ]
  },
  {
   "cell_type": "markdown",
   "metadata": {
    "id": "JrD0JrDd2Mjq"
   },
   "source": [
    "The shape method determines the shape of NumPy array in form of (m, n) i.e (no. of rows) x (no. of columns)."
   ]
  },
  {
   "cell_type": "code",
   "execution_count": null,
   "metadata": {
    "colab": {
     "base_uri": "https://localhost:8080/"
    },
    "id": "utG6UkTk2SQx",
    "outputId": "d210802c-7a54-4fcb-cde0-ce01ff15a4fa"
   },
   "outputs": [
    {
     "name": "stdout",
     "output_type": "stream",
     "text": [
      "(6,)\n",
      "(2, 3)\n",
      "(2, 2, 3)\n"
     ]
    }
   ],
   "source": [
    "import numpy as np\n",
    " \n",
    "array1d = np.array([1, 2, 3, 4, 5, 6])\n",
    "array2d = np.array([[1, 2, 3], [4, 5, 6]])\n",
    "array3d = np.array([[[1, 2, 3], [4, 5, 6]], [[7, 8, 9], [10, 11, 12]]])\n",
    " \n",
    "print(array1d.shape)\n",
    "print(array2d.shape)\n",
    "print(array3d.shape)"
   ]
  },
  {
   "cell_type": "markdown",
   "metadata": {
    "id": "DOmHpPfn2o7G"
   },
   "source": [
    "### **How to get and set data type of NumPy array?**"
   ]
  },
  {
   "cell_type": "markdown",
   "metadata": {
    "id": "fcJ7YHqX25a_"
   },
   "source": [
    "The dtype method determines the datatype of elements stored in NumPy array. You can also explicitly define the data type using the dtype option as an argument of array function."
   ]
  },
  {
   "cell_type": "code",
   "execution_count": null,
   "metadata": {
    "colab": {
     "base_uri": "https://localhost:8080/"
    },
    "id": "fYgLkN9221Hj",
    "outputId": "7bb1c8e8-354d-473b-e0b1-c5073406f1b2"
   },
   "outputs": [
    {
     "name": "stdout",
     "output_type": "stream",
     "text": [
      "int64\n",
      "float64\n",
      "<U1\n",
      "<U5\n",
      "float64\n",
      "['Canad' 'Austr']\n"
     ]
    }
   ],
   "source": [
    "import numpy as np\n",
    " \n",
    "type1 = np.array([1, 2, 3, 4, 5, 6])\n",
    "type2 = np.array([1.5, 2.5, 0.5, 6])\n",
    "type3 = np.array(['a', 'b', 'c'])\n",
    "type4 = np.array([\"Canada\", \"Australia\"], dtype='U5')\n",
    "type5 = np.array([555, 666], dtype=float)\n",
    " \n",
    "print(type1.dtype)\n",
    "print(type2.dtype)\n",
    "print(type3.dtype)\n",
    "print(type4.dtype)\n",
    "print(type5.dtype)\n",
    " \n",
    "print(type4)"
   ]
  },
  {
   "cell_type": "markdown",
   "metadata": {
    "id": "QyvbOewj3YKV"
   },
   "source": [
    "### **How to get 1, 2 or 3 dimension NumPy array?**\n"
   ]
  },
  {
   "cell_type": "markdown",
   "metadata": {
    "id": "UA8OCSMX3oRr"
   },
   "source": [
    "The ndim method determines the dimension of NumPy array.\n"
   ]
  },
  {
   "cell_type": "code",
   "execution_count": null,
   "metadata": {
    "colab": {
     "base_uri": "https://localhost:8080/"
    },
    "id": "3VtecHoJ3rb9",
    "outputId": "d2da2296-d849-4640-8e77-67713e210c9a"
   },
   "outputs": [
    {
     "name": "stdout",
     "output_type": "stream",
     "text": [
      "1\n",
      "2\n",
      "3\n"
     ]
    }
   ],
   "source": [
    "import numpy as np\n",
    " \n",
    "array1d = np.array([1, 2, 3, 4, 5, 6])\n",
    "print(array1d.ndim)  # 1\n",
    " \n",
    "array2d = np.array([[1, 2, 3], [4, 5, 6]])\n",
    "print(array2d.ndim)  # 2\n",
    " \n",
    "array3d = np.array([1, 2, 3, 4, 5, 6, 7, 8, 9, 10, 11, 12])\n",
    "array3d = array3d.reshape(2, 3, 2)\n",
    "print(array3d.ndim)  # 3\n"
   ]
  },
  {
   "cell_type": "markdown",
   "metadata": {
    "id": "3HEgnkjf33k4"
   },
   "source": [
    "### **How to resize NumPy array?**\n"
   ]
  },
  {
   "cell_type": "markdown",
   "metadata": {
    "id": "E4BLR4a_4AJN"
   },
   "source": [
    "The resize() method modifies existing shape and array itself."
   ]
  },
  {
   "cell_type": "code",
   "execution_count": null,
   "metadata": {
    "colab": {
     "base_uri": "https://localhost:8080/"
    },
    "id": "n448vKH04EH6",
    "outputId": "ca1edf10-0ad8-4cf4-ead4-a3c9a66487d1"
   },
   "outputs": [
    {
     "name": "stdout",
     "output_type": "stream",
     "text": [
      "[1 2 3 4]\n",
      "----------\n",
      "[[1 2 3 4]\n",
      " [5 6 7 8]]\n",
      "----------\n",
      "[[1 2 3]\n",
      " [4 5 6]\n",
      " [7 8 0]]\n"
     ]
    }
   ],
   "source": [
    "import numpy as np\n",
    " \n",
    "thearray = np.array([1, 2, 3, 4, 5, 6, 7, 8])\n",
    "thearray.resize(4)\n",
    "print(thearray)\n",
    " \n",
    "print(\"-\" * 10)\n",
    "thearray = np.array([1, 2, 3, 4, 5, 6, 7, 8])\n",
    "thearray.resize(2, 4)\n",
    "print(thearray)\n",
    " \n",
    "print(\"-\" * 10)\n",
    "thearray = np.array([1, 2, 3, 4, 5, 6, 7, 8])\n",
    "thearray.resize(3, 3)\n",
    "print(thearray)\n"
   ]
  },
  {
   "cell_type": "markdown",
   "metadata": {
    "id": "42f69O5c4PIe"
   },
   "source": [
    "### **How to reshape NumPy array?**"
   ]
  },
  {
   "cell_type": "markdown",
   "metadata": {
    "id": "R1ryucl34bPA"
   },
   "source": [
    "The reshape () method modifies existing shape but original array remains unchanged.\n"
   ]
  },
  {
   "cell_type": "code",
   "execution_count": null,
   "metadata": {
    "colab": {
     "base_uri": "https://localhost:8080/"
    },
    "id": "DdlIxf-54d2_",
    "outputId": "08568dcf-29db-4f0d-f87d-74e8a88ae695"
   },
   "outputs": [
    {
     "name": "stdout",
     "output_type": "stream",
     "text": [
      "[[1 2 3 4]\n",
      " [5 6 7 8]]\n",
      "----------\n",
      "[[1 2]\n",
      " [3 4]\n",
      " [5 6]\n",
      " [7 8]]\n",
      "----------\n",
      "[[1]\n",
      " [2]\n",
      " [3]\n",
      " [4]\n",
      " [5]\n",
      " [6]\n",
      " [7]\n",
      " [8]]\n"
     ]
    }
   ],
   "source": [
    "import numpy as np\n",
    " \n",
    "thearray = np.array([1, 2, 3, 4, 5, 6, 7, 8])\n",
    "thearray = thearray.reshape(2, 4)\n",
    "print(thearray)\n",
    " \n",
    "print(\"-\" * 10)\n",
    "thearray = thearray.reshape(4, 2)\n",
    "print(thearray)\n",
    " \n",
    "print(\"-\" * 10)\n",
    "thearray = thearray.reshape(8, 1)\n",
    "print(thearray)\n"
   ]
  },
  {
   "cell_type": "markdown",
   "metadata": {
    "id": "sX3vxueo44jS"
   },
   "source": [
    "### **How to create Zeros NumPy arrays?**\n"
   ]
  },
  {
   "cell_type": "markdown",
   "metadata": {
    "id": "skM7DqN84_Zn"
   },
   "source": [
    "The zeros() function, generates an array with the specified dimensions and data type that is filled with zeros."
   ]
  },
  {
   "cell_type": "code",
   "execution_count": null,
   "metadata": {
    "colab": {
     "base_uri": "https://localhost:8080/"
    },
    "id": "D9SLmPxo5CCO",
    "outputId": "01ca94ec-3cb9-4e03-f640-cf45e8fd381e"
   },
   "outputs": [
    {
     "name": "stdout",
     "output_type": "stream",
     "text": [
      "[0. 0. 0.]\n",
      "[[0. 0. 0. 0.]\n",
      " [0. 0. 0. 0.]]\n"
     ]
    }
   ],
   "source": [
    "import numpy as np\n",
    " \n",
    "array1d = np.zeros(3)\n",
    "print(array1d)\n",
    " \n",
    "array2d = np.zeros((2, 4))\n",
    "print(array2d)\n"
   ]
  },
  {
   "cell_type": "markdown",
   "metadata": {
    "id": "gMH8ouYQ5Pie"
   },
   "source": [
    "### **NumPy One array example**"
   ]
  },
  {
   "cell_type": "markdown",
   "metadata": {
    "id": "NZbTdarg5VtJ"
   },
   "source": [
    "The ones() function, generates an array with the specified dimensions and data type that is filled with ones.\n"
   ]
  },
  {
   "cell_type": "code",
   "execution_count": null,
   "metadata": {
    "colab": {
     "base_uri": "https://localhost:8080/"
    },
    "id": "O5PNLCjG5ZDv",
    "outputId": "c824e871-eb02-464a-ca4e-2bc3df4455f8"
   },
   "outputs": [
    {
     "name": "stdout",
     "output_type": "stream",
     "text": [
      "[1. 1. 1.]\n",
      "[[1. 1. 1. 1.]\n",
      " [1. 1. 1. 1.]]\n"
     ]
    }
   ],
   "source": [
    "import numpy as np\n",
    " \n",
    "array1d = np.ones(3)\n",
    "print(array1d)\n",
    " \n",
    "array2d = np.ones((2, 4))\n",
    "print(array2d)"
   ]
  },
  {
   "cell_type": "markdown",
   "metadata": {
    "id": "3Y4pAqQQ5jvM"
   },
   "source": [
    "### **NumPy Eye array example**\n"
   ]
  },
  {
   "cell_type": "markdown",
   "metadata": {
    "id": "TOWcnYdx5plq"
   },
   "source": [
    "The eye() function, returns an array where all elements are equal to zero, except for the k-th diagonal, whose values are equal to one."
   ]
  },
  {
   "cell_type": "code",
   "execution_count": null,
   "metadata": {
    "colab": {
     "base_uri": "https://localhost:8080/"
    },
    "id": "A15DmiTW5uBO",
    "outputId": "8c667c51-fe0d-4299-806b-5b3a85c008f0"
   },
   "outputs": [
    {
     "name": "stdout",
     "output_type": "stream",
     "text": [
      "[[1 0 0]\n",
      " [0 1 0]\n",
      " [0 0 1]]\n",
      "[[0. 0. 1. 0. 0.]\n",
      " [0. 0. 0. 1. 0.]\n",
      " [0. 0. 0. 0. 1.]\n",
      " [0. 0. 0. 0. 0.]\n",
      " [0. 0. 0. 0. 0.]]\n"
     ]
    }
   ],
   "source": [
    "import numpy as np\n",
    " \n",
    "array1 = np.eye(3, dtype=int)\n",
    "print(array1)\n",
    " \n",
    "array2 = np.eye(5, k=2)\n",
    "print(array2)\n"
   ]
  },
  {
   "cell_type": "markdown",
   "metadata": {
    "id": "hvarTY-B57pc"
   },
   "source": [
    "### **NumPy logspace array example**\n"
   ]
  },
  {
   "cell_type": "markdown",
   "metadata": {
    "id": "4cZH_S8l6BSA"
   },
   "source": [
    "The logspace() function, generates an array with values that are logarithmically spaced between the given start and end values.\n"
   ]
  },
  {
   "cell_type": "code",
   "execution_count": null,
   "metadata": {
    "colab": {
     "base_uri": "https://localhost:8080/"
    },
    "id": "0E9ul6mC6FaF",
    "outputId": "a20c1443-dca9-46ca-b807-2a5fa49942a1"
   },
   "outputs": [
    {
     "name": "stdout",
     "output_type": "stream",
     "text": [
      "[1.00000000e+35 7.74263683e+38 5.99484250e+42 4.64158883e+46\n",
      " 3.59381366e+50 2.78255940e+54 2.15443469e+58 1.66810054e+62\n",
      " 1.29154967e+66 1.00000000e+70]\n"
     ]
    }
   ],
   "source": [
    "import numpy as np\n",
    " \n",
    "thearray = np.logspace(5, 10, num=10, base=10000000.0, dtype=float)\n",
    "print(thearray)\n"
   ]
  },
  {
   "cell_type": "markdown",
   "metadata": {
    "id": "zdo6EmLT6afk"
   },
   "source": [
    "### **NumPy Full array example**\n",
    " "
   ]
  },
  {
   "cell_type": "markdown",
   "metadata": {
    "id": "KdRz3sfD6hl-"
   },
   "source": [
    "The full() function, generates an array with the specified dimensions and data type that is filled with specified number."
   ]
  },
  {
   "cell_type": "code",
   "execution_count": null,
   "metadata": {
    "colab": {
     "base_uri": "https://localhost:8080/"
    },
    "id": "lW5TXRcS6lvl",
    "outputId": "f25038cd-8b54-48a1-a2b4-1167684b41aa"
   },
   "outputs": [
    {
     "name": "stdout",
     "output_type": "stream",
     "text": [
      "[2 2 2]\n",
      "[[3 3 3 3]\n",
      " [3 3 3 3]]\n"
     ]
    }
   ],
   "source": [
    "import numpy as np\n",
    " \n",
    "array1d = np.full((3), 2)\n",
    "print(array1d)\n",
    " \n",
    "array2d = np.full((2, 4), 3)\n",
    "print(array2d)\n"
   ]
  },
  {
   "cell_type": "markdown",
   "metadata": {
    "id": "Ggr-7x85609b"
   },
   "source": [
    "### **NumPy generate random number array**"
   ]
  },
  {
   "cell_type": "markdown",
   "metadata": {
    "id": "fm9lr2BC66Sd"
   },
   "source": [
    "The np.random.rand method, generates an array with random numbers that are uniformly distributed between 0 and 1.\n",
    "\n",
    "The np.random.randn method, generates an array with random numbers that are normally distributed between 0 and 1.\n",
    "\n",
    "The np.random.randint method, generates an array with random numbers that are uniformly distributed between 0 and given integer."
   ]
  },
  {
   "cell_type": "code",
   "execution_count": null,
   "metadata": {
    "colab": {
     "base_uri": "https://localhost:8080/"
    },
    "id": "UShCaHO17A1O",
    "outputId": "2e0d0a48-383f-4b9a-faae-2a8755819fdc"
   },
   "outputs": [
    {
     "name": "stdout",
     "output_type": "stream",
     "text": [
      "[[0.51964206 0.79331422]\n",
      " [0.12985429 0.40737324]\n",
      " [0.81688152 0.11934923]]\n",
      "[[ 0.00441448 -0.1578696 ]\n",
      " [ 0.72946295 -0.66735504]\n",
      " [-1.11677189  0.11559436]]\n",
      "[1 1 0 0 0 0 0 0 1 0]\n",
      "[[2 3 4 0]\n",
      " [3 0 3 3]]\n"
     ]
    }
   ],
   "source": [
    "import numpy as np\n",
    " \n",
    "print(np.random.rand(3, 2))  # Uniformly distributed values.\n",
    "print(np.random.randn(3, 2))  # Normally distributed values.\n",
    " \n",
    "# Uniformly distributed integers in a given range.\n",
    "print(np.random.randint(2, size=10))\n",
    "print(np.random.randint(5, size=(2, 4)))\n"
   ]
  },
  {
   "cell_type": "markdown",
   "metadata": {
    "id": "pXZfRa4C7J9z"
   },
   "source": [
    "### **NumPy Identity and Diagonal Array Example**\n"
   ]
  },
  {
   "cell_type": "markdown",
   "metadata": {
    "id": "LRn4as4m7UxE"
   },
   "source": [
    "The identity() function, generates square array with ones on the main diagonal whereas diag() function extract or construct diagonal array.\n"
   ]
  },
  {
   "cell_type": "code",
   "execution_count": null,
   "metadata": {
    "colab": {
     "base_uri": "https://localhost:8080/"
    },
    "id": "CRtgaqBR7XnM",
    "outputId": "e122e811-52c5-4549-b013-c8c471bf71f7"
   },
   "outputs": [
    {
     "name": "stdout",
     "output_type": "stream",
     "text": [
      "[[1. 0. 0.]\n",
      " [0. 1. 0.]\n",
      " [0. 0. 1.]]\n",
      "[[0 0 0 0]\n",
      " [0 2 0 0]\n",
      " [0 0 4 0]\n",
      " [0 0 0 6]]\n",
      "[[0 0 0]\n",
      " [0 4 0]\n",
      " [0 0 8]]\n"
     ]
    }
   ],
   "source": [
    "import numpy as np\n",
    " \n",
    "print(np.identity(3))\n",
    " \n",
    "print(np.diag(np.arange(0, 8, 2)))\n",
    " \n",
    "print(np.diag(np.diag(np.arange(9).reshape((3,3)))))\n"
   ]
  },
  {
   "cell_type": "markdown",
   "metadata": {
    "id": "6FRU3j9j73A6"
   },
   "source": [
    "### **NumPy Indexing Examples**\n"
   ]
  },
  {
   "cell_type": "markdown",
   "metadata": {
    "id": "x8dhmZKa7-g2"
   },
   "source": [
    "NumPy creates an appropriate scale index at the time of array creation. In order to access a single or multiple items of an array, we need to pass array of indexes in square brackets.\n",
    "\n",
    "Indexing in two-dimensional array is represented by a pair of values, where the first value is the index of the row and the second is the index of the column.\n",
    "\n"
   ]
  },
  {
   "cell_type": "code",
   "execution_count": null,
   "metadata": {
    "colab": {
     "base_uri": "https://localhost:8080/"
    },
    "id": "LcBstWq58ChJ",
    "outputId": "dbaa4bd2-c691-460f-d6f4-a018a8567ca7"
   },
   "outputs": [
    {
     "name": "stdout",
     "output_type": "stream",
     "text": [
      "1\n",
      "6\n",
      "4\n",
      "2\n",
      "[1 6]\n",
      "----------\n",
      "[[1 2 3]\n",
      " [4 5 6]\n",
      " [7 8 9]]\n",
      "----------\n",
      "1\n",
      "2\n",
      "3\n",
      "2\n",
      "5\n",
      "8\n"
     ]
    }
   ],
   "source": [
    "import numpy as np\n",
    " \n",
    "array1d = np.array([1, 2, 3, 4, 5, 6])\n",
    "print(array1d[0])   # Get first value\n",
    "print(array1d[-1])  # Get last value\n",
    "print(array1d[3])   # Get 4th value from first\n",
    "print(array1d[-5])  # Get 5th value from last\n",
    " \n",
    "# Get multiple values\n",
    "print(array1d[[0, -1]])\n",
    " \n",
    "print(\"-\" * 10)\n",
    " \n",
    "array2d = np.array([[1, 2, 3], [4, 5, 6], [7, 8, 9]])\n",
    "print(array2d)\n",
    "print(\"-\" * 10)\n",
    " \n",
    "print(array2d[0, 0])   # Get first row first col\n",
    "print(array2d[0, 1])   # Get first row second col\n",
    "print(array2d[0, 2])   # Get first row third col\n",
    " \n",
    "print(array2d[0, 1])   # Get first row second col \n",
    "print(array2d[1, 1])   # Get second row second col\n",
    "print(array2d[2, 1])   # Get third row second col"
   ]
  },
  {
   "cell_type": "markdown",
   "metadata": {
    "id": "tUhllO-19TPr"
   },
   "source": [
    "### **NumPy Indexing in Multidimensional array**"
   ]
  },
  {
   "cell_type": "markdown",
   "metadata": {
    "id": "CYOe-zIO9p7H"
   },
   "source": [
    "Indexing in a 3-Dimensional Array is based on syntax: array3d[L,M,N] where L is the first index, M is the row no. and N is the column no."
   ]
  },
  {
   "cell_type": "code",
   "execution_count": null,
   "metadata": {
    "colab": {
     "base_uri": "https://localhost:8080/"
    },
    "id": "x5xKHjFK9tEu",
    "outputId": "b7df0c75-d6ef-4430-8013-292a44a9b7b5"
   },
   "outputs": [
    {
     "name": "stdout",
     "output_type": "stream",
     "text": [
      "[[[ 1  2  3]\n",
      "  [ 4  5  6]]\n",
      "\n",
      " [[ 7  8  9]\n",
      "  [10 11 12]]]\n",
      "1\n",
      "2\n",
      "3\n",
      "4\n",
      "5\n",
      "6\n",
      "7\n",
      "8\n",
      "9\n",
      "10\n",
      "11\n",
      "12\n"
     ]
    }
   ],
   "source": [
    "import numpy as np\n",
    " \n",
    "array3d = np.array([[[1, 2, 3], [4, 5, 6]], [[7, 8, 9], [10, 11, 12]]])\n",
    "print(array3d)\n",
    " \n",
    "print(array3d[0, 0, 0])\n",
    "print(array3d[0, 0, 1])\n",
    "print(array3d[0, 0, 2])\n",
    " \n",
    "print(array3d[0, 1, 0])\n",
    "print(array3d[0, 1, 1])\n",
    "print(array3d[0, 1, 2])\n",
    " \n",
    "print(array3d[1, 0, 0])\n",
    "print(array3d[1, 0, 1])\n",
    "print(array3d[1, 0, 2])\n",
    " \n",
    "print(array3d[1, 1, 0])\n",
    "print(array3d[1, 1, 1])\n",
    "print(array3d[1, 1, 2])\n"
   ]
  },
  {
   "cell_type": "markdown",
   "metadata": {
    "id": "CCd8y60r99Xr"
   },
   "source": [
    "### **NumPy Single Dimensional Slicing Examples**\n"
   ]
  },
  {
   "cell_type": "markdown",
   "metadata": {
    "id": "e4vFKBhU-Dfe"
   },
   "source": [
    "Slicing allows to extract portions of an array or select a subset of an existing array to generate new arrays. For slicing a sequence of numbers separated by colons (:) within square brackets.\n"
   ]
  },
  {
   "cell_type": "code",
   "execution_count": null,
   "metadata": {
    "colab": {
     "base_uri": "https://localhost:8080/"
    },
    "id": "1KFeouGc-G9J",
    "outputId": "91453cbf-7b15-4abf-b1fe-42f79060e496"
   },
   "outputs": [
    {
     "name": "stdout",
     "output_type": "stream",
     "text": [
      "[4 5 6 7 8 9]\n",
      "[0 1 2 3]\n",
      "[4 5 6]\n",
      "[0 1 2 3 4 5 6 7 8]\n",
      "[0 1 2 3 4 5 6 7]\n",
      "[9 8 7 6 5 4 3 2 1 0]\n",
      "[9 7 5 3 1]\n",
      "[8 6 4 2 0]\n",
      "[0 1 2 3 4 5 6 7 8 9]\n"
     ]
    }
   ],
   "source": [
    "import numpy as np\n",
    " \n",
    "array1d = np.array([0, 1, 2, 3, 4, 5, 6, 7, 8, 9])\n",
    " \n",
    "print(array1d[4:])  # From index 4 to last index\n",
    " \n",
    "print(array1d[:4])  # From index 0 to 4 index\n",
    " \n",
    "print(array1d[4:7])  # From index 4(included) up to index 7(excluded)\n",
    " \n",
    "print(array1d[:-1])  # Excluded last element\n",
    " \n",
    "print(array1d[:-2])  # Up to second last index(negative index)\n",
    " \n",
    "print(array1d[::-1])  # From last to first in reverse order(negative step)\n",
    " \n",
    "print(array1d[::-2])  # All odd numbers in reversed order\n",
    " \n",
    "print(array1d[-2::-2])  # All even numbers in reversed order\n",
    " \n",
    "print(array1d[::])  # All elements\n"
   ]
  },
  {
   "cell_type": "markdown",
   "metadata": {
    "id": "S4lJn3Sv-VPN"
   },
   "source": [
    "### **Multidimensional Slicing in NumPy Array**"
   ]
  },
  {
   "cell_type": "markdown",
   "metadata": {
    "id": "ySQ4LQIF-ZqY"
   },
   "source": [
    "For a two-dimensional array, the same slicing syntax applies, but it is separately defined for the rows and columns."
   ]
  },
  {
   "cell_type": "code",
   "execution_count": null,
   "metadata": {
    "colab": {
     "base_uri": "https://localhost:8080/"
    },
    "id": "WssWxXUo-dHd",
    "outputId": "1bd13a85-fdb4-4b86-acc8-92e574da1f70"
   },
   "outputs": [
    {
     "name": "stdout",
     "output_type": "stream",
     "text": [
      "----------\n",
      "[[1 2]\n",
      " [4 5]\n",
      " [7 8]]\n",
      "----------\n",
      "[[4 5 6]\n",
      " [7 8 9]]\n",
      "----------\n",
      "[[9 8 7]\n",
      " [6 5 4]\n",
      " [3 2 1]]\n"
     ]
    }
   ],
   "source": [
    "import numpy as np\n",
    " \n",
    "array2d = np.array([[1, 2, 3], [4, 5, 6], [7, 8, 9]])\n",
    " \n",
    "print(\"-\" * 10)\n",
    "print(array2d[:, 0:2])  # 2nd and 3rd col\n",
    " \n",
    "print(\"-\" * 10)\n",
    "print(array2d[1:3, 0:3])  # 2nd and 3rd row\n",
    " \n",
    "print(\"-\" * 10)\n",
    "print(array2d[-1::-1, -1::-1])  # Reverse an array"
   ]
  },
  {
   "cell_type": "markdown",
   "metadata": {
    "id": "XRk1LNYr-icU"
   },
   "source": [
    "### **Flips the order of the axes of an NumPy Array**\n"
   ]
  },
  {
   "cell_type": "markdown",
   "metadata": {
    "id": "0W6uLBJj-1lt"
   },
   "source": [
    "The transpose function transpose also exists as a method in ndarray and it permute the dimensions of an array. The fliplr (flip left-right) and flipud (flip up-down) functions perform operations that are similar to the transpose and the shape of the output array is the same as the input. The fliplr flip an array in the left/right direction. The flipud flip an array in the up/down direction. The rot90 Rotate an array by 90 degrees in the plane specified by axes and the rotation direction is from the first towards the second axis."
   ]
  },
  {
   "cell_type": "code",
   "execution_count": null,
   "metadata": {
    "colab": {
     "base_uri": "https://localhost:8080/"
    },
    "id": "-9Xb3bgQ-5Wn",
    "outputId": "a1aaef78-e52b-470d-a79b-e2c2f7a932a9"
   },
   "outputs": [
    {
     "name": "stdout",
     "output_type": "stream",
     "text": [
      "[[1 2 3]\n",
      " [4 5 6]\n",
      " [7 8 9]]\n",
      "----------\n",
      "[[1 4 7]\n",
      " [2 5 8]\n",
      " [3 6 9]]\n",
      "----------\n",
      "[[3 2 1]\n",
      " [6 5 4]\n",
      " [9 8 7]]\n",
      "----------\n",
      "[[7 8 9]\n",
      " [4 5 6]\n",
      " [1 2 3]]\n",
      "----------\n",
      "[[3 6 9]\n",
      " [2 5 8]\n",
      " [1 4 7]]\n"
     ]
    }
   ],
   "source": [
    "import numpy as np\n",
    " \n",
    "array2d = np.array([[1, 2, 3], [4, 5, 6], [7, 8, 9]])\n",
    "print(array2d)\n",
    " \n",
    "print(\"-\" * 10)\n",
    " \n",
    "# Permute the dimensions of an array.\n",
    "arrayT = np.transpose(array2d)\n",
    "print(arrayT)\n",
    " \n",
    "print(\"-\" * 10)\n",
    " \n",
    "# Flip array in the left/right direction.\n",
    "arrayFlr = np.fliplr(array2d)\n",
    "print(arrayFlr)\n",
    " \n",
    "print(\"-\" * 10)\n",
    " \n",
    "# Flip array in the up/down direction.\n",
    "arrayFud = np.flipud(array2d)\n",
    "print(arrayFud)\n",
    " \n",
    "print(\"-\" * 10)\n",
    " \n",
    "# Rotate an array by 90 degrees in the plane specified by axes.\n",
    "arrayRot90 = np.rot90(array2d)\n",
    "print(arrayRot90)\n"
   ]
  },
  {
   "cell_type": "markdown",
   "metadata": {
    "id": "IMtgIDPA_LdF"
   },
   "source": [
    "### **Joining and Stacking of NumPy arrays**\n"
   ]
  },
  {
   "cell_type": "markdown",
   "metadata": {
    "id": "X4xkoTFb_Xt-"
   },
   "source": [
    "NumPy uses the concept of stacking and provide a number of functions to perform: vertical stacking(row wise) using vstack(), horizontal stacking(column wise) using hstack() and depth wise stacking(along third axis) using dstack(). The concatenate() function creates a new array by appending arrays after each other, along a given axis. The append() function appends an element to an array and creates a new copy of the array.\n"
   ]
  },
  {
   "cell_type": "code",
   "execution_count": null,
   "metadata": {
    "colab": {
     "base_uri": "https://localhost:8080/"
    },
    "id": "ce77YIN5_cEM",
    "outputId": "1ccdbf25-77c4-452b-ec69-e3f01c972696"
   },
   "outputs": [
    {
     "name": "stdout",
     "output_type": "stream",
     "text": [
      "[[ 1  2  3  7  8  9]\n",
      " [ 4  5  6 10 11 12]]\n",
      "----------\n",
      "[[ 1  2  3]\n",
      " [ 4  5  6]\n",
      " [ 7  8  9]\n",
      " [10 11 12]]\n",
      "----------\n",
      "[[[ 1  7]\n",
      "  [ 2  8]\n",
      "  [ 3  9]]\n",
      "\n",
      " [[ 4 10]\n",
      "  [ 5 11]\n",
      "  [ 6 12]]]\n",
      "----------\n",
      "[[ 1  2  3]\n",
      " [ 4  5  6]\n",
      " [ 7  8  9]\n",
      " [10 11 12]]\n",
      "----------\n",
      "[[ 1  2  3]\n",
      " [ 4  5  6]\n",
      " [ 7  8  9]\n",
      " [10 11 12]]\n",
      "----------\n",
      "[[ 1  2  3  7  8  9]\n",
      " [ 4  5  6 10 11 12]]\n"
     ]
    }
   ],
   "source": [
    "import numpy as np\n",
    " \n",
    "array1 = np.array([[1, 2, 3], [4, 5, 6]])\n",
    "array2 = np.array([[7, 8, 9], [10, 11, 12]])\n",
    " \n",
    "# Stack arrays in sequence horizontally (column wise).\n",
    "arrayH = np.hstack((array1, array2))\n",
    "print(arrayH)\n",
    " \n",
    "print(\"-\" * 10)\n",
    " \n",
    "# Stack arrays in sequence vertically (row wise).\n",
    "arrayV = np.vstack((array1, array2))\n",
    "print(arrayV)\n",
    " \n",
    "print(\"-\" * 10)\n",
    " \n",
    "# Stack arrays in sequence depth wise (along third axis).\n",
    "arrayD = np.dstack((array1, array2))\n",
    "print(arrayD)\n",
    " \n",
    "print(\"-\" * 10)\n",
    " \n",
    "# Appending arrays after each other, along a given axis.\n",
    "arrayC = np.concatenate((array1, array2))\n",
    "print(arrayC)\n",
    " \n",
    "print(\"-\" * 10)\n",
    " \n",
    "# Append values to the end of an array.\n",
    "arrayA = np.append(array1, array2, axis=0)\n",
    "print(arrayA)\n",
    " \n",
    "print(\"-\" * 10)\n",
    "arrayA = np.append(array1, array2, axis=1)\n",
    "print(arrayA)\n"
   ]
  },
  {
   "cell_type": "markdown",
   "metadata": {
    "id": "RIenhW_w_oc1"
   },
   "source": [
    "### **Arithmetic Operations with NumPy Array**"
   ]
  },
  {
   "cell_type": "markdown",
   "metadata": {
    "id": "-5KQRmMN_ueW"
   },
   "source": [
    "The arithmetic operations with NumPy arrays perform element-wise operations, this means the operators are applied only between corresponding elements.\n"
   ]
  },
  {
   "cell_type": "code",
   "execution_count": null,
   "metadata": {
    "colab": {
     "base_uri": "https://localhost:8080/"
    },
    "id": "O28nwoAr_yjE",
    "outputId": "64ee8cb2-f7f3-43f4-b604-13c39102ddd6"
   },
   "outputs": [
    {
     "name": "stdout",
     "output_type": "stream",
     "text": [
      "[[ 8 10 12]\n",
      " [14 16 18]]\n",
      "--------------------\n",
      "[[-6 -6 -6]\n",
      " [-6 -6 -6]]\n",
      "--------------------\n",
      "[[ 7 16 27]\n",
      " [40 55 72]]\n",
      "--------------------\n",
      "[[7.  4.  3. ]\n",
      " [2.5 2.2 2. ]]\n",
      "----------------------------------------\n",
      "[[         1        256      19683]\n",
      " [   1048576   48828125 2176782336]]\n",
      "----------------------------------------\n"
     ]
    }
   ],
   "source": [
    "import numpy as np\n",
    " \n",
    "array1 = np.array([[1, 2, 3], [4, 5, 6]])\n",
    "array2 = np.array([[7, 8, 9], [10, 11, 12]])\n",
    " \n",
    "print(array1 + array2)\n",
    "print(\"-\" * 20)\n",
    " \n",
    "print(array1 - array2)\n",
    "print(\"-\" * 20)\n",
    " \n",
    "print(array1 * array2)\n",
    "print(\"-\" * 20)\n",
    " \n",
    "print(array2 / array1)\n",
    "print(\"-\" * 40)\n",
    " \n",
    "print(array1 ** array2)\n",
    "print(\"-\" * 40)\n"
   ]
  },
  {
   "cell_type": "markdown",
   "metadata": {
    "id": "n_am7v4tAAuv"
   },
   "source": [
    "### **Scalar Arithmetic Operations on NumPy Array**\n"
   ]
  },
  {
   "cell_type": "markdown",
   "metadata": {
    "id": "gdrzPvomALnM"
   },
   "source": [
    "During scalar operations, the scalar value is applied to each element in the array."
   ]
  },
  {
   "cell_type": "code",
   "execution_count": null,
   "metadata": {
    "colab": {
     "base_uri": "https://localhost:8080/"
    },
    "id": "pGSFgTrUAOWR",
    "outputId": "8b5df48e-b6f9-4371-dbf6-8a20f34ab632"
   },
   "outputs": [
    {
     "name": "stdout",
     "output_type": "stream",
     "text": [
      "[[12 22 32]\n",
      " [42 52 62]]\n",
      "--------------------\n",
      "[[ 5 15 25]\n",
      " [35 45 55]]\n",
      "--------------------\n",
      "[[ 20  40  60]\n",
      " [ 80 100 120]]\n",
      "--------------------\n",
      "[[ 2.  4.  6.]\n",
      " [ 8. 10. 12.]]\n",
      "--------------------\n",
      "[[ 100  400  900]\n",
      " [1600 2500 3600]]\n",
      "--------------------\n"
     ]
    }
   ],
   "source": [
    "import numpy as np\n",
    " \n",
    "array1 = np.array([[10, 20, 30], [40, 50, 60]])\n",
    " \n",
    "print(array1 + 2)\n",
    "print(\"-\" * 20)\n",
    " \n",
    "print(array1 - 5)\n",
    "print(\"-\" * 20)\n",
    " \n",
    "print(array1 * 2)\n",
    "print(\"-\" * 20)\n",
    " \n",
    "print(array1 / 5)\n",
    "print(\"-\" * 20)\n",
    " \n",
    "print(array1 ** 2)\n",
    "print(\"-\" * 20)\n"
   ]
  },
  {
   "cell_type": "markdown",
   "metadata": {
    "id": "U3kPUbAUAX2h"
   },
   "source": [
    "### **NumPy Elementary Mathematical Functions**"
   ]
  },
  {
   "cell_type": "markdown",
   "metadata": {
    "id": "ysE47IywAeS3"
   },
   "source": [
    "These mathematical functions takes a single array of any dimension as input and returns a new array of the same shape.\n"
   ]
  },
  {
   "cell_type": "code",
   "execution_count": null,
   "metadata": {
    "colab": {
     "base_uri": "https://localhost:8080/"
    },
    "id": "o_1Be_NAAhoq",
    "outputId": "a868a49b-3515-406e-e8c7-7d8a0a0f2345"
   },
   "outputs": [
    {
     "name": "stdout",
     "output_type": "stream",
     "text": [
      "[[-0.54402111  0.91294525 -0.98803162]\n",
      " [ 0.74511316 -0.26237485 -0.30481062]]\n",
      "----------------------------------------\n",
      "[[-0.83907153  0.40808206  0.15425145]\n",
      " [-0.66693806  0.96496603 -0.95241298]]\n",
      "----------------------------------------\n",
      "[[ 0.64836083  2.23716094 -6.4053312 ]\n",
      " [-1.11721493 -0.27190061  0.32004039]]\n",
      "----------------------------------------\n",
      "[[3.16227766 4.47213595 5.47722558]\n",
      " [6.32455532 7.07106781 7.74596669]]\n",
      "----------------------------------------\n",
      "[[2.20264658e+04 4.85165195e+08 1.06864746e+13]\n",
      " [2.35385267e+17 5.18470553e+21 1.14200739e+26]]\n",
      "----------------------------------------\n",
      "[[1.         1.30103    1.47712125]\n",
      " [1.60205999 1.69897    1.77815125]]\n",
      "----------------------------------------\n"
     ]
    }
   ],
   "source": [
    "import numpy as np\n",
    " \n",
    "array1 = np.array([[10, 20, 30], [40, 50, 60]])\n",
    " \n",
    "print(np.sin(array1))\n",
    "print(\"-\" * 40)\n",
    " \n",
    "print(np.cos(array1))\n",
    "print(\"-\" * 40)\n",
    " \n",
    "print(np.tan(array1))\n",
    "print(\"-\" * 40)\n",
    " \n",
    "print(np.sqrt(array1))\n",
    "print(\"-\" * 40)\n",
    " \n",
    "print(np.exp(array1))\n",
    "print(\"-\" * 40)\n",
    " \n",
    "print(np.log10(array1))\n",
    "print(\"-\" * 40)"
   ]
  },
  {
   "cell_type": "markdown",
   "metadata": {
    "id": "BCGJmJBGAvNN"
   },
   "source": [
    "### **NumPy Element Wise Mathematical Operations**"
   ]
  },
  {
   "cell_type": "code",
   "execution_count": null,
   "metadata": {
    "colab": {
     "base_uri": "https://localhost:8080/"
    },
    "id": "XreRnql2A1Dj",
    "outputId": "9b04af1a-f19e-43b1-a445-cbb2232f1fd3"
   },
   "outputs": [
    {
     "name": "stdout",
     "output_type": "stream",
     "text": [
      "[[12 23 34]\n",
      " [44 56 68]]\n",
      "----------------------------------------\n",
      "[[            100            8000          810000]\n",
      " [        2560000     15625000000 167961600000000]]\n",
      "----------------------------------------\n",
      "[[2 3 4]\n",
      " [4 1 3]]\n",
      "----------------------------------------\n",
      "[[-0.5         0.28571429 -0.25      ]\n",
      " [ 0.24691358 -0.16666667  0.125     ]]\n",
      "----------------------------------------\n",
      "[[-1.  1. -1.]\n",
      " [ 1. -1.  1.]]\n",
      "----------------------------------------\n",
      "[[-2.  4. -4.]\n",
      " [ 5. -6.  8.]]\n",
      "----------------------------------------\n",
      "[[-2.  4. -4.]\n",
      " [ 4. -6.  8.]]\n",
      "----------------------------------------\n"
     ]
    }
   ],
   "source": [
    "import numpy as np\n",
    " \n",
    "array1 = np.array([[10, 20, 30], [40, 50, 60]])\n",
    "array2 = np.array([[2, 3, 4], [4, 6, 8]])\n",
    "array3 = np.array([[-2, 3.5, -4], [4.05, -6, 8]])\n",
    " \n",
    "print(np.add(array1, array2))\n",
    "print(\"-\" * 40)\n",
    " \n",
    "print(np.power(array1, array2))\n",
    "print(\"-\" * 40)\n",
    " \n",
    "print(np.remainder((array2), 5))\n",
    "print(\"-\" * 40)\n",
    " \n",
    "print(np.reciprocal(array3))\n",
    "print(\"-\" * 40)\n",
    " \n",
    "print(np.sign(array3))\n",
    "print(\"-\" * 40)\n",
    " \n",
    "print(np.ceil(array3))\n",
    "print(\"-\" * 40)\n",
    " \n",
    "print(np.round(array3))\n",
    "print(\"-\" * 40)\n"
   ]
  },
  {
   "cell_type": "markdown",
   "metadata": {
    "id": "Nhsoe1Z4BBnk"
   },
   "source": [
    "### **NumPy Aggregate and Statistical Functions**"
   ]
  },
  {
   "cell_type": "code",
   "execution_count": null,
   "metadata": {
    "colab": {
     "base_uri": "https://localhost:8080/"
    },
    "id": "ekThHYx2BH50",
    "outputId": "28bfe59a-380c-4abe-9072-c4d2cb723e44"
   },
   "outputs": [
    {
     "name": "stdout",
     "output_type": "stream",
     "text": [
      "Mean:  35.0\n",
      "Std:  17.07825127659933\n",
      "Var:  291.6666666666667\n",
      "Sum:  210\n",
      "Prod:  720000000\n"
     ]
    }
   ],
   "source": [
    "import numpy as np\n",
    " \n",
    "array1 = np.array([[10, 20, 30], [40, 50, 60]])\n",
    " \n",
    "print(\"Mean: \", np.mean(array1))\n",
    " \n",
    "print(\"Std: \", np.std(array1))\n",
    " \n",
    "print(\"Var: \", np.var(array1))\n",
    " \n",
    "print(\"Sum: \", np.sum(array1))\n",
    " \n",
    "print(\"Prod: \", np.prod(array1))"
   ]
  },
  {
   "cell_type": "markdown",
   "metadata": {
    "id": "9akx5zHsBOPB"
   },
   "source": [
    "### **NumPy Example of Where function**"
   ]
  },
  {
   "cell_type": "markdown",
   "metadata": {
    "id": "WwhJTTWIBUeQ"
   },
   "source": [
    "The where() function is used to chooses values from arrays depending on the value of a specific condition.\n"
   ]
  },
  {
   "cell_type": "code",
   "execution_count": null,
   "metadata": {
    "colab": {
     "base_uri": "https://localhost:8080/"
    },
    "id": "ryqIRaPaBWv9",
    "outputId": "8034a0a2-919d-4102-94ec-3bb47e8cd476"
   },
   "outputs": [
    {
     "name": "stdout",
     "output_type": "stream",
     "text": [
      "[[ 2  4  6]\n",
      " [12 15 18]]\n"
     ]
    }
   ],
   "source": [
    "import numpy as np\n",
    " \n",
    "before = np.array([[1, 2, 3], [4, 5, 6]])\n",
    " \n",
    "# If element is less than 4, mul by 2 else by 3\n",
    "after = np.where(before < 4, before * 2, before * 3)\n",
    " \n",
    "print(after)"
   ]
  },
  {
   "cell_type": "markdown",
   "metadata": {
    "id": "SSp0cmwWBrpH"
   },
   "source": [
    "### **NumPy Example of Select function**"
   ]
  },
  {
   "cell_type": "markdown",
   "metadata": {
    "id": "ppJQREgjBvaE"
   },
   "source": [
    "The select() function return an array drawn from elements in choice list, depending on conditions.\n"
   ]
  },
  {
   "cell_type": "code",
   "execution_count": 2,
   "metadata": {
    "colab": {
     "base_uri": "https://localhost:8080/",
     "height": 408
    },
    "id": "BOw5ky7DC13f",
    "outputId": "6ffea79a-eb57-4777-ffc9-9526895d6843"
   },
   "outputs": [
    {
     "name": "stdout",
     "output_type": "stream",
     "text": [
      "[1 2 3]\n"
     ]
    }
   ],
   "source": [
    "import numpy as np\n",
    "before = np.array([[1, 2, 3], [4, 5, 6]])\n",
    "# If element is less than 4, mul by 2 else by 3\n",
    "after = np.select(before < 4, before)\n",
    "print(after)\n"
   ]
  },
  {
   "cell_type": "markdown",
   "metadata": {
    "id": "MUjp0xAvDDdH"
   },
   "source": [
    "### **NumPy Example of Choose function**"
   ]
  },
  {
   "cell_type": "markdown",
   "metadata": {
    "id": "wzIWBN0CDJX5"
   },
   "source": [
    "Construct an array from an index array and a set of arrays to choose from.\n"
   ]
  },
  {
   "cell_type": "code",
   "execution_count": null,
   "metadata": {
    "colab": {
     "base_uri": "https://localhost:8080/"
    },
    "id": "RU6QbhhdDIDF",
    "outputId": "55d884f2-464f-405d-e8da-b5e0d6f8f407"
   },
   "outputs": [
    {
     "name": "stdout",
     "output_type": "stream",
     "text": [
      "[[ 5 10 15]\n",
      " [15  5 10]\n",
      " [10 15  5]]\n",
      "----------\n",
      "[[ 5 10 15]\n",
      " [ 9 18 27]\n",
      " [ 8 16 24]]\n"
     ]
    }
   ],
   "source": [
    "import numpy as np\n",
    " \n",
    "before = np.array([[0, 1, 2], [2, 0, 1], [1, 2, 0]])\n",
    "choices = [5, 10, 15]\n",
    " \n",
    "after = np.choose(before, choices)\n",
    "print(after)\n",
    " \n",
    "print(\"-\" * 10)\n",
    " \n",
    "before = np.array([[0, 0, 0], [2, 2, 2], [1, 1, 1]])\n",
    "choice1 = [5, 10, 15]\n",
    "choice2 = [8, 16, 24]\n",
    "choice3 = [9, 18, 27]\n",
    " \n",
    "after = np.choose(before, (choice1, choice2, choice3))\n",
    "print(after)\n"
   ]
  },
  {
   "cell_type": "markdown",
   "metadata": {
    "id": "SO5-n_rvDUIO"
   },
   "source": [
    "### **NumPy Logical operations for selectively picking values from an array depending on a given condition**\n"
   ]
  },
  {
   "cell_type": "markdown",
   "metadata": {
    "id": "akHlXRM4Dafp"
   },
   "source": [
    "logical_or computes the truth value of x1 OR x2 element-wise. logical_and computes the truth value of x1 AND x2 element-wise. logical_or computes the truth value of NOT x element-wise."
   ]
  },
  {
   "cell_type": "code",
   "execution_count": null,
   "metadata": {
    "colab": {
     "base_uri": "https://localhost:8080/"
    },
    "id": "qU-skgXhDdIA",
    "outputId": "99556cf8-649a-4d26-9aef-676df951dd25"
   },
   "outputs": [
    {
     "name": "stdout",
     "output_type": "stream",
     "text": [
      "[[False  True  True]\n",
      " [False  True  True]]\n",
      "------------------------------\n",
      "[[False False False]\n",
      " [False False False]]\n",
      "------------------------------\n",
      "[[False  True  True]\n",
      " [False  True  True]]\n",
      "------------------------------\n"
     ]
    }
   ],
   "source": [
    "import numpy as np\n",
    " \n",
    "thearray = np.array([[10, 20, 30], [14, 24, 36]])\n",
    " \n",
    "print(np.logical_or(thearray < 10, thearray > 15))\n",
    "print(\"-\" * 30)\n",
    " \n",
    "print(np.logical_and(thearray < 10, thearray > 15))\n",
    "print(\"-\" * 30)\n",
    " \n",
    "print(np.logical_not(thearray < 20))\n",
    "print(\"-\" * 30)\n"
   ]
  },
  {
   "cell_type": "markdown",
   "metadata": {
    "id": "I9AzMHCgDmgL"
   },
   "source": [
    "### **NumPy example of Standard Set Operations**"
   ]
  },
  {
   "cell_type": "markdown",
   "metadata": {
    "id": "-fXiYxkKDpgs"
   },
   "source": [
    "The standard set operations union (array of values that are in either of the two input arrays), intersection (unique values that are in both of the input arrays), and difference (unique values in array1 that are not in array2) are provided by np.union1d(), np.intersect1d(), and np.setdiff1d(), respectively."
   ]
  },
  {
   "cell_type": "code",
   "execution_count": null,
   "metadata": {
    "colab": {
     "base_uri": "https://localhost:8080/"
    },
    "id": "G5yomzI5DtKC",
    "outputId": "5f10176b-7bd4-4adb-f811-3b5a15a7cb0e"
   },
   "outputs": [
    {
     "name": "stdout",
     "output_type": "stream",
     "text": [
      "[10 14 20 24 30 34 36 40 46 50]\n",
      "[20 24]\n",
      "[10 14 30 36]\n"
     ]
    }
   ],
   "source": [
    "import numpy as np\n",
    " \n",
    "array1 = np.array([[10, 20, 30], [14, 24, 36]])\n",
    "array2 = np.array([[20, 40, 50], [24, 34, 46]])\n",
    " \n",
    "# Find the union of two arrays.\n",
    "print(np.union1d(array1, array2))\n",
    " \n",
    "# Find the intersection of two arrays.\n",
    "print(np.intersect1d(array1, array2))\n",
    " \n",
    "# Find the set difference of two arrays.\n",
    "print(np.setdiff1d(array1, array2))"
   ]
  },
  {
   "cell_type": "markdown",
   "metadata": {
    "id": "x2UfMC-4E2UD"
   },
   "source": [
    "### **How to find the mean values across dimensions in a NumPy array in Python?**\n"
   ]
  },
  {
   "cell_type": "markdown",
   "metadata": {
    "id": "bv_ULsRmE7VH"
   },
   "source": [
    "Calculate mean values across each column"
   ]
  },
  {
   "cell_type": "code",
   "execution_count": null,
   "metadata": {
    "colab": {
     "base_uri": "https://localhost:8080/"
    },
    "id": "Vnpxzb_FE974",
    "outputId": "dd0cae5f-96e8-4847-ab44-0bf79911bce9"
   },
   "outputs": [
    {
     "name": "stdout",
     "output_type": "stream",
     "text": [
      "[3. 4. 5. 6.]\n"
     ]
    }
   ],
   "source": [
    "import numpy as np\n",
    " \n",
    "the_array = np.array([[1, 2, 3, 4], [5, 6, 7, 8]])\n",
    "mean_array = the_array.mean(axis=0)\n",
    "print(mean_array)"
   ]
  },
  {
   "cell_type": "markdown",
   "metadata": {
    "id": "_CcMulZ4FB4Q"
   },
   "source": [
    "Calculate mean values of each row"
   ]
  },
  {
   "cell_type": "code",
   "execution_count": null,
   "metadata": {
    "colab": {
     "base_uri": "https://localhost:8080/"
    },
    "id": "9xYwxHsoFG5U",
    "outputId": "51b96cb4-722e-4c9c-9933-e8b4df7538b4"
   },
   "outputs": [
    {
     "name": "stdout",
     "output_type": "stream",
     "text": [
      "[2.5 6.5]\n"
     ]
    }
   ],
   "source": [
    "import numpy as np\n",
    " \n",
    "the_array = np.array([[1, 2, 3, 4], [5, 6, 7, 8]])\n",
    "mean_array = the_array.mean(axis=1)\n",
    "print(mean_array)"
   ]
  },
  {
   "cell_type": "markdown",
   "metadata": {
    "id": "OdXbn5QZFLKv"
   },
   "source": [
    "Mean of First column only"
   ]
  },
  {
   "cell_type": "code",
   "execution_count": null,
   "metadata": {
    "colab": {
     "base_uri": "https://localhost:8080/"
    },
    "id": "0n_j26pgFNup",
    "outputId": "18faf852-f663-40cb-f629-386cf13625d8"
   },
   "outputs": [
    {
     "name": "stdout",
     "output_type": "stream",
     "text": [
      "3.0\n"
     ]
    }
   ],
   "source": [
    "import numpy as np\n",
    "the_array = np.array([[1, 2, 3, 4], [5, 6, 7, 8]])\n",
    "mean_array = the_array[:, 0].mean()\n",
    "print(mean_array)"
   ]
  },
  {
   "cell_type": "markdown",
   "metadata": {
    "id": "c6aRy2iKFVK6"
   },
   "source": [
    "Mean of Second column only\n"
   ]
  },
  {
   "cell_type": "code",
   "execution_count": null,
   "metadata": {
    "colab": {
     "base_uri": "https://localhost:8080/"
    },
    "id": "09bW2wsxFXH5",
    "outputId": "7a463c9f-7667-40ef-d1a6-89c1901ea8c1"
   },
   "outputs": [
    {
     "name": "stdout",
     "output_type": "stream",
     "text": [
      "3.0\n"
     ]
    }
   ],
   "source": [
    "import numpy as np\n",
    "the_array = np.array([[1, 2, 3, 4], [5, 6, 7, 8]])\n",
    "mean_array = the_array[:, 0].mean()\n",
    "print(mean_array)"
   ]
  },
  {
   "cell_type": "markdown",
   "metadata": {
    "id": "kq66uk_VFr6T"
   },
   "source": [
    "### **How to use numpy.any() in Python?**"
   ]
  },
  {
   "cell_type": "markdown",
   "metadata": {
    "id": "oytz3zCPGFUB"
   },
   "source": [
    "Use np.any() to test if any list element evaluates to True\n"
   ]
  },
  {
   "cell_type": "code",
   "execution_count": null,
   "metadata": {
    "colab": {
     "base_uri": "https://localhost:8080/"
    },
    "id": "2PBqJNyPF4Zz",
    "outputId": "f66c7e5e-e4a7-457c-ae9c-97283c6bb00d"
   },
   "outputs": [
    {
     "name": "stdout",
     "output_type": "stream",
     "text": [
      "True\n",
      "False\n"
     ]
    }
   ],
   "source": [
    "import numpy as np\n",
    "thearr = [[True, False], [True, True]]\n",
    "thebool = np.any(thearr)\n",
    "print(thebool)\n",
    "thearr = [[False, False], [False, False]]\n",
    "thebool = np.any(thearr)\n",
    "print(thebool)"
   ]
  },
  {
   "cell_type": "markdown",
   "metadata": {
    "id": "ESW5g5CrGY6f"
   },
   "source": [
    "### **How to use numpy.all() in Python?**\n"
   ]
  },
  {
   "cell_type": "markdown",
   "metadata": {
    "id": "UOgOto8-GduQ"
   },
   "source": [
    "Use np.all() to test if all list element evaluates to True or False\n"
   ]
  },
  {
   "cell_type": "code",
   "execution_count": null,
   "metadata": {
    "colab": {
     "base_uri": "https://localhost:8080/"
    },
    "id": "_35daV-ZGf_x",
    "outputId": "212282a6-377e-45de-9d08-b19b94aa38ac"
   },
   "outputs": [
    {
     "name": "stdout",
     "output_type": "stream",
     "text": [
      "True\n",
      "False\n",
      "False\n"
     ]
    }
   ],
   "source": [
    "import numpy as np\n",
    "thelist = [[True, True], [True, True]]\n",
    "thebool = np.all(thelist)\n",
    "print(thebool)\n",
    "thelist = [[False, False], [False, False]]\n",
    "thebool = np.all(thelist)\n",
    "print(thebool)\n",
    "thelist = [[True, False], [True, False]]\n",
    "thebool = np.all(thelist)\n",
    "print(thebool)"
   ]
  },
  {
   "cell_type": "markdown",
   "metadata": {
    "id": "MAaFaFW6Gtz_"
   },
   "source": [
    "### **How to initialize a NumPy array in Python?**\n"
   ]
  },
  {
   "cell_type": "markdown",
   "metadata": {
    "id": "3xtken_sG2J1"
   },
   "source": [
    "Initialize Numpy Array with specified values\n"
   ]
  },
  {
   "cell_type": "code",
   "execution_count": null,
   "metadata": {
    "colab": {
     "base_uri": "https://localhost:8080/"
    },
    "id": "Hrq8eKYzG5CS",
    "outputId": "f27c71c5-89aa-4596-ea41-3f0822b5f35a"
   },
   "outputs": [
    {
     "name": "stdout",
     "output_type": "stream",
     "text": [
      "[[1 2]\n",
      " [3 4]\n",
      " [5 6]]\n"
     ]
    }
   ],
   "source": [
    "import numpy as np\n",
    "thearray = np.array([[1, 2], [3, 4], [5, 6]])\n",
    "print(thearray)"
   ]
  },
  {
   "cell_type": "markdown",
   "metadata": {
    "id": "Khro96e-HGmk"
   },
   "source": [
    "Initialize an empty Numpy Array\n"
   ]
  },
  {
   "cell_type": "code",
   "execution_count": null,
   "metadata": {
    "colab": {
     "base_uri": "https://localhost:8080/"
    },
    "id": "tN6w_HHXHKsN",
    "outputId": "533e4932-8b55-4462-8f45-852ae18c9261"
   },
   "outputs": [
    {
     "name": "stdout",
     "output_type": "stream",
     "text": [
      "[[3. 4.]\n",
      " [5. 6.]]\n"
     ]
    }
   ],
   "source": [
    "import numpy as np\n",
    "\n",
    "thearray = np.empty((2, 2))\n",
    "print(thearray)"
   ]
  },
  {
   "cell_type": "markdown",
   "metadata": {
    "id": "RNcBdV4vHVVB"
   },
   "source": [
    "Initialize an Numpy Array with Zeros\n"
   ]
  },
  {
   "cell_type": "code",
   "execution_count": null,
   "metadata": {
    "colab": {
     "base_uri": "https://localhost:8080/"
    },
    "id": "-DaYfQMrHZK1",
    "outputId": "7a009b17-7a5d-4e07-e5b7-a5b8f9c47ca9"
   },
   "outputs": [
    {
     "name": "stdout",
     "output_type": "stream",
     "text": [
      "[[0. 0.]\n",
      " [0. 0.]]\n"
     ]
    }
   ],
   "source": [
    "import numpy as np\n",
    "thearray = np.zeros((2, 2))\n",
    "print(thearray)"
   ]
  },
  {
   "cell_type": "markdown",
   "metadata": {
    "id": "cc-vJ8RiHe7y"
   },
   "source": [
    "Initialize an Numpy Array with Ones\n"
   ]
  },
  {
   "cell_type": "code",
   "execution_count": null,
   "metadata": {
    "colab": {
     "base_uri": "https://localhost:8080/"
    },
    "id": "Ab4ofM13HhjT",
    "outputId": "326dbad4-cbd3-4ac5-8e0a-1fb4bb8e7687"
   },
   "outputs": [
    {
     "name": "stdout",
     "output_type": "stream",
     "text": [
      "[[1. 1.]\n",
      " [1. 1.]]\n"
     ]
    }
   ],
   "source": [
    "import numpy as np\n",
    "thearray = np.ones((2, 2))\n",
    "print(thearray)"
   ]
  },
  {
   "cell_type": "markdown",
   "metadata": {
    "id": "ZnJysfw7HoYO"
   },
   "source": [
    "### **How to check if a NumPy array is empty in Python?**"
   ]
  },
  {
   "cell_type": "markdown",
   "metadata": {
    "id": "sYKpkPex5i3C"
   },
   "source": [
    "Use numpy.ndarray.size to check if array is empty\n"
   ]
  },
  {
   "cell_type": "code",
   "execution_count": null,
   "metadata": {
    "colab": {
     "base_uri": "https://localhost:8080/"
    },
    "id": "Ss9NT0925r_y",
    "outputId": "cfab1e19-160a-4808-c6ab-a2427cb9ff6e"
   },
   "outputs": [
    {
     "name": "stdout",
     "output_type": "stream",
     "text": [
      "True\n",
      "False\n"
     ]
    }
   ],
   "source": [
    "import numpy as np\n",
    " \n",
    "the_array = np.array([])\n",
    "is_empty = the_array.size == 0\n",
    "print(is_empty)\n",
    " \n",
    "the_array = np.array([1, 2, 3])\n",
    "is_empty = the_array.size == 0\n",
    "print(is_empty)"
   ]
  },
  {
   "cell_type": "markdown",
   "metadata": {
    "id": "A3AkSE7H6STc"
   },
   "source": [
    "### **How to create a 3D NumPy array with values in Python?**\n"
   ]
  },
  {
   "cell_type": "markdown",
   "metadata": {
    "id": "ThzwKMkX6V0q"
   },
   "source": [
    "3D numpy array with specific values"
   ]
  },
  {
   "cell_type": "code",
   "execution_count": null,
   "metadata": {
    "colab": {
     "base_uri": "https://localhost:8080/"
    },
    "id": "QxeI6F396bez",
    "outputId": "ba727604-f9b5-4737-830e-bbf5c6c9965e"
   },
   "outputs": [
    {
     "name": "stdout",
     "output_type": "stream",
     "text": [
      "[[[1 2]\n",
      "  [3 4]]\n",
      "\n",
      " [[5 6]\n",
      "  [7 8]]]\n"
     ]
    }
   ],
   "source": [
    "import numpy as np\n",
    "the_3d_array = np.array([[[1, 2], [3, 4]], [[5, 6], [7, 8]]])\n",
    "print(the_3d_array)"
   ]
  },
  {
   "cell_type": "markdown",
   "metadata": {
    "id": "qRqi95aN65VY"
   },
   "source": [
    "### **How to create a 3D NumPy array of Zeros in Python?**\n"
   ]
  },
  {
   "cell_type": "markdown",
   "metadata": {
    "id": "047xxgVl7BLf"
   },
   "source": [
    "Create 3D Numpy array of Zeros\n"
   ]
  },
  {
   "cell_type": "code",
   "execution_count": null,
   "metadata": {
    "colab": {
     "base_uri": "https://localhost:8080/"
    },
    "id": "o3zk5jSV7EHR",
    "outputId": "16e06625-883f-4c8d-af2a-9cd962a1a213"
   },
   "outputs": [
    {
     "name": "stdout",
     "output_type": "stream",
     "text": [
      "[[[0. 0.]\n",
      "  [0. 0.]]\n",
      "\n",
      " [[0. 0.]\n",
      "  [0. 0.]]]\n"
     ]
    }
   ],
   "source": [
    "import numpy as np\n",
    "the_3d_array = np.zeros((2, 2, 2))\n",
    "print(the_3d_array)"
   ]
  },
  {
   "cell_type": "markdown",
   "metadata": {
    "id": "BAedckNC7dfg"
   },
   "source": [
    "### **How to create a 3D NumPy array of Ones in Python?**\n"
   ]
  },
  {
   "cell_type": "markdown",
   "metadata": {
    "id": "TzSmn4Px74v1"
   },
   "source": [
    "Create 3D Numpy array of Ones\n"
   ]
  },
  {
   "cell_type": "code",
   "execution_count": null,
   "metadata": {
    "colab": {
     "base_uri": "https://localhost:8080/"
    },
    "id": "RueHvXLQ78GQ",
    "outputId": "b9c02173-7dac-408a-8660-187e22b8c1be"
   },
   "outputs": [
    {
     "name": "stdout",
     "output_type": "stream",
     "text": [
      "[[[1. 1.]\n",
      "  [1. 1.]]\n",
      "\n",
      " [[1. 1.]\n",
      "  [1. 1.]]]\n"
     ]
    }
   ],
   "source": [
    "import numpy as np\n",
    "the_3d_array = np.ones((2, 2, 2))\n",
    "print(the_3d_array)"
   ]
  },
  {
   "cell_type": "markdown",
   "metadata": {
    "id": "0gnOXdl-8YUj"
   },
   "source": [
    "### **5 examples to filter a NumPy array based on two conditions in Python**\n"
   ]
  },
  {
   "cell_type": "markdown",
   "metadata": {
    "id": "wSe6a7c88dL3"
   },
   "source": [
    "Example-1\n"
   ]
  },
  {
   "cell_type": "code",
   "execution_count": null,
   "metadata": {
    "colab": {
     "base_uri": "https://localhost:8080/"
    },
    "id": "lcEPf-yi8gKV",
    "outputId": "80b2831a-041d-4cad-a84b-847dbf16bb1b"
   },
   "outputs": [
    {
     "name": "stdout",
     "output_type": "stream",
     "text": [
      "[4 5 6 7]\n"
     ]
    }
   ],
   "source": [
    "import numpy as np\n",
    "the_array = np.array([1, 2, 3, 4, 5, 6, 7, 8, 9])\n",
    "filter_arr = np.logical_and(np.greater(the_array, 3), np.less(the_array, 8))\n",
    "print(the_array[filter_arr])"
   ]
  },
  {
   "cell_type": "markdown",
   "metadata": {
    "id": "iTcdCdZ08o66"
   },
   "source": [
    "Example-2\n"
   ]
  },
  {
   "cell_type": "code",
   "execution_count": null,
   "metadata": {
    "colab": {
     "base_uri": "https://localhost:8080/"
    },
    "id": "t6v5S3vu8r6T",
    "outputId": "d803c4ae-05f5-486a-ab29-aa7088f111bd"
   },
   "outputs": [
    {
     "name": "stdout",
     "output_type": "stream",
     "text": [
      "[1 2 4]\n"
     ]
    }
   ],
   "source": [
    "import numpy as np\n",
    "the_array = np.array([1, 2, 3, 4, 5, 6, 7, 8, 9])\n",
    "filter_arr = np.logical_or(the_array < 3, the_array == 4)\n",
    "print(the_array[filter_arr])"
   ]
  },
  {
   "cell_type": "markdown",
   "metadata": {
    "id": "9gGV1RPR84Wz"
   },
   "source": [
    "Example-3\n"
   ]
  },
  {
   "cell_type": "code",
   "execution_count": null,
   "metadata": {
    "colab": {
     "base_uri": "https://localhost:8080/"
    },
    "id": "xKkpAfg_87Xy",
    "outputId": "2cce2ec6-9fa7-4752-8d43-2fdf7e51ab25"
   },
   "outputs": [
    {
     "name": "stdout",
     "output_type": "stream",
     "text": [
      "[1]\n"
     ]
    }
   ],
   "source": [
    "import numpy as np\n",
    "the_array = np.array([1, 2, 3, 4, 5, 6, 7, 8, 9])\n",
    "filter_arr = np.logical_not(the_array > 1, the_array < 5)\n",
    "print(the_array[filter_arr])"
   ]
  },
  {
   "cell_type": "markdown",
   "metadata": {
    "id": "Ezh0cXAM9Ff4"
   },
   "source": [
    "Example-4\n"
   ]
  },
  {
   "cell_type": "code",
   "execution_count": null,
   "metadata": {
    "colab": {
     "base_uri": "https://localhost:8080/"
    },
    "id": "Dn0uMx1p9IWh",
    "outputId": "a778f471-48d9-41f8-8cae-478e0d6b136c"
   },
   "outputs": [
    {
     "name": "stdout",
     "output_type": "stream",
     "text": [
      "[1 2 3 4 8]\n"
     ]
    }
   ],
   "source": [
    "import numpy as np\n",
    "the_array = np.array([1, 2, 3, 4, 5, 6, 7, 8, 9])\n",
    "filter_arr = np.logical_or(the_array == 8, the_array < 5)\n",
    "print(the_array[filter_arr])"
   ]
  },
  {
   "cell_type": "markdown",
   "metadata": {
    "id": "IHjW-f3r9OH4"
   },
   "source": [
    "Example-5\n"
   ]
  },
  {
   "cell_type": "code",
   "execution_count": null,
   "metadata": {
    "colab": {
     "base_uri": "https://localhost:8080/"
    },
    "id": "Pcga4NfB9U3O",
    "outputId": "2857a9a0-82f3-481f-b86d-85abcf498e9e"
   },
   "outputs": [
    {
     "name": "stdout",
     "output_type": "stream",
     "text": [
      "[]\n"
     ]
    }
   ],
   "source": [
    "import numpy as np\n",
    "the_array = np.array([1, 2, 3, 4, 5, 6, 7, 8, 9])\n",
    "filter_arr = np.logical_and(the_array == 8, the_array < 5)\n",
    "print(the_array[filter_arr])"
   ]
  },
  {
   "cell_type": "markdown",
   "metadata": {
    "id": "6-vmS0wE9hxx"
   },
   "source": [
    "### **How to find the index of the max value in a NumPy array in Python?**\n"
   ]
  },
  {
   "cell_type": "markdown",
   "metadata": {
    "id": "rjDYMzrO9pGZ"
   },
   "source": [
    "Find index of max value\n"
   ]
  },
  {
   "cell_type": "code",
   "execution_count": null,
   "metadata": {
    "colab": {
     "base_uri": "https://localhost:8080/"
    },
    "id": "xzlX5uEr9rtJ",
    "outputId": "f27eef11-6835-4fd8-9e65-d41c4db3dbde"
   },
   "outputs": [
    {
     "name": "stdout",
     "output_type": "stream",
     "text": [
      "2\n"
     ]
    }
   ],
   "source": [
    "\n",
    "import numpy as np\n",
    " \n",
    "the_array = np.array([11, 22, 53, 14, 15])\n",
    " \n",
    "max_index_col = np.argmax(the_array, axis=0)\n",
    "print(max_index_col)"
   ]
  },
  {
   "cell_type": "markdown",
   "metadata": {
    "id": "w98saCPI99p9"
   },
   "source": [
    "### **How to append a NumPy array in Python?**\n"
   ]
  },
  {
   "cell_type": "markdown",
   "metadata": {
    "id": "fwqesq2E-BUZ"
   },
   "source": [
    "Append Numpy Array\n"
   ]
  },
  {
   "cell_type": "code",
   "execution_count": null,
   "metadata": {
    "colab": {
     "base_uri": "https://localhost:8080/"
    },
    "id": "JguKWio_-Dra",
    "outputId": "1ec2d331-7c47-48d6-f203-65bf9968ba50"
   },
   "outputs": [
    {
     "name": "stdout",
     "output_type": "stream",
     "text": [
      "[[0 1]\n",
      " [2 3]\n",
      " [4 5]]\n",
      "**********\n",
      "[[0 1 7]\n",
      " [2 3 8]\n",
      " [4 5 9]]\n"
     ]
    }
   ],
   "source": [
    "import numpy as np\n",
    "the_array = np.array([[0, 1], [2, 3]])\n",
    "row_to_append = np.array([[4, 5]])\n",
    "the_array = np.append(the_array, row_to_append, 0)\n",
    "print(the_array)\n",
    "print('*' * 10)\n",
    "columns_to_append = np.array([[7], [8], [9]])\n",
    "the_array = np.append(the_array, columns_to_append, 1)\n",
    "print(the_array)"
   ]
  },
  {
   "cell_type": "markdown",
   "metadata": {
    "id": "gGyzv9xV-eHx"
   },
   "source": [
    "### **How to multiply each element of Numpy array in Python?**\n"
   ]
  },
  {
   "cell_type": "markdown",
   "metadata": {
    "id": "4Ov_wpLb-h8q"
   },
   "source": [
    "Example-1\n"
   ]
  },
  {
   "cell_type": "code",
   "execution_count": null,
   "metadata": {
    "colab": {
     "base_uri": "https://localhost:8080/"
    },
    "id": "NEqiAkk0-kEk",
    "outputId": "40b17a52-7168-406b-9ef9-0b3f51d2b313"
   },
   "outputs": [
    {
     "name": "stdout",
     "output_type": "stream",
     "text": [
      "36\n"
     ]
    }
   ],
   "source": [
    "import numpy as np\n",
    "the_array = np.array([[1, 2, 3], [1, 2, 3]])\n",
    "prod = np.prod(the_array)\n",
    "print(prod)"
   ]
  },
  {
   "cell_type": "markdown",
   "metadata": {
    "id": "YeCQvkit-2UU"
   },
   "source": [
    "Example-2\n"
   ]
  },
  {
   "cell_type": "code",
   "execution_count": null,
   "metadata": {
    "colab": {
     "base_uri": "https://localhost:8080/"
    },
    "id": "I9QuCTAp-6IW",
    "outputId": "09b3b62e-3a7f-4cd8-a530-a3db78b07ede"
   },
   "outputs": [
    {
     "name": "stdout",
     "output_type": "stream",
     "text": [
      "[1 4 9]\n"
     ]
    }
   ],
   "source": [
    "import numpy as np\n",
    "the_array = np.array([[1, 2, 3], [1, 2, 3]])\n",
    "prod = np.prod(the_array, 0)\n",
    "print(prod)"
   ]
  },
  {
   "cell_type": "markdown",
   "metadata": {
    "id": "3PM1c6ZM_CWH"
   },
   "source": [
    "Example-3\n"
   ]
  },
  {
   "cell_type": "code",
   "execution_count": null,
   "metadata": {
    "colab": {
     "base_uri": "https://localhost:8080/"
    },
    "id": "TUUnYdMD_E0i",
    "outputId": "93b8bce7-f5a0-4fd6-f993-809d49f67a2d"
   },
   "outputs": [
    {
     "name": "stdout",
     "output_type": "stream",
     "text": [
      "[6 6]\n"
     ]
    }
   ],
   "source": [
    "import numpy as np\n",
    "the_array = np.array([[1, 2, 3], [1, 2, 3]])\n",
    "prod = np.prod(the_array, 1)\n",
    "print(prod)"
   ]
  },
  {
   "cell_type": "markdown",
   "metadata": {
    "id": "c4-b0G5S_LMD"
   },
   "source": [
    "Example-4\n"
   ]
  },
  {
   "cell_type": "code",
   "execution_count": null,
   "metadata": {
    "colab": {
     "base_uri": "https://localhost:8080/"
    },
    "id": "OVNy2YXZ_NFb",
    "outputId": "b7df5a22-6c0d-44fb-d906-9f1abd693136"
   },
   "outputs": [
    {
     "name": "stdout",
     "output_type": "stream",
     "text": [
      "6\n"
     ]
    }
   ],
   "source": [
    "import numpy as np\n",
    "the_array = np.array([1, 2, 3])\n",
    "prod = np.prod(the_array)\n",
    "print(prod)"
   ]
  },
  {
   "cell_type": "markdown",
   "metadata": {
    "id": "AuTaC9bU_acU"
   },
   "source": [
    "### **How to add a column to a NumPy array in Python?**\n"
   ]
  },
  {
   "cell_type": "markdown",
   "metadata": {
    "id": "r9oGHG8B_e_f"
   },
   "source": [
    "Append Column Numpy Array\n"
   ]
  },
  {
   "cell_type": "code",
   "execution_count": null,
   "metadata": {
    "colab": {
     "base_uri": "https://localhost:8080/"
    },
    "id": "FzyIfRHt_g3L",
    "outputId": "c1698c7e-9817-40a6-d773-0801c3830bd7"
   },
   "outputs": [
    {
     "name": "stdout",
     "output_type": "stream",
     "text": [
      "[[1 2 5]\n",
      " [3 4 6]]\n"
     ]
    }
   ],
   "source": [
    "import numpy as np\n",
    "the_array = np.array([[1, 2], [3, 4]])\n",
    "columns_to_append = np.array([[5], [6]])\n",
    "the_array = np.append(the_array, columns_to_append, 1)\n",
    "print(the_array)"
   ]
  },
  {
   "cell_type": "markdown",
   "metadata": {
    "id": "43tiG0CT_uxo"
   },
   "source": [
    "### **How to add a column to a NumPy array in Python?**\n"
   ]
  },
  {
   "cell_type": "markdown",
   "metadata": {
    "id": "6Wurzomw_z-5"
   },
   "source": [
    "Append Column Numpy Array\n"
   ]
  },
  {
   "cell_type": "code",
   "execution_count": null,
   "metadata": {
    "colab": {
     "base_uri": "https://localhost:8080/"
    },
    "id": "y4lexlTK_1_O",
    "outputId": "596f3801-b573-4b7e-a276-afda10368a67"
   },
   "outputs": [
    {
     "name": "stdout",
     "output_type": "stream",
     "text": [
      "[[1 2 5]\n",
      " [3 4 6]]\n"
     ]
    }
   ],
   "source": [
    "import numpy as np\n",
    "the_array = np.array([[1, 2], [3, 4]])\n",
    "columns_to_append = np.array([[5], [6]])\n",
    "the_array = np.append(the_array, columns_to_append, 1)\n",
    "print(the_array)"
   ]
  },
  {
   "cell_type": "markdown",
   "metadata": {
    "id": "i7R1vYqUPQ5h"
   },
   "source": [
    "### **How to add a list to a NumPy array in Python?**\n"
   ]
  },
  {
   "cell_type": "markdown",
   "metadata": {
    "id": "3vqwiGG0PX0k"
   },
   "source": [
    "Insert list in Numpy Array\n"
   ]
  },
  {
   "cell_type": "code",
   "execution_count": null,
   "metadata": {
    "colab": {
     "base_uri": "https://localhost:8080/"
    },
    "id": "LEx-VSzWPabH",
    "outputId": "a3221fc7-39f5-4953-ffc0-6f875c748ec4"
   },
   "outputs": [
    {
     "name": "stdout",
     "output_type": "stream",
     "text": [
      "[[1 2 5]\n",
      " [3 4 6]]\n"
     ]
    }
   ],
   "source": [
    "import numpy as np\n",
    "the_array = np.array([[1, 2], [3, 4]])\n",
    "columns_to_append = [5, 6]\n",
    "the_array = np.insert(the_array, 2, columns_to_append, axis=1)\n",
    "print(the_array)"
   ]
  },
  {
   "cell_type": "markdown",
   "metadata": {
    "id": "VpE6Q8V-PnTA"
   },
   "source": [
    "### **How to convert a NumPy array into a list in Python?**\n"
   ]
  },
  {
   "cell_type": "markdown",
   "metadata": {
    "id": "attXjYHJP0bl"
   },
   "source": [
    "Numpy array to List\n"
   ]
  },
  {
   "cell_type": "code",
   "execution_count": null,
   "metadata": {
    "colab": {
     "base_uri": "https://localhost:8080/"
    },
    "id": "B-aXFgWDP2hK",
    "outputId": "695a3522-4b46-448f-bc63-54dec9422f29"
   },
   "outputs": [
    {
     "name": "stdout",
     "output_type": "stream",
     "text": [
      "[[1, 2], [3, 4]]\n"
     ]
    }
   ],
   "source": [
    "import numpy as np\n",
    "the_array = np.array([[1, 2], [3, 4]])\n",
    "print(the_array.tolist())"
   ]
  },
  {
   "cell_type": "markdown",
   "metadata": {
    "id": "N7ov2bZMQAkA"
   },
   "source": [
    "### **How to delete values from a NumPy array in Python?**\n"
   ]
  },
  {
   "cell_type": "markdown",
   "metadata": {
    "id": "3UidaqMMQF18"
   },
   "source": [
    "Example-1\n"
   ]
  },
  {
   "cell_type": "code",
   "execution_count": null,
   "metadata": {
    "colab": {
     "base_uri": "https://localhost:8080/"
    },
    "id": "tZjFGv-eQK6T",
    "outputId": "971b7e4f-a881-416a-d2bc-934ccbd6d68c"
   },
   "outputs": [
    {
     "name": "stdout",
     "output_type": "stream",
     "text": [
      "[[1 2]\n",
      " [3 4]]\n",
      "[1 4]\n"
     ]
    }
   ],
   "source": [
    "import numpy as np\n",
    "the_array = np.array([[1, 2], [3, 4]])\n",
    "print(the_array)\n",
    "the_array = np.delete(the_array, [1, 2])\n",
    "print(the_array)"
   ]
  },
  {
   "cell_type": "markdown",
   "metadata": {
    "id": "SKicj58BQWBM"
   },
   "source": [
    "Example-2\n"
   ]
  },
  {
   "cell_type": "code",
   "execution_count": null,
   "metadata": {
    "colab": {
     "base_uri": "https://localhost:8080/"
    },
    "id": "fwqH9OigQaGz",
    "outputId": "43f7526c-5eca-4d42-fbfa-6c5a6ea36ca2"
   },
   "outputs": [
    {
     "name": "stdout",
     "output_type": "stream",
     "text": [
      "[1 2 3 4]\n",
      "[1 3 4]\n"
     ]
    }
   ],
   "source": [
    "import numpy as np\n",
    "the_array = np.array([1, 2, 3, 4])\n",
    "print(the_array)\n",
    "the_array = np.delete(the_array, np.where(the_array == 2))\n",
    "print(the_array)"
   ]
  },
  {
   "cell_type": "markdown",
   "metadata": {
    "id": "SF48guvzQgVL"
   },
   "source": [
    "Example-3\n"
   ]
  },
  {
   "cell_type": "code",
   "execution_count": null,
   "metadata": {
    "colab": {
     "base_uri": "https://localhost:8080/"
    },
    "id": "AmADtTc8Qj57",
    "outputId": "c4629815-d021-4621-f3a7-c38d7b829595"
   },
   "outputs": [
    {
     "name": "stdout",
     "output_type": "stream",
     "text": [
      "[[1 2]\n",
      " [3 4]]\n",
      "[3 4]\n"
     ]
    }
   ],
   "source": [
    "import numpy as np\n",
    "the_array = np.array([[1, 2], [3, 4]])\n",
    "print(the_array)\n",
    "the_array = np.delete(the_array, np.where(the_array == 3))\n",
    "print(the_array)"
   ]
  },
  {
   "cell_type": "markdown",
   "metadata": {
    "id": "Fh7XzLmVQ7pE"
   },
   "source": [
    "### **How to check if a value exists in NumPy Array?**\n"
   ]
  },
  {
   "cell_type": "markdown",
   "metadata": {
    "id": "TBxcL-s4TTbr"
   },
   "source": [
    "Checking if a value exists in an Numpy array\n"
   ]
  },
  {
   "cell_type": "code",
   "execution_count": null,
   "metadata": {
    "colab": {
     "base_uri": "https://localhost:8080/"
    },
    "id": "UXGlcSaZTqIj",
    "outputId": "fc4b27e3-61ec-4c97-e070-3e8ac63a0763"
   },
   "outputs": [
    {
     "name": "stdout",
     "output_type": "stream",
     "text": [
      "True\n"
     ]
    }
   ],
   "source": [
    "import numpy as np\n",
    "\n",
    "the_array = np.array([[1, 2], [3, 4]])\n",
    "n = 3\n",
    "\n",
    "if n in the_array:\n",
    "    print(True)\n",
    "else:\n",
    "    print(False)"
   ]
  },
  {
   "cell_type": "markdown",
   "metadata": {
    "id": "RlU0BUoFVcXV"
   },
   "source": [
    "### **How to get the transpose of a NumPy array in Python?**\n"
   ]
  },
  {
   "cell_type": "markdown",
   "metadata": {
    "id": "djA0tF37WfRL"
   },
   "source": [
    "Transpose of numpy Array\n"
   ]
  },
  {
   "cell_type": "code",
   "execution_count": null,
   "metadata": {
    "colab": {
     "base_uri": "https://localhost:8080/"
    },
    "id": "EA4RHT6hWiX9",
    "outputId": "3166a0ab-a499-4b61-9540-fb24448ffd14"
   },
   "outputs": [
    {
     "name": "stdout",
     "output_type": "stream",
     "text": [
      "[[1 2]\n",
      " [3 4]]\n",
      "[[1 3]\n",
      " [2 4]]\n"
     ]
    }
   ],
   "source": [
    "import numpy as np\n",
    "the_array = np.array([[1, 2], [3, 4]])\n",
    "print(the_array)\n",
    "print(the_array.T)"
   ]
  },
  {
   "cell_type": "markdown",
   "metadata": {
    "id": "AFOfJ1elWrXK"
   },
   "source": [
    "### **How to count frequency of unique values in a NumPy array in Python?**\n"
   ]
  },
  {
   "cell_type": "markdown",
   "metadata": {
    "id": "zhZpG4_5W9WI"
   },
   "source": [
    "Find number of times a value appears in the list\n"
   ]
  },
  {
   "cell_type": "code",
   "execution_count": null,
   "metadata": {
    "colab": {
     "base_uri": "https://localhost:8080/"
    },
    "id": "yOxz_69ZW_7t",
    "outputId": "35d90e0c-f717-4dae-c133-34020af967d4"
   },
   "outputs": [
    {
     "name": "stdout",
     "output_type": "stream",
     "text": [
      "[[3 1]\n",
      " [4 1]\n",
      " [5 1]\n",
      " [7 2]\n",
      " [9 2]]\n"
     ]
    }
   ],
   "source": [
    "import numpy as np\n",
    "the_array = np.array([9, 7, 4, 7, 3, 5, 9])\n",
    "frequencies = np.asarray((np.unique(the_array, return_counts=True))).T\n",
    "print(frequencies)"
   ]
  },
  {
   "cell_type": "markdown",
   "metadata": {
    "id": "5yGED2MaX5Hq"
   },
   "source": [
    "### **How to repeat a row in NumPy array in Python?**\n"
   ]
  },
  {
   "cell_type": "markdown",
   "metadata": {
    "id": "8cxPk7iXX-BU"
   },
   "source": [
    "Repeat Row\n"
   ]
  },
  {
   "cell_type": "code",
   "execution_count": null,
   "metadata": {
    "colab": {
     "base_uri": "https://localhost:8080/"
    },
    "id": "HHPBB2_JX_8c",
    "outputId": "40d11621-b4cb-4c91-9882-70b251a96805"
   },
   "outputs": [
    {
     "name": "stdout",
     "output_type": "stream",
     "text": [
      "[[1 2 3]\n",
      " [1 2 3]\n",
      " [1 2 3]]\n"
     ]
    }
   ],
   "source": [
    "import numpy as np\n",
    "the_array = np.array([1, 2, 3])\n",
    "repeat = 3\n",
    "new_array = np.tile(the_array, (repeat, 1))\n",
    "print(new_array)"
   ]
  },
  {
   "cell_type": "markdown",
   "metadata": {
    "id": "22e4gvf1YKfk"
   },
   "source": [
    "### **How to repeat a column in NumPy array in Python?**\n"
   ]
  },
  {
   "cell_type": "markdown",
   "metadata": {
    "id": "VkP2s0YQYOTx"
   },
   "source": [
    "Repeat Column\n"
   ]
  },
  {
   "cell_type": "code",
   "execution_count": null,
   "metadata": {
    "colab": {
     "base_uri": "https://localhost:8080/"
    },
    "id": "aUp-fn_lYRNB",
    "outputId": "e9f23298-f301-4f91-e810-4178d72fb249"
   },
   "outputs": [
    {
     "name": "stdout",
     "output_type": "stream",
     "text": [
      "[[1 1 1]\n",
      " [2 2 2]\n",
      " [3 3 3]]\n"
     ]
    }
   ],
   "source": [
    "import numpy as np\n",
    "the_array = np.array([1, 2, 3])\n",
    "repeat = 3\n",
    "new_array = np.transpose([the_array] * repeat)\n",
    "print(new_array)"
   ]
  },
  {
   "cell_type": "markdown",
   "metadata": {
    "id": "B5T7WySKgyjD"
   },
   "source": [
    "### **Numpy get random set of rows from 2D array**\n"
   ]
  },
  {
   "cell_type": "markdown",
   "metadata": {
    "id": "NRlSV82PhnKO"
   },
   "source": [
    "Example-1\n"
   ]
  },
  {
   "cell_type": "code",
   "execution_count": null,
   "metadata": {
    "colab": {
     "base_uri": "https://localhost:8080/"
    },
    "id": "JA3DNk2VhpMb",
    "outputId": "140f6812-6618-4c99-dcdf-aff447ec075e"
   },
   "outputs": [
    {
     "name": "stdout",
     "output_type": "stream",
     "text": [
      "[[20 21 22 23 24 25 26 27 28 29]\n",
      " [40 41 42 43 44 45 46 47 48 49]]\n"
     ]
    }
   ],
   "source": [
    "# import module\n",
    "import numpy as np\n",
    "# create 2D array\n",
    "the_array = np.arange(50).reshape((5, 10))\n",
    "# row manipulation\n",
    "np.random.shuffle(the_array)\n",
    "# display random rows\n",
    "rows = the_array[:2, :]\n",
    "print(rows)"
   ]
  },
  {
   "cell_type": "markdown",
   "metadata": {
    "id": "71vj8yVYh3bj"
   },
   "source": [
    "Example-2\n"
   ]
  },
  {
   "cell_type": "code",
   "execution_count": null,
   "metadata": {
    "colab": {
     "base_uri": "https://localhost:8080/"
    },
    "id": "yCt4CbSxh5rK",
    "outputId": "7513aeb6-43ec-436a-8edb-b96e92a5d550"
   },
   "outputs": [
    {
     "name": "stdout",
     "output_type": "stream",
     "text": [
      "[[ 8  9 10 11]\n",
      " [ 4  5  6  7]]\n"
     ]
    }
   ],
   "source": [
    "# import module\n",
    "import random\n",
    "import numpy as np\n",
    "# create 2D array\n",
    "the_array = np.arange(16).reshape((4, 4))\n",
    "# row manipulation\n",
    "rows_id = random.sample(range(0, the_array.shape[1] - 1), 2)\n",
    "# display random rows\n",
    "rows = the_array[rows_id, :]\n",
    "print(rows)"
   ]
  },
  {
   "cell_type": "markdown",
   "metadata": {
    "id": "yiGmE98ciGGi"
   },
   "source": [
    "Example-3\n"
   ]
  },
  {
   "cell_type": "code",
   "execution_count": null,
   "metadata": {
    "colab": {
     "base_uri": "https://localhost:8080/"
    },
    "id": "ktvd45I9iIdo",
    "outputId": "0e2d4540-3ea0-4cd0-def0-27f427994f27"
   },
   "outputs": [
    {
     "name": "stdout",
     "output_type": "stream",
     "text": [
      "[[ 4  5  6  7]\n",
      " [ 8  9 10 11]]\n"
     ]
    }
   ],
   "source": [
    "# import module\n",
    "import numpy as np\n",
    "# create 2D array\n",
    "the_array = np.arange(16).reshape((4, 4))\n",
    "number_of_rows = the_array.shape[0]\n",
    "random_indices = np.random.choice(number_of_rows, \n",
    "                                  size=2, replace=False)\n",
    "# display random rows\n",
    "rows = the_array[random_indices, :]\n",
    "print(rows)"
   ]
  },
  {
   "cell_type": "markdown",
   "metadata": {
    "id": "a9whYZcajEj0"
   },
   "source": [
    "### **How do I randomly select rows from NumPy array?**\n"
   ]
  },
  {
   "cell_type": "markdown",
   "metadata": {
    "id": "BMPP7Ow1jIj4"
   },
   "source": [
    "Example-1\n"
   ]
  },
  {
   "cell_type": "code",
   "execution_count": null,
   "metadata": {
    "colab": {
     "base_uri": "https://localhost:8080/"
    },
    "id": "QPck1gjgjLm7",
    "outputId": "4faabc41-1f83-4976-d37a-00f30676c9a3"
   },
   "outputs": [
    {
     "name": "stdout",
     "output_type": "stream",
     "text": [
      "[[20 21 22 23 24 25 26 27 28 29]\n",
      " [30 31 32 33 34 35 36 37 38 39]]\n"
     ]
    }
   ],
   "source": [
    "\n",
    "# import module\n",
    "import numpy as np\n",
    " \n",
    "# create 2D array\n",
    "the_array = np.arange(50).reshape((5, 10))\n",
    " \n",
    "# row manipulation\n",
    "np.random.shuffle(the_array)\n",
    " \n",
    "# display random rows\n",
    "rows = the_array[:2, :]\n",
    "print(rows)"
   ]
  },
  {
   "cell_type": "markdown",
   "metadata": {
    "id": "Y-NeN_CpjPnx"
   },
   "source": [
    "Example-2\n"
   ]
  },
  {
   "cell_type": "code",
   "execution_count": null,
   "metadata": {
    "colab": {
     "base_uri": "https://localhost:8080/"
    },
    "id": "M3ckuJiljUZK",
    "outputId": "fe16178a-eda3-4ffa-a717-9f50c7482b0d"
   },
   "outputs": [
    {
     "name": "stdout",
     "output_type": "stream",
     "text": [
      "[[ 4  5  6  7]\n",
      " [ 8  9 10 11]]\n"
     ]
    }
   ],
   "source": [
    "# import module\n",
    "import random\n",
    "import numpy as np\n",
    "# create 2D array\n",
    "the_array = np.arange(16).reshape((4, 4))\n",
    "# row manipulation\n",
    "rows_id = random.sample(range(0, the_array.shape[1] - 1), 2)\n",
    "# display random rows\n",
    "rows = the_array[rows_id, :]\n",
    "print(rows)"
   ]
  },
  {
   "cell_type": "markdown",
   "metadata": {
    "id": "rO912j7ojdZa"
   },
   "source": [
    "Example-3\n"
   ]
  },
  {
   "cell_type": "code",
   "execution_count": null,
   "metadata": {
    "colab": {
     "base_uri": "https://localhost:8080/"
    },
    "id": "4-TJYfEMjgfW",
    "outputId": "5801e2b1-fcfb-435e-d5ec-ef0fc932d5d1"
   },
   "outputs": [
    {
     "name": "stdout",
     "output_type": "stream",
     "text": [
      "[[ 0  1  2  3]\n",
      " [12 13 14 15]]\n"
     ]
    }
   ],
   "source": [
    "# import module\n",
    "import numpy as np\n",
    "# create 2D array\n",
    "the_array = np.arange(16).reshape((4, 4))\n",
    "number_of_rows = the_array.shape[0]\n",
    "random_indices = np.random.choice(number_of_rows, \n",
    "                                  size=2, \n",
    "                                  replace=False)\n",
    "# display random rows\n",
    "rows = the_array[random_indices, :]\n",
    "print(rows)"
   ]
  },
  {
   "cell_type": "markdown",
   "metadata": {
    "id": "mO3dGNs5kjUa"
   },
   "source": [
    "### **How do I generate a random number in NumPy?**\n"
   ]
  },
  {
   "cell_type": "markdown",
   "metadata": {
    "id": "G8kYbZ-dkllZ"
   },
   "source": [
    "Example-1\n"
   ]
  },
  {
   "cell_type": "code",
   "execution_count": null,
   "metadata": {
    "colab": {
     "base_uri": "https://localhost:8080/"
    },
    "id": "lS9PBc7Iknlh",
    "outputId": "043ad3c9-e175-40ce-9721-2476eb990e30"
   },
   "outputs": [
    {
     "name": "stdout",
     "output_type": "stream",
     "text": [
      "[[10 11 12 13 14 15 16 17 18 19]\n",
      " [40 41 42 43 44 45 46 47 48 49]]\n"
     ]
    }
   ],
   "source": [
    "# import module\n",
    "import numpy as np\n",
    "# create 2D array\n",
    "the_array = np.arange(50).reshape((5, 10))\n",
    "# row manipulation\n",
    "np.random.shuffle(the_array)\n",
    "# display random rows\n",
    "rows = the_array[:2, :]\n",
    "print(rows)"
   ]
  },
  {
   "cell_type": "markdown",
   "metadata": {
    "id": "bfyGZFB8kw-N"
   },
   "source": [
    "Example-2\n"
   ]
  },
  {
   "cell_type": "code",
   "execution_count": null,
   "metadata": {
    "colab": {
     "base_uri": "https://localhost:8080/"
    },
    "id": "Npxdap2Pky-0",
    "outputId": "79268085-38ce-4039-a9d0-502824e1316d"
   },
   "outputs": [
    {
     "name": "stdout",
     "output_type": "stream",
     "text": [
      "[[ 4  5  6  7]\n",
      " [ 8  9 10 11]]\n"
     ]
    }
   ],
   "source": [
    "# import module\n",
    "import random\n",
    "import numpy as np\n",
    "# create 2D array\n",
    "the_array = np.arange(16).reshape((4, 4))\n",
    "# row manipulation\n",
    "rows_id = random.sample(range(0, the_array.shape[1] - 1), 2)\n",
    "# display random rows\n",
    "rows = the_array[rows_id, :]\n",
    "print(rows)"
   ]
  },
  {
   "cell_type": "markdown",
   "metadata": {
    "id": "103zYuFbk6x2"
   },
   "source": [
    "Example-3\n"
   ]
  },
  {
   "cell_type": "code",
   "execution_count": null,
   "metadata": {
    "colab": {
     "base_uri": "https://localhost:8080/"
    },
    "id": "p53N33puk9FO",
    "outputId": "d6b908b8-d758-40dd-e1cd-7c32796ef819"
   },
   "outputs": [
    {
     "name": "stdout",
     "output_type": "stream",
     "text": [
      "[[4 5 6 7]\n",
      " [0 1 2 3]]\n"
     ]
    }
   ],
   "source": [
    "# import module\n",
    "import numpy as np\n",
    "# create 2D array\n",
    "the_array = np.arange(16).reshape((4, 4))\n",
    "number_of_rows = the_array.shape[0]\n",
    "random_indices = np.random.choice(number_of_rows, size=2, replace=False)\n",
    "# display random rows\n",
    "rows = the_array[random_indices, :]\n",
    "print(rows)"
   ]
  },
  {
   "cell_type": "markdown",
   "metadata": {
    "id": "7VrRORbqlbEF"
   },
   "source": [
    "### **How to print a NumPy array without scientific notation in Python?**\n"
   ]
  },
  {
   "cell_type": "markdown",
   "metadata": {
    "id": "hIMQRlsBlm_g"
   },
   "source": [
    "Suppress Scientific Notation\n"
   ]
  },
  {
   "cell_type": "code",
   "execution_count": null,
   "metadata": {
    "colab": {
     "base_uri": "https://localhost:8080/"
    },
    "id": "TyIwgVd_lo9J",
    "outputId": "8fd73a1d-8e3f-4580-f33c-ff0238ec7a19"
   },
   "outputs": [
    {
     "name": "stdout",
     "output_type": "stream",
     "text": [
      "[3.740000 5162.000000 13683628846.639999 12783387559.860001 1.810000]\n"
     ]
    }
   ],
   "source": [
    "import numpy as np\n",
    "np.set_printoptions(suppress=True,\n",
    "formatter={'float_kind': '{:f}'.format})\n",
    "the_array = np.array([3.74, 5162, 13683628846.64, 12783387559.86, 1.81])\n",
    "print(the_array)"
   ]
  },
  {
   "cell_type": "markdown",
   "metadata": {
    "id": "_FSTb0Til7UU"
   },
   "source": [
    "### **How do you convert an array of strings to an array of floats in Python?**\n"
   ]
  },
  {
   "cell_type": "markdown",
   "metadata": {
    "id": "68VR8cFqmOWH"
   },
   "source": [
    "Convert Numpy array of Strings to an array of floats\n"
   ]
  },
  {
   "cell_type": "code",
   "execution_count": null,
   "metadata": {
    "colab": {
     "base_uri": "https://localhost:8080/"
    },
    "id": "53YObFVZmSZT",
    "outputId": "18d76352-41b5-47ec-edaf-d9acc43d36bf"
   },
   "outputs": [
    {
     "name": "stdout",
     "output_type": "stream",
     "text": [
      "[1.100000 2.200000 3.300000]\n"
     ]
    }
   ],
   "source": [
    "import numpy as np\n",
    "string_arr = np.array(['1.1', '2.2', '3.3'])\n",
    "float_arr = string_arr.astype(np.float64)\n",
    "print(float_arr)"
   ]
  },
  {
   "cell_type": "markdown",
   "metadata": {
    "id": "MyEVHgndmlXi"
   },
   "source": [
    "### **How do you convert an array of strings to an array of floats in Python?**\n"
   ]
  },
  {
   "cell_type": "markdown",
   "metadata": {
    "id": "Nxk2Fv14m5qe"
   },
   "source": [
    "Convert Numpy array of Strings to an array of floats\n"
   ]
  },
  {
   "cell_type": "code",
   "execution_count": null,
   "metadata": {
    "colab": {
     "base_uri": "https://localhost:8080/"
    },
    "id": "ykGZDYuOm7pG",
    "outputId": "b964db7d-279f-431c-b1f3-566e33365701"
   },
   "outputs": [
    {
     "name": "stdout",
     "output_type": "stream",
     "text": [
      "[1.100000 2.200000 3.300000]\n"
     ]
    }
   ],
   "source": [
    "import numpy as np\n",
    "\n",
    "\n",
    "string_arr = np.array(['1.1', '2.2', '3.3'])\n",
    "float_arr = string_arr.astype(np.float64)\n",
    "print(float_arr)"
   ]
  },
  {
   "cell_type": "markdown",
   "metadata": {
    "id": "Se_txqiAnMOU"
   },
   "source": [
    "### **5 examples pretty-print a Numpy array with given precision**\n"
   ]
  },
  {
   "cell_type": "markdown",
   "metadata": {
    "id": "9R9O8DHwn54z"
   },
   "source": [
    "Example-1\n"
   ]
  },
  {
   "cell_type": "code",
   "execution_count": null,
   "metadata": {
    "colab": {
     "base_uri": "https://localhost:8080/"
    },
    "id": "E_Hmg1ULn77A",
    "outputId": "4c8127a2-e9e7-4788-df80-818d3be99328"
   },
   "outputs": [
    {
     "name": "stdout",
     "output_type": "stream",
     "text": [
      "[[1.100000 0.900000 0.000001]\n",
      " [1.100000 0.900000 0.000001]\n",
      " [1.100000 0.900000 0.000001]]\n",
      "[[1.100000 0.900000 0.000001]\n",
      " [1.100000 0.900000 0.000001]\n",
      " [1.100000 0.900000 0.000001]]\n"
     ]
    }
   ],
   "source": [
    "import numpy as np\n",
    "x = np.array([[1.1, 0.9, 1e-6]] * 3)\n",
    "print(x)\n",
    "print(np.array_str(x, precision=1, suppress_small=True))"
   ]
  },
  {
   "cell_type": "markdown",
   "metadata": {
    "id": "K7aAuMJroHti"
   },
   "source": [
    "Example-2\n"
   ]
  },
  {
   "cell_type": "code",
   "execution_count": null,
   "metadata": {
    "colab": {
     "base_uri": "https://localhost:8080/"
    },
    "id": "BWzr06yuoRe3",
    "outputId": "b1596d89-8d40-417c-de35-2d4a3ffc9841"
   },
   "outputs": [
    {
     "name": "stdout",
     "output_type": "stream",
     "text": [
      "[0.163827 0.223324 0.314750 0.479486 0.562441 0.404024 0.518934 0.920951\n",
      " 0.331923 0.670102]\n",
      "[0.164 0.223 0.315 0.479 0.562 0.404 0.519 0.921 0.332 0.67 ]\n"
     ]
    }
   ],
   "source": [
    "import numpy as np\n",
    "x = np.random.random(10)\n",
    "print(x)\n",
    "np.set_printoptions(precision=3)\n",
    "print(x)"
   ]
  },
  {
   "cell_type": "markdown",
   "metadata": {
    "id": "vt7sWJJvoZsp"
   },
   "source": [
    "Example-3\n"
   ]
  },
  {
   "cell_type": "code",
   "execution_count": null,
   "metadata": {
    "colab": {
     "base_uri": "https://localhost:8080/"
    },
    "id": "P-Wl4wnlobGH",
    "outputId": "39ae7889-cbdd-4d48-e738-10ba4f1b05fc"
   },
   "outputs": [
    {
     "name": "stdout",
     "output_type": "stream",
     "text": [
      "[[1.1 0.9 0. ]\n",
      " [1.1 0.9 0. ]\n",
      " [1.1 0.9 0. ]]\n",
      "[[1.1 0.9 0. ]\n",
      " [1.1 0.9 0. ]\n",
      " [1.1 0.9 0. ]]\n"
     ]
    }
   ],
   "source": [
    "import numpy as np\n",
    "x = np.array([[1.1, 0.9, 1e-6]] * 3)\n",
    "print(x)\n",
    "np.set_printoptions(suppress=True)\n",
    "print(x)"
   ]
  },
  {
   "cell_type": "markdown",
   "metadata": {
    "id": "xZlTZNmoojss"
   },
   "source": [
    "Example-4\n"
   ]
  },
  {
   "cell_type": "code",
   "execution_count": null,
   "metadata": {
    "colab": {
     "base_uri": "https://localhost:8080/"
    },
    "id": "Dcx83yzvopjw",
    "outputId": "fa5a291e-72fc-4148-9320-7cb19bb2626c"
   },
   "outputs": [
    {
     "name": "stdout",
     "output_type": "stream",
     "text": [
      "[[1.1 0.9 0. ]\n",
      " [1.1 0.9 0. ]\n",
      " [1.1 0.9 0. ]]\n",
      "[[ 1.100  0.900  0.000]\n",
      " [ 1.100  0.900  0.000]\n",
      " [ 1.100  0.900  0.000]]\n"
     ]
    }
   ],
   "source": [
    "import numpy as np\n",
    "x = np.array([[1.1, 0.9, 1e-6]] * 3)\n",
    "print(x)\n",
    "np.set_printoptions(formatter={'float': '{: 0.3f}'.format})\n",
    "print(x)"
   ]
  },
  {
   "cell_type": "markdown",
   "metadata": {
    "id": "2uarzXIsoxn_"
   },
   "source": [
    "Example-5\n"
   ]
  },
  {
   "cell_type": "code",
   "execution_count": null,
   "metadata": {
    "colab": {
     "base_uri": "https://localhost:8080/"
    },
    "id": "yzTdISz8o0pB",
    "outputId": "f0824a71-153a-451c-c6d6-287f808937f3"
   },
   "outputs": [
    {
     "name": "stdout",
     "output_type": "stream",
     "text": [
      "[[1.502 1.865 3.182]\n",
      " [8.692 4.561 3.605]\n",
      " [7.122 5.532 0.107]]\n"
     ]
    }
   ],
   "source": [
    "import numpy as np\n",
    "x = np.random.random((3, 3)) * 9\n",
    "print(np.array2string(x, formatter={'float_kind': '{0:.3f}'.format}))"
   ]
  },
  {
   "cell_type": "markdown",
   "metadata": {
    "id": "ZW8NBNqdpCos"
   },
   "source": [
    "### **Convert Numpy array to JSON**\n"
   ]
  },
  {
   "cell_type": "markdown",
   "metadata": {
    "id": "O2n834uspHkQ"
   },
   "source": [
    "Array to JSON\n"
   ]
  },
  {
   "cell_type": "code",
   "execution_count": null,
   "metadata": {
    "colab": {
     "base_uri": "https://localhost:8080/"
    },
    "id": "8jFAhheGpKpd",
    "outputId": "41658bd9-1e61-45d1-c4cd-5fc4c8673218"
   },
   "outputs": [
    {
     "name": "stdout",
     "output_type": "stream",
     "text": [
      "[{'x': 49, 'y': 7, 'z': 44}, {'x': 27, 'y': 13, 'z': 35}, {'x': 27, 'y': 13, 'z': 35}]\n"
     ]
    }
   ],
   "source": [
    "import numpy as np\n",
    "the_array = np.array([[49, 7, 44], [27, 13, 35], [27, 13, 35]])\n",
    "lists = the_array.tolist()\n",
    "print([{'x': x[0], 'y': x[1], 'z': x[2]} for i, x in enumerate(lists)])"
   ]
  },
  {
   "cell_type": "markdown",
   "metadata": {
    "id": "TH8O5Kfxqj4r"
   },
   "source": [
    "### **How do you replace items that satisfy a condition with another value in Numpy array?**\n"
   ]
  },
  {
   "cell_type": "markdown",
   "metadata": {
    "id": "OSE0d3ooqn4K"
   },
   "source": [
    "Replace all elements which are greater than 30 to 0\n"
   ]
  },
  {
   "cell_type": "code",
   "execution_count": null,
   "metadata": {
    "colab": {
     "base_uri": "https://localhost:8080/"
    },
    "id": "srPLKHJ4qqEi",
    "outputId": "84b6a519-df46-4d2c-9f8b-22f6fd72aae3"
   },
   "outputs": [
    {
     "name": "stdout",
     "output_type": "stream",
     "text": [
      "[ 0  7  0 27 13  0  0]\n"
     ]
    }
   ],
   "source": [
    "import numpy as np\n",
    "the_array = np.array([49, 7, 44, 27, 13, 35, 71])\n",
    "an_array = np.where(the_array > 30, 0, the_array)\n",
    "print(an_array)"
   ]
  },
  {
   "cell_type": "markdown",
   "metadata": {
    "id": "crdYe0A4qyVo"
   },
   "source": [
    "Replace all elements which are greater than 30 and less than 50 to 0\n"
   ]
  },
  {
   "cell_type": "code",
   "execution_count": null,
   "metadata": {
    "colab": {
     "base_uri": "https://localhost:8080/"
    },
    "id": "ZB-0Jhxiq1LC",
    "outputId": "7db9cb40-01bd-42b5-fee5-f02f6bab7f7e"
   },
   "outputs": [
    {
     "name": "stdout",
     "output_type": "stream",
     "text": [
      "[ 0  7  0 27 13  0 71]\n"
     ]
    }
   ],
   "source": [
    "import numpy as np\n",
    "the_array = np.array([49, 7, 44, 27, 13, 35, 71])\n",
    "an_array = np.where((the_array > 30) & (the_array < 50), 0, the_array)\n",
    "print(an_array)"
   ]
  },
  {
   "cell_type": "markdown",
   "metadata": {
    "id": "fi8ooZIwq7Cn"
   },
   "source": [
    "Add 5 to all elements which are greater than 40\n"
   ]
  },
  {
   "cell_type": "code",
   "execution_count": null,
   "metadata": {
    "colab": {
     "base_uri": "https://localhost:8080/"
    },
    "id": "_f3zXBuYq-R9",
    "outputId": "9b13c7f8-5774-4505-e058-8f9f36d9c2bf"
   },
   "outputs": [
    {
     "name": "stdout",
     "output_type": "stream",
     "text": [
      "[54  7 49 27 13 35 76]\n"
     ]
    }
   ],
   "source": [
    "import numpy as np\n",
    "the_array = np.array([49, 7, 44, 27, 13, 35, 71])\n",
    "an_array = np.where(the_array > 40, the_array + 5, the_array)\n",
    "print(an_array)"
   ]
  },
  {
   "cell_type": "markdown",
   "metadata": {
    "id": "QeSbMcbrrDiR"
   },
   "source": [
    "Replace all elements of array which greater than 25 with Nan\n"
   ]
  },
  {
   "cell_type": "code",
   "execution_count": null,
   "metadata": {
    "colab": {
     "base_uri": "https://localhost:8080/"
    },
    "id": "4n2ChGFirFrK",
    "outputId": "f5b674ff-c662-43b6-ec7b-d5f829faf20e"
   },
   "outputs": [
    {
     "name": "stdout",
     "output_type": "stream",
     "text": [
      "[ nan  7.000  nan  nan  13.000  nan  nan]\n"
     ]
    }
   ],
   "source": [
    "import numpy as np\n",
    "the_array = np.array([49, 7, 44, 27, 13, 35, 71])\n",
    "an_array = np.where(the_array > 25, np.NaN, the_array)\n",
    "print(an_array)"
   ]
  },
  {
   "cell_type": "markdown",
   "metadata": {
    "id": "oY__MAlErNT2"
   },
   "source": [
    "Replace all elements of array which greater than 25 with 1 otherwise 0\n"
   ]
  },
  {
   "cell_type": "code",
   "execution_count": null,
   "metadata": {
    "colab": {
     "base_uri": "https://localhost:8080/"
    },
    "id": "SqpYdRQOrRgb",
    "outputId": "340e194e-c784-4937-a1ad-33da5bb41eac"
   },
   "outputs": [
    {
     "name": "stdout",
     "output_type": "stream",
     "text": [
      "[1 0 1 1 0 1 1]\n"
     ]
    }
   ],
   "source": [
    "import numpy as np\n",
    "the_array = np.array([49, 7, 44, 27, 13, 35, 71])\n",
    "an_array = np.asarray([0 if val < 25 else 1 for val in the_array])\n",
    "print(an_array)"
   ]
  },
  {
   "cell_type": "markdown",
   "metadata": {
    "id": "MceWQfoCrYeF"
   },
   "source": [
    "### **How do I sort a NumPy array in descending order?**\n"
   ]
  },
  {
   "cell_type": "markdown",
   "metadata": {
    "id": "za5Bku89ridj"
   },
   "source": [
    "Sort Numpy in Descending Order\n"
   ]
  },
  {
   "cell_type": "code",
   "execution_count": null,
   "metadata": {
    "colab": {
     "base_uri": "https://localhost:8080/"
    },
    "id": "Wbz3bxxIrkcQ",
    "outputId": "85796039-1460-4c53-f0ea-c4df385e0b51"
   },
   "outputs": [
    {
     "name": "stdout",
     "output_type": "stream",
     "text": [
      "[71 49 44 35 27 13  7]\n"
     ]
    }
   ],
   "source": [
    "import numpy as np\n",
    "the_array = np.array([49, 7, 44, 27, 13, 35, 71])\n",
    "sort_array = np.sort(the_array)[::-1]\n",
    "print(sort_array)"
   ]
  },
  {
   "cell_type": "markdown",
   "metadata": {
    "id": "trPzsgZErpDF"
   },
   "source": [
    "Sort 2D Numpy in Descending Order\n"
   ]
  },
  {
   "cell_type": "code",
   "execution_count": null,
   "metadata": {
    "colab": {
     "base_uri": "https://localhost:8080/"
    },
    "id": "gX7Qfhwersk1",
    "outputId": "5c52a036-347a-4dbd-9918-d8cab39a497c"
   },
   "outputs": [
    {
     "name": "stdout",
     "output_type": "stream",
     "text": [
      "[[ 4  7 49]\n",
      " [13 27 35]]\n"
     ]
    }
   ],
   "source": [
    "import numpy as np\n",
    "the_array = np.array([[49, 7, 4], [27, 13, 35]])\n",
    "sort_array = np.sort(the_array)[::1]\n",
    "print(sort_array)"
   ]
  },
  {
   "cell_type": "markdown",
   "metadata": {
    "id": "IBuLpXY1rzMH"
   },
   "source": [
    "Sort Numpy in Descending Order\n"
   ]
  },
  {
   "cell_type": "code",
   "execution_count": null,
   "metadata": {
    "colab": {
     "base_uri": "https://localhost:8080/"
    },
    "id": "Ish9ol9Mr1Jl",
    "outputId": "54d8875d-8794-4662-dac6-b350aa454da5"
   },
   "outputs": [
    {
     "name": "stdout",
     "output_type": "stream",
     "text": [
      "[[49  7  4]\n",
      " [35 27 13]\n",
      " [12  5  3]]\n"
     ]
    }
   ],
   "source": [
    "import numpy as np\n",
    "the_array = np.array([[49, 7, 4], [27, 13, 35], [12, 3, 5]])\n",
    "a_idx = np.argsort(-the_array)\n",
    "sort_array = np.take_along_axis(the_array, a_idx, axis=1)\n",
    "print(sort_array)"
   ]
  },
  {
   "cell_type": "markdown",
   "metadata": {
    "id": "atNZZKLe1xst"
   },
   "source": [
    "### **How to get the indices list of all NaN value in numpy array?**\n"
   ]
  },
  {
   "cell_type": "markdown",
   "metadata": {
    "id": "S_iTnSSv12fL"
   },
   "source": [
    "NaN Values Identifier\n"
   ]
  },
  {
   "cell_type": "code",
   "execution_count": null,
   "metadata": {
    "colab": {
     "base_uri": "https://localhost:8080/"
    },
    "id": "O0Dz5Bk215G4",
    "outputId": "c7b79b97-4545-4aad-b4c1-f53ea0e34203"
   },
   "outputs": [
    {
     "name": "stdout",
     "output_type": "stream",
     "text": [
      "[ True False False False]\n"
     ]
    }
   ],
   "source": [
    "import numpy as np\n",
    "the_array = np.array([np.nan, 2, 3, 4])\n",
    "array_has_nan = np.isnan(the_array)\n",
    "print(array_has_nan)"
   ]
  },
  {
   "cell_type": "markdown",
   "metadata": {
    "id": "DJexTqho2MJM"
   },
   "source": [
    "### **How to count frequency of unique values in a NumPy array in Python?**\n"
   ]
  },
  {
   "cell_type": "markdown",
   "metadata": {
    "id": "EYHPNwVX2Rad"
   },
   "source": [
    "Find number of times a value appears in the list\n"
   ]
  },
  {
   "cell_type": "code",
   "execution_count": null,
   "metadata": {
    "colab": {
     "base_uri": "https://localhost:8080/"
    },
    "id": "cMjaD6y22UdE",
    "outputId": "dac01629-944d-4d2d-ff2b-c950d6acf963"
   },
   "outputs": [
    {
     "name": "stdout",
     "output_type": "stream",
     "text": [
      "[[3 1]\n",
      " [4 1]\n",
      " [5 1]\n",
      " [7 2]\n",
      " [9 2]]\n"
     ]
    }
   ],
   "source": [
    "import numpy as np\n",
    "the_array = np.array([9, 7, 4, 7, 3, 5, 9])\n",
    "frequencies = np.asarray((np.unique(the_array, return_counts=True))).T\n",
    "print(frequencies)"
   ]
  },
  {
   "cell_type": "markdown",
   "metadata": {
    "id": "uU24bWcq2e8z"
   },
   "source": [
    "### **NumPy logspace array example**\n"
   ]
  },
  {
   "cell_type": "markdown",
   "metadata": {
    "id": "ZUkLuqf42iM2"
   },
   "source": [
    "The logspace() function, generates an array with values that are logarithmically spaced between the given start and end values.\n"
   ]
  },
  {
   "cell_type": "code",
   "execution_count": null,
   "metadata": {
    "colab": {
     "base_uri": "https://localhost:8080/"
    },
    "id": "YZk6YJ2P2mIw",
    "outputId": "76c1db33-ed3c-418b-969d-0bba17968b2f"
   },
   "outputs": [
    {
     "name": "stdout",
     "output_type": "stream",
     "text": [
      "[ 99999999999999996863366107917975552.000\n",
      "  774263682681124670544724320378779860992.000\n",
      "  5994842503189371886826677967444404233830400.000\n",
      "  46415888336128008167730349234172247696520249344.000\n",
      "  359381366380463281283941836486392749747640633131008.000\n",
      "  2782559402207120232763458068720065504805713505071136768.000\n",
      "  21544346900319042507794853304661524399926133253645094879232.000\n",
      "  166810053720006931335676798952449111386676701152823247869313024.000\n",
      "  1291549665014887989938837143310708849765284993070817403699789299712.000\n",
      "  10000000000000000725314363815292351261583744096465219555182101554790400.000]\n"
     ]
    }
   ],
   "source": [
    "import numpy as np\n",
    " \n",
    "thearray = np.logspace(5, 10, num=10, base=10000000.0, dtype=float)\n",
    "print(thearray)\n"
   ]
  },
  {
   "cell_type": "markdown",
   "metadata": {
    "id": "PQSn_snI27Ce"
   },
   "source": [
    "### **Joining and Stacking of NumPy arrays**\n"
   ]
  },
  {
   "cell_type": "markdown",
   "metadata": {
    "id": "VBA2NKRy3op7"
   },
   "source": [
    "NumPy uses the concept of stacking and provide a number of functions to perform: vertical stacking(row wise) using vstack(), horizontal stacking(column wise) using hstack() and depth wise stacking(along third axis) using dstack(). The concatenate() function creates a new array by appending arrays after each other, along a given axis. The append() function appends an element to an array and creates a new copy of the array.\n"
   ]
  },
  {
   "cell_type": "code",
   "execution_count": null,
   "metadata": {
    "colab": {
     "base_uri": "https://localhost:8080/"
    },
    "id": "BQ3svuVQ3rfu",
    "outputId": "245399bc-f824-4f01-e078-a7cb32cf67d1"
   },
   "outputs": [
    {
     "name": "stdout",
     "output_type": "stream",
     "text": [
      "[[ 1  2  3  7  8  9]\n",
      " [ 4  5  6 10 11 12]]\n",
      "----------\n",
      "[[ 1  2  3]\n",
      " [ 4  5  6]\n",
      " [ 7  8  9]\n",
      " [10 11 12]]\n",
      "----------\n",
      "[[[ 1  7]\n",
      "  [ 2  8]\n",
      "  [ 3  9]]\n",
      "\n",
      " [[ 4 10]\n",
      "  [ 5 11]\n",
      "  [ 6 12]]]\n",
      "----------\n",
      "[[ 1  2  3]\n",
      " [ 4  5  6]\n",
      " [ 7  8  9]\n",
      " [10 11 12]]\n",
      "----------\n",
      "[[ 1  2  3]\n",
      " [ 4  5  6]\n",
      " [ 7  8  9]\n",
      " [10 11 12]]\n",
      "----------\n",
      "[[ 1  2  3  7  8  9]\n",
      " [ 4  5  6 10 11 12]]\n"
     ]
    }
   ],
   "source": [
    "import numpy as np\n",
    " \n",
    "array1 = np.array([[1, 2, 3], [4, 5, 6]])\n",
    "array2 = np.array([[7, 8, 9], [10, 11, 12]])\n",
    " \n",
    "# Stack arrays in sequence horizontally (column wise).\n",
    "arrayH = np.hstack((array1, array2))\n",
    "print(arrayH)\n",
    " \n",
    "print(\"-\" * 10)\n",
    " \n",
    "# Stack arrays in sequence vertically (row wise).\n",
    "arrayV = np.vstack((array1, array2))\n",
    "print(arrayV)\n",
    " \n",
    "print(\"-\" * 10)\n",
    " \n",
    "# Stack arrays in sequence depth wise (along third axis).\n",
    "arrayD = np.dstack((array1, array2))\n",
    "print(arrayD)\n",
    " \n",
    "print(\"-\" * 10)\n",
    " \n",
    "# Appending arrays after each other, along a given axis.\n",
    "arrayC = np.concatenate((array1, array2))\n",
    "print(arrayC)\n",
    " \n",
    "print(\"-\" * 10)\n",
    " \n",
    "# Append values to the end of an array.\n",
    "arrayA = np.append(array1, array2, axis=0)\n",
    "print(arrayA)\n",
    " \n",
    "print(\"-\" * 10)\n",
    "arrayA = np.append(array1, array2, axis=1)\n",
    "print(arrayA)\n"
   ]
  }
 ],
 "metadata": {
  "colab": {
   "name": "python NUMPY.ipynb",
   "provenance": []
  },
  "kernelspec": {
   "display_name": "Python 3 (ipykernel)",
   "language": "python",
   "name": "python3"
  },
  "language_info": {
   "codemirror_mode": {
    "name": "ipython",
    "version": 3
   },
   "file_extension": ".py",
   "mimetype": "text/x-python",
   "name": "python",
   "nbconvert_exporter": "python",
   "pygments_lexer": "ipython3",
   "version": "3.9.7"
  }
 },
 "nbformat": 4,
 "nbformat_minor": 1
}
