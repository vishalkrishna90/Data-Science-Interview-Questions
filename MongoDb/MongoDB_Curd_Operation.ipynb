{
 "cells": [
  {
   "cell_type": "markdown",
   "id": "d7274fe7",
   "metadata": {},
   "source": [
    "#                               Python MongoDB — Introduction"
   ]
  },
  {
   "cell_type": "markdown",
   "id": "dc138e28",
   "metadata": {},
   "source": [
    "Pymongo is a python distribution which provides tools to work with MongoDB, it is the\n",
    "most preferred way to communicate with MongoDB database from python."
   ]
  },
  {
   "cell_type": "markdown",
   "id": "8177ea0f",
   "metadata": {},
   "source": [
    "## Installation\n"
   ]
  },
  {
   "cell_type": "markdown",
   "id": "ef5917f5",
   "metadata": {},
   "source": [
    "To install pymongo first of all make sure you have installed python3 (along with PIP) and\n",
    "MongoDB properly. Then execute the following command."
   ]
  },
  {
   "cell_type": "code",
   "execution_count": 1,
   "id": "2f137fb3",
   "metadata": {},
   "outputs": [
    {
     "name": "stdout",
     "output_type": "stream",
     "text": [
      "Collecting pymongo\n",
      "  Downloading pymongo-4.0.2-cp39-cp39-manylinux_2_17_x86_64.manylinux2014_x86_64.whl (459 kB)\n",
      "\u001b[K     |████████████████████████████████| 459 kB 1.3 MB/s eta 0:00:01\n",
      "\u001b[?25hInstalling collected packages: pymongo\n",
      "Successfully installed pymongo-4.0.2\n",
      "Note: you may need to restart the kernel to use updated packages.\n"
     ]
    }
   ],
   "source": [
    "pip install pymongo"
   ]
  },
  {
   "cell_type": "markdown",
   "id": "053d96df",
   "metadata": {},
   "source": [
    "## Verification"
   ]
  },
  {
   "cell_type": "markdown",
   "id": "7bc0bcbe",
   "metadata": {},
   "source": [
    "Once you have installed pymongo, open a new text document, paste the following line in\n",
    "it and, save it as test.py.\n"
   ]
  },
  {
   "cell_type": "code",
   "execution_count": 2,
   "id": "34a411c7",
   "metadata": {},
   "outputs": [],
   "source": [
    "import pymongo"
   ]
  },
  {
   "cell_type": "code",
   "execution_count": 3,
   "id": "792c8c66",
   "metadata": {},
   "outputs": [
    {
     "data": {
      "text/plain": [
       "'4.0.2'"
      ]
     },
     "execution_count": 3,
     "metadata": {},
     "output_type": "execute_result"
    }
   ],
   "source": [
    "pymongo.version # This based on the current version availablity"
   ]
  },
  {
   "cell_type": "markdown",
   "id": "6a52bb0a",
   "metadata": {},
   "source": [
    "# Python MongoDB Create Database"
   ]
  },
  {
   "cell_type": "markdown",
   "id": "eab1d4d9",
   "metadata": {},
   "source": [
    "## Creating a Database\n",
    "To create a database in MongoDB, start by creating a MongoClient object, then specify a connection URL with the correct ip address and the name of the database you want to create.\n",
    "\n",
    "MongoDB will create the database if it does not exist, and make a connection to it."
   ]
  },
  {
   "cell_type": "markdown",
   "id": "89d5a8a7",
   "metadata": {},
   "source": [
    "# Example\n",
    "\n",
    "Create a database called \"mydatabase\":"
   ]
  },
  {
   "cell_type": "code",
   "execution_count": 6,
   "id": "c154c919",
   "metadata": {},
   "outputs": [],
   "source": [
    "import pymongo\n",
    "\n",
    "myclient = pymongo.MongoClient(\"mongodb://localhost:27017/\")\n",
    "\n",
    "mydb = myclient[\"mydatabase\"]"
   ]
  },
  {
   "cell_type": "markdown",
   "id": "6c7fe50e",
   "metadata": {},
   "source": [
    "MongoDB waits until you have created a collection (table), with at least one document (record) before it actually creates the database (and collection).\n",
    "Check if Database Exists\n",
    "You can check if a database exist by listing all databases in you system:"
   ]
  },
  {
   "cell_type": "markdown",
   "id": "45ef7ba1",
   "metadata": {},
   "source": [
    "### Example\n",
    "Return a list of your system's databases:"
   ]
  },
  {
   "cell_type": "code",
   "execution_count": 7,
   "id": "21d0c757",
   "metadata": {},
   "outputs": [
    {
     "data": {
      "text/plain": [
       "['admin', 'config', 'local']"
      ]
     },
     "execution_count": 7,
     "metadata": {},
     "output_type": "execute_result"
    }
   ],
   "source": [
    "myclient.list_database_names()"
   ]
  },
  {
   "cell_type": "markdown",
   "id": "e8b7128a",
   "metadata": {},
   "source": [
    "### Example\n",
    "Check if \"mydatabase\" exists:"
   ]
  },
  {
   "cell_type": "code",
   "execution_count": 8,
   "id": "8a1ceb64",
   "metadata": {},
   "outputs": [],
   "source": [
    "dblist = myclient.list_database_names()\n",
    "if \"mydatabase\" in dblist:\n",
    "  print(\"The database exists.\")"
   ]
  },
  {
   "cell_type": "markdown",
   "id": "1c5bab21",
   "metadata": {},
   "source": [
    "# Python MongoDB Create Collection\n"
   ]
  },
  {
   "cell_type": "markdown",
   "id": "be3ef617",
   "metadata": {},
   "source": [
    " A collection in MongoDB is the same as a table in SQL databases."
   ]
  },
  {
   "cell_type": "markdown",
   "id": "3010c295",
   "metadata": {},
   "source": [
    "# Creating a Collection\n",
    "To create a collection in MongoDB, use database object and specify the name of the collection you want to create.\n",
    "\n",
    "MongoDB will create the collection if it does not exist."
   ]
  },
  {
   "cell_type": "code",
   "execution_count": 9,
   "id": "e6e814a7",
   "metadata": {},
   "outputs": [],
   "source": [
    "import pymongo\n",
    "\n",
    "myclient = pymongo.MongoClient(\"mongodb://localhost:27017/\")\n",
    "mydb = myclient[\"mydatabase\"]\n",
    "\n",
    "mycol = mydb[\"customers\"]"
   ]
  },
  {
   "cell_type": "markdown",
   "id": "910fc224",
   "metadata": {},
   "source": [
    "### Important: In MongoDB, a collection is not created until it gets content!\n",
    "\n"
   ]
  },
  {
   "cell_type": "markdown",
   "id": "0e9790ec",
   "metadata": {},
   "source": [
    "MongoDB waits until you have inserted a document before it actually creates the collection."
   ]
  },
  {
   "cell_type": "markdown",
   "id": "fa055878",
   "metadata": {},
   "source": [
    "Check if Collection Exists\n"
   ]
  },
  {
   "cell_type": "markdown",
   "id": "d7f45c49",
   "metadata": {},
   "source": [
    "### Remember:\n",
    "In MongoDB, a collection is not created until it gets content, so if this is your first time creating a collection, you should complete the next chapter (create document) before you check if the collection exists!"
   ]
  },
  {
   "cell_type": "markdown",
   "id": "aec5f7f0",
   "metadata": {},
   "source": [
    "You can check if a collection exist in a database by listing all collections:"
   ]
  },
  {
   "cell_type": "markdown",
   "id": "cacdc4f9",
   "metadata": {},
   "source": [
    "### Example\n",
    "Return a list of all collections in your database:"
   ]
  },
  {
   "cell_type": "code",
   "execution_count": 10,
   "id": "de92d765",
   "metadata": {},
   "outputs": [
    {
     "name": "stdout",
     "output_type": "stream",
     "text": [
      "[]\n"
     ]
    }
   ],
   "source": [
    "print(mydb.list_collection_names())"
   ]
  },
  {
   "cell_type": "markdown",
   "id": "1cfc1635",
   "metadata": {},
   "source": [
    "Or you can check a specific collection by name:"
   ]
  },
  {
   "cell_type": "markdown",
   "id": "4938a7c2",
   "metadata": {},
   "source": [
    "### Example\n",
    "Check if the \"customers\" collection exists:"
   ]
  },
  {
   "cell_type": "code",
   "execution_count": 11,
   "id": "d40ffad0",
   "metadata": {},
   "outputs": [],
   "source": [
    "collist = mydb.list_collection_names()\n",
    "if \"customers\" in collist:\n",
    "  print(\"The collection exists.\")"
   ]
  },
  {
   "cell_type": "markdown",
   "id": "458e18dd",
   "metadata": {},
   "source": [
    "# Python MongoDB Insert Document"
   ]
  },
  {
   "cell_type": "markdown",
   "id": "ee1e3e73",
   "metadata": {},
   "source": [
    " A document in MongoDB is the same as a record in SQL databases."
   ]
  },
  {
   "cell_type": "markdown",
   "id": "c850d27c",
   "metadata": {},
   "source": [
    "## Insert Into Collection\n",
    "To insert a record, or document as it is called in MongoDB, into a collection, we use the insert_one() method.\n",
    "\n",
    "The first parameter of the insert_one() method is a dictionary containing the name(s) and value(s) of each field in the document you want to insert."
   ]
  },
  {
   "cell_type": "markdown",
   "id": "1d8ead0b",
   "metadata": {},
   "source": [
    "## Example\n",
    "\n",
    "Insert a record in the \"customers\" collection:"
   ]
  },
  {
   "cell_type": "code",
   "execution_count": 12,
   "id": "a89a2e31",
   "metadata": {},
   "outputs": [],
   "source": [
    "import pymongo\n",
    "\n",
    "myclient = pymongo.MongoClient(\"mongodb://localhost:27017/\")\n",
    "mydb = myclient[\"mydatabase\"]\n",
    "mycol = mydb[\"customers\"]\n",
    "\n",
    "mydict = { \"name\": \"John\", \"address\": \"Highway 37\" }\n",
    "\n",
    "x = mycol.insert_one(mydict)"
   ]
  },
  {
   "cell_type": "markdown",
   "id": "b858f3e8",
   "metadata": {},
   "source": [
    "# Return the _id Field\n",
    "\n",
    "The insert_one() method returns a InsertOneResult object, which has a property, inserted_id, that holds the id of the inserted document."
   ]
  },
  {
   "cell_type": "markdown",
   "id": "810e7478",
   "metadata": {},
   "source": [
    "## Example\n",
    "Insert another record in the \"customers\" collection, and return the value of the _id field:"
   ]
  },
  {
   "cell_type": "code",
   "execution_count": 14,
   "id": "c530ed53",
   "metadata": {},
   "outputs": [
    {
     "name": "stdout",
     "output_type": "stream",
     "text": [
      "6230836c4737f8f882fddcd9\n"
     ]
    }
   ],
   "source": [
    "mydict = { \"name\": \"Peter\", \"address\": \"Lowstreet 27\" }\n",
    "\n",
    "x = mycol.insert_one(mydict)\n",
    "\n",
    "print(x.inserted_id)"
   ]
  },
  {
   "cell_type": "markdown",
   "id": "469b3312",
   "metadata": {},
   "source": [
    "If you do not specify an _id field, then MongoDB will add one for you and assign a unique id for each document.\n",
    "\n",
    "In the example above no _id field was specified, so MongoDB assigned a unique _id for the record (document)."
   ]
  },
  {
   "cell_type": "markdown",
   "id": "09b662fb",
   "metadata": {},
   "source": [
    "# Insert Multiple Documents\n",
    "\n",
    "To insert multiple documents into a collection in MongoDB, we use the insert_many() method.\n",
    "\n",
    "The first parameter of the insert_many() method is a list containing dictionaries with the data you want to insert:"
   ]
  },
  {
   "cell_type": "code",
   "execution_count": 15,
   "id": "31a3cddd",
   "metadata": {},
   "outputs": [
    {
     "name": "stdout",
     "output_type": "stream",
     "text": [
      "[ObjectId('6230837e4737f8f882fddcdb'), ObjectId('6230837e4737f8f882fddcdc'), ObjectId('6230837e4737f8f882fddcdd'), ObjectId('6230837e4737f8f882fddcde'), ObjectId('6230837e4737f8f882fddcdf'), ObjectId('6230837e4737f8f882fddce0'), ObjectId('6230837e4737f8f882fddce1'), ObjectId('6230837e4737f8f882fddce2'), ObjectId('6230837e4737f8f882fddce3'), ObjectId('6230837e4737f8f882fddce4'), ObjectId('6230837e4737f8f882fddce5'), ObjectId('6230837e4737f8f882fddce6')]\n"
     ]
    }
   ],
   "source": [
    "import pymongo\n",
    "\n",
    "myclient = pymongo.MongoClient(\"mongodb://localhost:27017/\")\n",
    "mydb = myclient[\"mydatabase\"]\n",
    "mycol = mydb[\"customers\"]\n",
    "\n",
    "mylist = [\n",
    "  { \"name\": \"Amy\", \"address\": \"Apple st 652\"},\n",
    "  { \"name\": \"Hannah\", \"address\": \"Mountain 21\"},\n",
    "  { \"name\": \"Michael\", \"address\": \"Valley 345\"},\n",
    "  { \"name\": \"Sandy\", \"address\": \"Ocean blvd 2\"},\n",
    "  { \"name\": \"Betty\", \"address\": \"Green Grass 1\"},\n",
    "  { \"name\": \"Richard\", \"address\": \"Sky st 331\"},\n",
    "  { \"name\": \"Susan\", \"address\": \"One way 98\"},\n",
    "  { \"name\": \"Vicky\", \"address\": \"Yellow Garden 2\"},\n",
    "  { \"name\": \"Ben\", \"address\": \"Park Lane 38\"},\n",
    "  { \"name\": \"William\", \"address\": \"Central st 954\"},\n",
    "  { \"name\": \"Chuck\", \"address\": \"Main Road 989\"},\n",
    "  { \"name\": \"Viola\", \"address\": \"Sideway 1633\"}\n",
    "]\n",
    "\n",
    "x = mycol.insert_many(mylist)\n",
    "\n",
    "#print list of the _id values of the inserted documents:\n",
    "print(x.inserted_ids)"
   ]
  },
  {
   "cell_type": "markdown",
   "id": "806bea76",
   "metadata": {},
   "source": [
    "The insert_many() method returns a InsertManyResult object, which has a property, inserted_ids, that holds the ids of the inserted documents."
   ]
  },
  {
   "cell_type": "markdown",
   "id": "e87ca402",
   "metadata": {},
   "source": [
    "# Insert Multiple Documents, with Specified IDs\n",
    "If you do not want MongoDB to assign unique ids for you document, you can specify the _id field when you insert the document(s).\n",
    "\n",
    "Remember that the values has to be unique. Two documents cannot have the same _id."
   ]
  },
  {
   "cell_type": "code",
   "execution_count": 16,
   "id": "e160234f",
   "metadata": {},
   "outputs": [
    {
     "name": "stdout",
     "output_type": "stream",
     "text": [
      "[1, 2, 3, 4, 5, 6, 7, 8, 9, 10, 11, 12, 13, 14]\n"
     ]
    }
   ],
   "source": [
    "import pymongo\n",
    "\n",
    "myclient = pymongo.MongoClient(\"mongodb://localhost:27017/\")\n",
    "mydb = myclient[\"mydatabase\"]\n",
    "mycol = mydb[\"customers\"]\n",
    "\n",
    "mylist = [\n",
    "  { \"_id\": 1, \"name\": \"John\", \"address\": \"Highway 37\"},\n",
    "  { \"_id\": 2, \"name\": \"Peter\", \"address\": \"Lowstreet 27\"},\n",
    "  { \"_id\": 3, \"name\": \"Amy\", \"address\": \"Apple st 652\"},\n",
    "  { \"_id\": 4, \"name\": \"Hannah\", \"address\": \"Mountain 21\"},\n",
    "  { \"_id\": 5, \"name\": \"Michael\", \"address\": \"Valley 345\"},\n",
    "  { \"_id\": 6, \"name\": \"Sandy\", \"address\": \"Ocean blvd 2\"},\n",
    "  { \"_id\": 7, \"name\": \"Betty\", \"address\": \"Green Grass 1\"},\n",
    "  { \"_id\": 8, \"name\": \"Richard\", \"address\": \"Sky st 331\"},\n",
    "  { \"_id\": 9, \"name\": \"Susan\", \"address\": \"One way 98\"},\n",
    "  { \"_id\": 10, \"name\": \"Vicky\", \"address\": \"Yellow Garden 2\"},\n",
    "  { \"_id\": 11, \"name\": \"Ben\", \"address\": \"Park Lane 38\"},\n",
    "  { \"_id\": 12, \"name\": \"William\", \"address\": \"Central st 954\"},\n",
    "  { \"_id\": 13, \"name\": \"Chuck\", \"address\": \"Main Road 989\"},\n",
    "  { \"_id\": 14, \"name\": \"Viola\", \"address\": \"Sideway 1633\"}\n",
    "]\n",
    "\n",
    "x = mycol.insert_many(mylist)\n",
    "\n",
    "#print list of the _id values of the inserted documents:\n",
    "print(x.inserted_ids)"
   ]
  },
  {
   "cell_type": "markdown",
   "id": "f4212a57",
   "metadata": {},
   "source": [
    "# Python MongoDB Find\n"
   ]
  },
  {
   "cell_type": "markdown",
   "id": "32b4b26e",
   "metadata": {},
   "source": [
    "In MongoDB we use the find and findOne methods to find data in a collection.\n",
    "\n",
    "Just like the SELECT statement is used to find data in a table in a MySQL database."
   ]
  },
  {
   "cell_type": "markdown",
   "id": "06661af4",
   "metadata": {},
   "source": [
    "## Find One\n",
    "To select data from a collection in MongoDB, we can use the find_one() method.\n",
    "\n",
    "The find_one() method returns the first occurrence in the selection."
   ]
  },
  {
   "cell_type": "markdown",
   "id": "5fd91e7c",
   "metadata": {},
   "source": [
    "## Example\n",
    "Find the first document in the customers collection:"
   ]
  },
  {
   "cell_type": "code",
   "execution_count": 17,
   "id": "0ce663f5",
   "metadata": {},
   "outputs": [
    {
     "name": "stdout",
     "output_type": "stream",
     "text": [
      "{'_id': ObjectId('6230835b4737f8f882fddcd8'), 'name': 'John', 'address': 'Highway 37'}\n"
     ]
    }
   ],
   "source": [
    "import pymongo\n",
    "\n",
    "myclient = pymongo.MongoClient(\"mongodb://localhost:27017/\")\n",
    "mydb = myclient[\"mydatabase\"]\n",
    "mycol = mydb[\"customers\"]\n",
    "\n",
    "x = mycol.find_one()\n",
    "\n",
    "print(x)"
   ]
  },
  {
   "cell_type": "markdown",
   "id": "be4b713f",
   "metadata": {},
   "source": [
    "## Find All\n",
    "To select data from a table in MongoDB, we can also use the find() method.\n",
    "\n",
    "The find() method returns all occurrences in the selection.\n",
    "\n",
    "The first parameter of the find() method is a query object. In this example we use an empty query object, which selects all documents in the collection."
   ]
  },
  {
   "cell_type": "markdown",
   "id": "30a0d66f",
   "metadata": {},
   "source": [
    "### No parameters in the find() method gives you the same result as SELECT * in MySQL."
   ]
  },
  {
   "cell_type": "markdown",
   "id": "2656ee0c",
   "metadata": {},
   "source": [
    "## Example\n",
    "Return all documents in the \"customers\" collection, and print each document:"
   ]
  },
  {
   "cell_type": "code",
   "execution_count": 18,
   "id": "daa66c89",
   "metadata": {},
   "outputs": [
    {
     "name": "stdout",
     "output_type": "stream",
     "text": [
      "{'_id': ObjectId('6230835b4737f8f882fddcd8'), 'name': 'John', 'address': 'Highway 37'}\n",
      "{'_id': ObjectId('6230836c4737f8f882fddcd9'), 'name': 'Peter', 'address': 'Lowstreet 27'}\n",
      "{'_id': ObjectId('6230837e4737f8f882fddcdb'), 'name': 'Amy', 'address': 'Apple st 652'}\n",
      "{'_id': ObjectId('6230837e4737f8f882fddcdc'), 'name': 'Hannah', 'address': 'Mountain 21'}\n",
      "{'_id': ObjectId('6230837e4737f8f882fddcdd'), 'name': 'Michael', 'address': 'Valley 345'}\n",
      "{'_id': ObjectId('6230837e4737f8f882fddcde'), 'name': 'Sandy', 'address': 'Ocean blvd 2'}\n",
      "{'_id': ObjectId('6230837e4737f8f882fddcdf'), 'name': 'Betty', 'address': 'Green Grass 1'}\n",
      "{'_id': ObjectId('6230837e4737f8f882fddce0'), 'name': 'Richard', 'address': 'Sky st 331'}\n",
      "{'_id': ObjectId('6230837e4737f8f882fddce1'), 'name': 'Susan', 'address': 'One way 98'}\n",
      "{'_id': ObjectId('6230837e4737f8f882fddce2'), 'name': 'Vicky', 'address': 'Yellow Garden 2'}\n",
      "{'_id': ObjectId('6230837e4737f8f882fddce3'), 'name': 'Ben', 'address': 'Park Lane 38'}\n",
      "{'_id': ObjectId('6230837e4737f8f882fddce4'), 'name': 'William', 'address': 'Central st 954'}\n",
      "{'_id': ObjectId('6230837e4737f8f882fddce5'), 'name': 'Chuck', 'address': 'Main Road 989'}\n",
      "{'_id': ObjectId('6230837e4737f8f882fddce6'), 'name': 'Viola', 'address': 'Sideway 1633'}\n",
      "{'_id': 1, 'name': 'John', 'address': 'Highway 37'}\n",
      "{'_id': 2, 'name': 'Peter', 'address': 'Lowstreet 27'}\n",
      "{'_id': 3, 'name': 'Amy', 'address': 'Apple st 652'}\n",
      "{'_id': 4, 'name': 'Hannah', 'address': 'Mountain 21'}\n",
      "{'_id': 5, 'name': 'Michael', 'address': 'Valley 345'}\n",
      "{'_id': 6, 'name': 'Sandy', 'address': 'Ocean blvd 2'}\n",
      "{'_id': 7, 'name': 'Betty', 'address': 'Green Grass 1'}\n",
      "{'_id': 8, 'name': 'Richard', 'address': 'Sky st 331'}\n",
      "{'_id': 9, 'name': 'Susan', 'address': 'One way 98'}\n",
      "{'_id': 10, 'name': 'Vicky', 'address': 'Yellow Garden 2'}\n",
      "{'_id': 11, 'name': 'Ben', 'address': 'Park Lane 38'}\n",
      "{'_id': 12, 'name': 'William', 'address': 'Central st 954'}\n",
      "{'_id': 13, 'name': 'Chuck', 'address': 'Main Road 989'}\n",
      "{'_id': 14, 'name': 'Viola', 'address': 'Sideway 1633'}\n"
     ]
    }
   ],
   "source": [
    "import pymongo\n",
    "\n",
    "myclient = pymongo.MongoClient(\"mongodb://localhost:27017/\")\n",
    "mydb = myclient[\"mydatabase\"]\n",
    "mycol = mydb[\"customers\"]\n",
    "\n",
    "for x in mycol.find():\n",
    "  print(x)"
   ]
  },
  {
   "cell_type": "markdown",
   "id": "53cfa303",
   "metadata": {},
   "source": [
    "# Return Only Some Fields\n",
    "The second parameter of the find() method is an object describing which fields to include in the result.\n",
    "\n",
    "This parameter is optional, and if omitted, all fields will be included in the result."
   ]
  },
  {
   "cell_type": "markdown",
   "id": "e01ad236",
   "metadata": {},
   "source": [
    "### Example\n",
    "Return only the names and addresses, not the _ids:"
   ]
  },
  {
   "cell_type": "code",
   "execution_count": 19,
   "id": "2c8f223d",
   "metadata": {},
   "outputs": [
    {
     "name": "stdout",
     "output_type": "stream",
     "text": [
      "{'name': 'John', 'address': 'Highway 37'}\n",
      "{'name': 'Peter', 'address': 'Lowstreet 27'}\n",
      "{'name': 'Amy', 'address': 'Apple st 652'}\n",
      "{'name': 'Hannah', 'address': 'Mountain 21'}\n",
      "{'name': 'Michael', 'address': 'Valley 345'}\n",
      "{'name': 'Sandy', 'address': 'Ocean blvd 2'}\n",
      "{'name': 'Betty', 'address': 'Green Grass 1'}\n",
      "{'name': 'Richard', 'address': 'Sky st 331'}\n",
      "{'name': 'Susan', 'address': 'One way 98'}\n",
      "{'name': 'Vicky', 'address': 'Yellow Garden 2'}\n",
      "{'name': 'Ben', 'address': 'Park Lane 38'}\n",
      "{'name': 'William', 'address': 'Central st 954'}\n",
      "{'name': 'Chuck', 'address': 'Main Road 989'}\n",
      "{'name': 'Viola', 'address': 'Sideway 1633'}\n",
      "{'name': 'John', 'address': 'Highway 37'}\n",
      "{'name': 'Peter', 'address': 'Lowstreet 27'}\n",
      "{'name': 'Amy', 'address': 'Apple st 652'}\n",
      "{'name': 'Hannah', 'address': 'Mountain 21'}\n",
      "{'name': 'Michael', 'address': 'Valley 345'}\n",
      "{'name': 'Sandy', 'address': 'Ocean blvd 2'}\n",
      "{'name': 'Betty', 'address': 'Green Grass 1'}\n",
      "{'name': 'Richard', 'address': 'Sky st 331'}\n",
      "{'name': 'Susan', 'address': 'One way 98'}\n",
      "{'name': 'Vicky', 'address': 'Yellow Garden 2'}\n",
      "{'name': 'Ben', 'address': 'Park Lane 38'}\n",
      "{'name': 'William', 'address': 'Central st 954'}\n",
      "{'name': 'Chuck', 'address': 'Main Road 989'}\n",
      "{'name': 'Viola', 'address': 'Sideway 1633'}\n"
     ]
    }
   ],
   "source": [
    "import pymongo\n",
    "\n",
    "myclient = pymongo.MongoClient(\"mongodb://localhost:27017/\")\n",
    "mydb = myclient[\"mydatabase\"]\n",
    "mycol = mydb[\"customers\"]\n",
    "\n",
    "for x in mycol.find({},{ \"_id\": 0, \"name\": 1, \"address\": 1 }):\n",
    "  print(x)"
   ]
  },
  {
   "cell_type": "markdown",
   "id": "081a6994",
   "metadata": {},
   "source": [
    "### You are not allowed to specify both 0 and 1 values in the same object (except if one of the fields is the _id field). If you specify a field with the value 0, all other fields get the value 1, and vice versa"
   ]
  },
  {
   "cell_type": "markdown",
   "id": "bf3e446a",
   "metadata": {},
   "source": [
    "### Example\n",
    "This example will exclude \"address\" from the result:"
   ]
  },
  {
   "cell_type": "code",
   "execution_count": 20,
   "id": "75c011c8",
   "metadata": {},
   "outputs": [
    {
     "name": "stdout",
     "output_type": "stream",
     "text": [
      "{'_id': ObjectId('6230835b4737f8f882fddcd8'), 'name': 'John'}\n",
      "{'_id': ObjectId('6230836c4737f8f882fddcd9'), 'name': 'Peter'}\n",
      "{'_id': ObjectId('6230837e4737f8f882fddcdb'), 'name': 'Amy'}\n",
      "{'_id': ObjectId('6230837e4737f8f882fddcdc'), 'name': 'Hannah'}\n",
      "{'_id': ObjectId('6230837e4737f8f882fddcdd'), 'name': 'Michael'}\n",
      "{'_id': ObjectId('6230837e4737f8f882fddcde'), 'name': 'Sandy'}\n",
      "{'_id': ObjectId('6230837e4737f8f882fddcdf'), 'name': 'Betty'}\n",
      "{'_id': ObjectId('6230837e4737f8f882fddce0'), 'name': 'Richard'}\n",
      "{'_id': ObjectId('6230837e4737f8f882fddce1'), 'name': 'Susan'}\n",
      "{'_id': ObjectId('6230837e4737f8f882fddce2'), 'name': 'Vicky'}\n",
      "{'_id': ObjectId('6230837e4737f8f882fddce3'), 'name': 'Ben'}\n",
      "{'_id': ObjectId('6230837e4737f8f882fddce4'), 'name': 'William'}\n",
      "{'_id': ObjectId('6230837e4737f8f882fddce5'), 'name': 'Chuck'}\n",
      "{'_id': ObjectId('6230837e4737f8f882fddce6'), 'name': 'Viola'}\n",
      "{'_id': 1, 'name': 'John'}\n",
      "{'_id': 2, 'name': 'Peter'}\n",
      "{'_id': 3, 'name': 'Amy'}\n",
      "{'_id': 4, 'name': 'Hannah'}\n",
      "{'_id': 5, 'name': 'Michael'}\n",
      "{'_id': 6, 'name': 'Sandy'}\n",
      "{'_id': 7, 'name': 'Betty'}\n",
      "{'_id': 8, 'name': 'Richard'}\n",
      "{'_id': 9, 'name': 'Susan'}\n",
      "{'_id': 10, 'name': 'Vicky'}\n",
      "{'_id': 11, 'name': 'Ben'}\n",
      "{'_id': 12, 'name': 'William'}\n",
      "{'_id': 13, 'name': 'Chuck'}\n",
      "{'_id': 14, 'name': 'Viola'}\n"
     ]
    }
   ],
   "source": [
    "import pymongo\n",
    "\n",
    "myclient = pymongo.MongoClient(\"mongodb://localhost:27017/\")\n",
    "mydb = myclient[\"mydatabase\"]\n",
    "mycol = mydb[\"customers\"]\n",
    "\n",
    "for x in mycol.find({},{ \"address\": 0 }):\n",
    "  print(x)"
   ]
  },
  {
   "cell_type": "markdown",
   "id": "38f0c9b5",
   "metadata": {},
   "source": [
    "### Example\n",
    "You get an error if you specify both 0 and 1 values in the same object (except if one of the fields is the _id field):"
   ]
  },
  {
   "cell_type": "code",
   "execution_count": 21,
   "id": "216b893b",
   "metadata": {},
   "outputs": [
    {
     "ename": "OperationFailure",
     "evalue": "Projection cannot have a mix of inclusion and exclusion., full error: {'ok': 0.0, 'errmsg': 'Projection cannot have a mix of inclusion and exclusion.', 'code': 2, 'codeName': 'BadValue'}",
     "output_type": "error",
     "traceback": [
      "\u001b[0;31m---------------------------------------------------------------------------\u001b[0m",
      "\u001b[0;31mOperationFailure\u001b[0m                          Traceback (most recent call last)",
      "\u001b[0;32m/tmp/ipykernel_68520/1011261388.py\u001b[0m in \u001b[0;36m<module>\u001b[0;34m\u001b[0m\n\u001b[1;32m      5\u001b[0m \u001b[0mmycol\u001b[0m \u001b[0;34m=\u001b[0m \u001b[0mmydb\u001b[0m\u001b[0;34m[\u001b[0m\u001b[0;34m\"customers\"\u001b[0m\u001b[0;34m]\u001b[0m\u001b[0;34m\u001b[0m\u001b[0;34m\u001b[0m\u001b[0m\n\u001b[1;32m      6\u001b[0m \u001b[0;34m\u001b[0m\u001b[0m\n\u001b[0;32m----> 7\u001b[0;31m \u001b[0;32mfor\u001b[0m \u001b[0mx\u001b[0m \u001b[0;32min\u001b[0m \u001b[0mmycol\u001b[0m\u001b[0;34m.\u001b[0m\u001b[0mfind\u001b[0m\u001b[0;34m(\u001b[0m\u001b[0;34m{\u001b[0m\u001b[0;34m}\u001b[0m\u001b[0;34m,\u001b[0m\u001b[0;34m{\u001b[0m \u001b[0;34m\"name\"\u001b[0m\u001b[0;34m:\u001b[0m \u001b[0;36m0\u001b[0m\u001b[0;34m,\u001b[0m \u001b[0;34m\"address\"\u001b[0m\u001b[0;34m:\u001b[0m \u001b[0;36m1\u001b[0m \u001b[0;34m}\u001b[0m\u001b[0;34m)\u001b[0m\u001b[0;34m:\u001b[0m\u001b[0;34m\u001b[0m\u001b[0;34m\u001b[0m\u001b[0m\n\u001b[0m\u001b[1;32m      8\u001b[0m   \u001b[0mprint\u001b[0m\u001b[0;34m(\u001b[0m\u001b[0mx\u001b[0m\u001b[0;34m)\u001b[0m\u001b[0;34m\u001b[0m\u001b[0;34m\u001b[0m\u001b[0m\n",
      "\u001b[0;32m~/anaconda3/lib/python3.9/site-packages/pymongo/cursor.py\u001b[0m in \u001b[0;36mnext\u001b[0;34m(self)\u001b[0m\n\u001b[1;32m   1193\u001b[0m         \u001b[0;32mif\u001b[0m \u001b[0mself\u001b[0m\u001b[0;34m.\u001b[0m\u001b[0m__empty\u001b[0m\u001b[0;34m:\u001b[0m\u001b[0;34m\u001b[0m\u001b[0;34m\u001b[0m\u001b[0m\n\u001b[1;32m   1194\u001b[0m             \u001b[0;32mraise\u001b[0m \u001b[0mStopIteration\u001b[0m\u001b[0;34m\u001b[0m\u001b[0;34m\u001b[0m\u001b[0m\n\u001b[0;32m-> 1195\u001b[0;31m         \u001b[0;32mif\u001b[0m \u001b[0mlen\u001b[0m\u001b[0;34m(\u001b[0m\u001b[0mself\u001b[0m\u001b[0;34m.\u001b[0m\u001b[0m__data\u001b[0m\u001b[0;34m)\u001b[0m \u001b[0;32mor\u001b[0m \u001b[0mself\u001b[0m\u001b[0;34m.\u001b[0m\u001b[0m_refresh\u001b[0m\u001b[0;34m(\u001b[0m\u001b[0;34m)\u001b[0m\u001b[0;34m:\u001b[0m\u001b[0;34m\u001b[0m\u001b[0;34m\u001b[0m\u001b[0m\n\u001b[0m\u001b[1;32m   1196\u001b[0m             \u001b[0;32mreturn\u001b[0m \u001b[0mself\u001b[0m\u001b[0;34m.\u001b[0m\u001b[0m__data\u001b[0m\u001b[0;34m.\u001b[0m\u001b[0mpopleft\u001b[0m\u001b[0;34m(\u001b[0m\u001b[0;34m)\u001b[0m\u001b[0;34m\u001b[0m\u001b[0;34m\u001b[0m\u001b[0m\n\u001b[1;32m   1197\u001b[0m         \u001b[0;32melse\u001b[0m\u001b[0;34m:\u001b[0m\u001b[0;34m\u001b[0m\u001b[0;34m\u001b[0m\u001b[0m\n",
      "\u001b[0;32m~/anaconda3/lib/python3.9/site-packages/pymongo/cursor.py\u001b[0m in \u001b[0;36m_refresh\u001b[0;34m(self)\u001b[0m\n\u001b[1;32m   1112\u001b[0m                 \u001b[0mself\u001b[0m\u001b[0;34m.\u001b[0m\u001b[0m__exhaust\u001b[0m\u001b[0;34m,\u001b[0m\u001b[0;34m\u001b[0m\u001b[0;34m\u001b[0m\u001b[0m\n\u001b[1;32m   1113\u001b[0m             )\n\u001b[0;32m-> 1114\u001b[0;31m             \u001b[0mself\u001b[0m\u001b[0;34m.\u001b[0m\u001b[0m__send_message\u001b[0m\u001b[0;34m(\u001b[0m\u001b[0mq\u001b[0m\u001b[0;34m)\u001b[0m\u001b[0;34m\u001b[0m\u001b[0;34m\u001b[0m\u001b[0m\n\u001b[0m\u001b[1;32m   1115\u001b[0m         \u001b[0;32melif\u001b[0m \u001b[0mself\u001b[0m\u001b[0;34m.\u001b[0m\u001b[0m__id\u001b[0m\u001b[0;34m:\u001b[0m  \u001b[0;31m# Get More\u001b[0m\u001b[0;34m\u001b[0m\u001b[0;34m\u001b[0m\u001b[0m\n\u001b[1;32m   1116\u001b[0m             \u001b[0;32mif\u001b[0m \u001b[0mself\u001b[0m\u001b[0;34m.\u001b[0m\u001b[0m__limit\u001b[0m\u001b[0;34m:\u001b[0m\u001b[0;34m\u001b[0m\u001b[0;34m\u001b[0m\u001b[0m\n",
      "\u001b[0;32m~/anaconda3/lib/python3.9/site-packages/pymongo/cursor.py\u001b[0m in \u001b[0;36m__send_message\u001b[0;34m(self, operation)\u001b[0m\n\u001b[1;32m    999\u001b[0m \u001b[0;34m\u001b[0m\u001b[0m\n\u001b[1;32m   1000\u001b[0m         \u001b[0;32mtry\u001b[0m\u001b[0;34m:\u001b[0m\u001b[0;34m\u001b[0m\u001b[0;34m\u001b[0m\u001b[0m\n\u001b[0;32m-> 1001\u001b[0;31m             response = client._run_operation(\n\u001b[0m\u001b[1;32m   1002\u001b[0m                 \u001b[0moperation\u001b[0m\u001b[0;34m,\u001b[0m \u001b[0mself\u001b[0m\u001b[0;34m.\u001b[0m\u001b[0m_unpack_response\u001b[0m\u001b[0;34m,\u001b[0m \u001b[0maddress\u001b[0m\u001b[0;34m=\u001b[0m\u001b[0mself\u001b[0m\u001b[0;34m.\u001b[0m\u001b[0m__address\u001b[0m\u001b[0;34m\u001b[0m\u001b[0;34m\u001b[0m\u001b[0m\n\u001b[1;32m   1003\u001b[0m             )\n",
      "\u001b[0;32m~/anaconda3/lib/python3.9/site-packages/pymongo/mongo_client.py\u001b[0m in \u001b[0;36m_run_operation\u001b[0;34m(self, operation, unpack_res, address)\u001b[0m\n\u001b[1;32m   1253\u001b[0m             )\n\u001b[1;32m   1254\u001b[0m \u001b[0;34m\u001b[0m\u001b[0m\n\u001b[0;32m-> 1255\u001b[0;31m         return self._retryable_read(\n\u001b[0m\u001b[1;32m   1256\u001b[0m             \u001b[0m_cmd\u001b[0m\u001b[0;34m,\u001b[0m\u001b[0;34m\u001b[0m\u001b[0;34m\u001b[0m\u001b[0m\n\u001b[1;32m   1257\u001b[0m             \u001b[0moperation\u001b[0m\u001b[0;34m.\u001b[0m\u001b[0mread_preference\u001b[0m\u001b[0;34m,\u001b[0m\u001b[0;34m\u001b[0m\u001b[0;34m\u001b[0m\u001b[0m\n",
      "\u001b[0;32m~/anaconda3/lib/python3.9/site-packages/pymongo/mongo_client.py\u001b[0m in \u001b[0;36m_retryable_read\u001b[0;34m(self, func, read_pref, session, address, retryable)\u001b[0m\n\u001b[1;32m   1357\u001b[0m                         \u001b[0;31m# not support retryable reads, raise the last error.\u001b[0m\u001b[0;34m\u001b[0m\u001b[0;34m\u001b[0m\u001b[0m\n\u001b[1;32m   1358\u001b[0m                         \u001b[0;32mraise\u001b[0m \u001b[0mlast_error\u001b[0m\u001b[0;34m\u001b[0m\u001b[0;34m\u001b[0m\u001b[0m\n\u001b[0;32m-> 1359\u001b[0;31m                     \u001b[0;32mreturn\u001b[0m \u001b[0mfunc\u001b[0m\u001b[0;34m(\u001b[0m\u001b[0msession\u001b[0m\u001b[0;34m,\u001b[0m \u001b[0mserver\u001b[0m\u001b[0;34m,\u001b[0m \u001b[0msock_info\u001b[0m\u001b[0;34m,\u001b[0m \u001b[0msecondary_ok\u001b[0m\u001b[0;34m)\u001b[0m\u001b[0;34m\u001b[0m\u001b[0;34m\u001b[0m\u001b[0m\n\u001b[0m\u001b[1;32m   1360\u001b[0m             \u001b[0;32mexcept\u001b[0m \u001b[0mServerSelectionTimeoutError\u001b[0m\u001b[0;34m:\u001b[0m\u001b[0;34m\u001b[0m\u001b[0;34m\u001b[0m\u001b[0m\n\u001b[1;32m   1361\u001b[0m                 \u001b[0;32mif\u001b[0m \u001b[0mretrying\u001b[0m\u001b[0;34m:\u001b[0m\u001b[0;34m\u001b[0m\u001b[0;34m\u001b[0m\u001b[0m\n",
      "\u001b[0;32m~/anaconda3/lib/python3.9/site-packages/pymongo/mongo_client.py\u001b[0m in \u001b[0;36m_cmd\u001b[0;34m(session, server, sock_info, secondary_ok)\u001b[0m\n\u001b[1;32m   1249\u001b[0m \u001b[0;34m\u001b[0m\u001b[0m\n\u001b[1;32m   1250\u001b[0m         \u001b[0;32mdef\u001b[0m \u001b[0m_cmd\u001b[0m\u001b[0;34m(\u001b[0m\u001b[0msession\u001b[0m\u001b[0;34m,\u001b[0m \u001b[0mserver\u001b[0m\u001b[0;34m,\u001b[0m \u001b[0msock_info\u001b[0m\u001b[0;34m,\u001b[0m \u001b[0msecondary_ok\u001b[0m\u001b[0;34m)\u001b[0m\u001b[0;34m:\u001b[0m\u001b[0;34m\u001b[0m\u001b[0;34m\u001b[0m\u001b[0m\n\u001b[0;32m-> 1251\u001b[0;31m             return server.run_operation(\n\u001b[0m\u001b[1;32m   1252\u001b[0m                 \u001b[0msock_info\u001b[0m\u001b[0;34m,\u001b[0m \u001b[0moperation\u001b[0m\u001b[0;34m,\u001b[0m \u001b[0msecondary_ok\u001b[0m\u001b[0;34m,\u001b[0m \u001b[0mself\u001b[0m\u001b[0;34m.\u001b[0m\u001b[0m_event_listeners\u001b[0m\u001b[0;34m,\u001b[0m \u001b[0munpack_res\u001b[0m\u001b[0;34m\u001b[0m\u001b[0;34m\u001b[0m\u001b[0m\n\u001b[1;32m   1253\u001b[0m             )\n",
      "\u001b[0;32m~/anaconda3/lib/python3.9/site-packages/pymongo/server.py\u001b[0m in \u001b[0;36mrun_operation\u001b[0;34m(self, sock_info, operation, set_secondary_okay, listeners, unpack_res)\u001b[0m\n\u001b[1;32m    131\u001b[0m                 \u001b[0mfirst\u001b[0m \u001b[0;34m=\u001b[0m \u001b[0mdocs\u001b[0m\u001b[0;34m[\u001b[0m\u001b[0;36m0\u001b[0m\u001b[0;34m]\u001b[0m\u001b[0;34m\u001b[0m\u001b[0;34m\u001b[0m\u001b[0m\n\u001b[1;32m    132\u001b[0m                 \u001b[0moperation\u001b[0m\u001b[0;34m.\u001b[0m\u001b[0mclient\u001b[0m\u001b[0;34m.\u001b[0m\u001b[0m_process_response\u001b[0m\u001b[0;34m(\u001b[0m\u001b[0mfirst\u001b[0m\u001b[0;34m,\u001b[0m \u001b[0moperation\u001b[0m\u001b[0;34m.\u001b[0m\u001b[0msession\u001b[0m\u001b[0;34m)\u001b[0m\u001b[0;34m\u001b[0m\u001b[0;34m\u001b[0m\u001b[0m\n\u001b[0;32m--> 133\u001b[0;31m                 \u001b[0m_check_command_response\u001b[0m\u001b[0;34m(\u001b[0m\u001b[0mfirst\u001b[0m\u001b[0;34m,\u001b[0m \u001b[0msock_info\u001b[0m\u001b[0;34m.\u001b[0m\u001b[0mmax_wire_version\u001b[0m\u001b[0;34m)\u001b[0m\u001b[0;34m\u001b[0m\u001b[0;34m\u001b[0m\u001b[0m\n\u001b[0m\u001b[1;32m    134\u001b[0m         \u001b[0;32mexcept\u001b[0m \u001b[0mException\u001b[0m \u001b[0;32mas\u001b[0m \u001b[0mexc\u001b[0m\u001b[0;34m:\u001b[0m\u001b[0;34m\u001b[0m\u001b[0;34m\u001b[0m\u001b[0m\n\u001b[1;32m    135\u001b[0m             \u001b[0;32mif\u001b[0m \u001b[0mpublish\u001b[0m\u001b[0;34m:\u001b[0m\u001b[0;34m\u001b[0m\u001b[0;34m\u001b[0m\u001b[0m\n",
      "\u001b[0;32m~/anaconda3/lib/python3.9/site-packages/pymongo/helpers.py\u001b[0m in \u001b[0;36m_check_command_response\u001b[0;34m(response, max_wire_version, allowable_errors, parse_write_concern_error)\u001b[0m\n\u001b[1;32m    179\u001b[0m         \u001b[0;32mraise\u001b[0m \u001b[0mCursorNotFound\u001b[0m\u001b[0;34m(\u001b[0m\u001b[0merrmsg\u001b[0m\u001b[0;34m,\u001b[0m \u001b[0mcode\u001b[0m\u001b[0;34m,\u001b[0m \u001b[0mresponse\u001b[0m\u001b[0;34m,\u001b[0m \u001b[0mmax_wire_version\u001b[0m\u001b[0;34m)\u001b[0m\u001b[0;34m\u001b[0m\u001b[0;34m\u001b[0m\u001b[0m\n\u001b[1;32m    180\u001b[0m \u001b[0;34m\u001b[0m\u001b[0m\n\u001b[0;32m--> 181\u001b[0;31m     \u001b[0;32mraise\u001b[0m \u001b[0mOperationFailure\u001b[0m\u001b[0;34m(\u001b[0m\u001b[0merrmsg\u001b[0m\u001b[0;34m,\u001b[0m \u001b[0mcode\u001b[0m\u001b[0;34m,\u001b[0m \u001b[0mresponse\u001b[0m\u001b[0;34m,\u001b[0m \u001b[0mmax_wire_version\u001b[0m\u001b[0;34m)\u001b[0m\u001b[0;34m\u001b[0m\u001b[0;34m\u001b[0m\u001b[0m\n\u001b[0m\u001b[1;32m    182\u001b[0m \u001b[0;34m\u001b[0m\u001b[0m\n\u001b[1;32m    183\u001b[0m \u001b[0;34m\u001b[0m\u001b[0m\n",
      "\u001b[0;31mOperationFailure\u001b[0m: Projection cannot have a mix of inclusion and exclusion., full error: {'ok': 0.0, 'errmsg': 'Projection cannot have a mix of inclusion and exclusion.', 'code': 2, 'codeName': 'BadValue'}"
     ]
    }
   ],
   "source": [
    "import pymongo\n",
    "\n",
    "myclient = pymongo.MongoClient(\"mongodb://localhost:27017/\")\n",
    "mydb = myclient[\"mydatabase\"]\n",
    "mycol = mydb[\"customers\"]\n",
    "\n",
    "for x in mycol.find({},{ \"name\": 0, \"address\": 1 }):\n",
    "  print(x)"
   ]
  },
  {
   "cell_type": "markdown",
   "id": "b4223e59",
   "metadata": {},
   "source": [
    "# Python MongoDB Query\n"
   ]
  },
  {
   "cell_type": "markdown",
   "id": "fd171752",
   "metadata": {},
   "source": [
    "### Filter the Result\n",
    "When finding documents in a collection, you can filter the result by using a query object.\n",
    "\n",
    "The first argument of the find() method is a query object, and is used to limit the search."
   ]
  },
  {
   "cell_type": "markdown",
   "id": "b8e13be6",
   "metadata": {},
   "source": [
    "### Example\n",
    "Find document(s) with the address \"Park Lane 38\":"
   ]
  },
  {
   "cell_type": "code",
   "execution_count": 22,
   "id": "ef1db409",
   "metadata": {},
   "outputs": [
    {
     "name": "stdout",
     "output_type": "stream",
     "text": [
      "{'_id': ObjectId('6230837e4737f8f882fddce3'), 'name': 'Ben', 'address': 'Park Lane 38'}\n",
      "{'_id': 11, 'name': 'Ben', 'address': 'Park Lane 38'}\n"
     ]
    }
   ],
   "source": [
    "import pymongo\n",
    "\n",
    "myclient = pymongo.MongoClient(\"mongodb://localhost:27017/\")\n",
    "mydb = myclient[\"mydatabase\"]\n",
    "mycol = mydb[\"customers\"]\n",
    "\n",
    "myquery = { \"address\": \"Park Lane 38\" }\n",
    "\n",
    "mydoc = mycol.find(myquery)\n",
    "\n",
    "for x in mydoc:\n",
    "  print(x)"
   ]
  },
  {
   "cell_type": "markdown",
   "id": "a9cacbc3",
   "metadata": {},
   "source": [
    "# Advanced Query\n"
   ]
  },
  {
   "cell_type": "raw",
   "id": "d7039fa5",
   "metadata": {},
   "source": [
    "To make advanced queries you can use modifiers as values in the query object.\n",
    "\n",
    "E.g. to find the documents where the \"address\" field starts with the letter \"S\" or higher (alphabetically), use the greater than modifier: {\"$gt\": \"S\"}:"
   ]
  },
  {
   "cell_type": "markdown",
   "id": "de7fb14f",
   "metadata": {},
   "source": [
    "### Example\n",
    "Find documents where the address starts with the letter \"S\" or higher:"
   ]
  },
  {
   "cell_type": "code",
   "execution_count": 23,
   "id": "3a14c4a9",
   "metadata": {},
   "outputs": [
    {
     "name": "stdout",
     "output_type": "stream",
     "text": [
      "{'_id': ObjectId('6230837e4737f8f882fddcdd'), 'name': 'Michael', 'address': 'Valley 345'}\n",
      "{'_id': ObjectId('6230837e4737f8f882fddce0'), 'name': 'Richard', 'address': 'Sky st 331'}\n",
      "{'_id': ObjectId('6230837e4737f8f882fddce2'), 'name': 'Vicky', 'address': 'Yellow Garden 2'}\n",
      "{'_id': ObjectId('6230837e4737f8f882fddce6'), 'name': 'Viola', 'address': 'Sideway 1633'}\n",
      "{'_id': 5, 'name': 'Michael', 'address': 'Valley 345'}\n",
      "{'_id': 8, 'name': 'Richard', 'address': 'Sky st 331'}\n",
      "{'_id': 10, 'name': 'Vicky', 'address': 'Yellow Garden 2'}\n",
      "{'_id': 14, 'name': 'Viola', 'address': 'Sideway 1633'}\n"
     ]
    }
   ],
   "source": [
    "import pymongo\n",
    "\n",
    "myclient = pymongo.MongoClient(\"mongodb://localhost:27017/\")\n",
    "mydb = myclient[\"mydatabase\"]\n",
    "mycol = mydb[\"customers\"]\n",
    "\n",
    "myquery = { \"address\": { \"$gt\": \"S\" } }\n",
    "\n",
    "mydoc = mycol.find(myquery)\n",
    "\n",
    "for x in mydoc:\n",
    "  print(x)"
   ]
  },
  {
   "cell_type": "markdown",
   "id": "f5ced2db",
   "metadata": {},
   "source": [
    "# Filter With Regular Expressions\n",
    "You can also use regular expressions as a modifier.\n",
    "\n",
    "Regular expressions can only be used to query strings.\n",
    "\n",
    "To find only the documents where the \"address\" field starts with the letter \"S\", use the regular expression {\"$regex\": \"^S\"}:\n",
    "\n",
    "Example\n",
    "\n",
    "\n",
    "Find documents where the address starts with the letter \"S\":"
   ]
  },
  {
   "cell_type": "code",
   "execution_count": 24,
   "id": "5edda079",
   "metadata": {},
   "outputs": [
    {
     "name": "stdout",
     "output_type": "stream",
     "text": [
      "{'_id': ObjectId('6230837e4737f8f882fddce0'), 'name': 'Richard', 'address': 'Sky st 331'}\n",
      "{'_id': ObjectId('6230837e4737f8f882fddce6'), 'name': 'Viola', 'address': 'Sideway 1633'}\n",
      "{'_id': 8, 'name': 'Richard', 'address': 'Sky st 331'}\n",
      "{'_id': 14, 'name': 'Viola', 'address': 'Sideway 1633'}\n"
     ]
    }
   ],
   "source": [
    "import pymongo\n",
    "\n",
    "myclient = pymongo.MongoClient(\"mongodb://localhost:27017/\")\n",
    "mydb = myclient[\"mydatabase\"]\n",
    "mycol = mydb[\"customers\"]\n",
    "\n",
    "myquery = { \"address\": { \"$regex\": \"^S\" } }\n",
    "\n",
    "mydoc = mycol.find(myquery)\n",
    "\n",
    "for x in mydoc:\n",
    "  print(x)"
   ]
  },
  {
   "cell_type": "markdown",
   "id": "7c86400c",
   "metadata": {},
   "source": [
    "# Python MongoDB Sort"
   ]
  },
  {
   "cell_type": "markdown",
   "id": "4304d4da",
   "metadata": {},
   "source": [
    "## Sort the Result\n",
    "Use the sort() method to sort the result in ascending or descending order.\n",
    "\n",
    "The sort() method takes one parameter for \"fieldname\" and one parameter for \"direction\" (ascending is the default direction).\n",
    "\n",
    "Example\n",
    "\n",
    "Sort the result alphabetically by name:"
   ]
  },
  {
   "cell_type": "code",
   "execution_count": 25,
   "id": "c306b7c9",
   "metadata": {},
   "outputs": [
    {
     "name": "stdout",
     "output_type": "stream",
     "text": [
      "{'_id': ObjectId('6230837e4737f8f882fddcdb'), 'name': 'Amy', 'address': 'Apple st 652'}\n",
      "{'_id': 3, 'name': 'Amy', 'address': 'Apple st 652'}\n",
      "{'_id': ObjectId('6230837e4737f8f882fddce3'), 'name': 'Ben', 'address': 'Park Lane 38'}\n",
      "{'_id': 11, 'name': 'Ben', 'address': 'Park Lane 38'}\n",
      "{'_id': ObjectId('6230837e4737f8f882fddcdf'), 'name': 'Betty', 'address': 'Green Grass 1'}\n",
      "{'_id': 7, 'name': 'Betty', 'address': 'Green Grass 1'}\n",
      "{'_id': ObjectId('6230837e4737f8f882fddce5'), 'name': 'Chuck', 'address': 'Main Road 989'}\n",
      "{'_id': 13, 'name': 'Chuck', 'address': 'Main Road 989'}\n",
      "{'_id': ObjectId('6230837e4737f8f882fddcdc'), 'name': 'Hannah', 'address': 'Mountain 21'}\n",
      "{'_id': 4, 'name': 'Hannah', 'address': 'Mountain 21'}\n",
      "{'_id': ObjectId('6230835b4737f8f882fddcd8'), 'name': 'John', 'address': 'Highway 37'}\n",
      "{'_id': 1, 'name': 'John', 'address': 'Highway 37'}\n",
      "{'_id': ObjectId('6230837e4737f8f882fddcdd'), 'name': 'Michael', 'address': 'Valley 345'}\n",
      "{'_id': 5, 'name': 'Michael', 'address': 'Valley 345'}\n",
      "{'_id': ObjectId('6230836c4737f8f882fddcd9'), 'name': 'Peter', 'address': 'Lowstreet 27'}\n",
      "{'_id': 2, 'name': 'Peter', 'address': 'Lowstreet 27'}\n",
      "{'_id': ObjectId('6230837e4737f8f882fddce0'), 'name': 'Richard', 'address': 'Sky st 331'}\n",
      "{'_id': 8, 'name': 'Richard', 'address': 'Sky st 331'}\n",
      "{'_id': ObjectId('6230837e4737f8f882fddcde'), 'name': 'Sandy', 'address': 'Ocean blvd 2'}\n",
      "{'_id': 6, 'name': 'Sandy', 'address': 'Ocean blvd 2'}\n",
      "{'_id': ObjectId('6230837e4737f8f882fddce1'), 'name': 'Susan', 'address': 'One way 98'}\n",
      "{'_id': 9, 'name': 'Susan', 'address': 'One way 98'}\n",
      "{'_id': ObjectId('6230837e4737f8f882fddce2'), 'name': 'Vicky', 'address': 'Yellow Garden 2'}\n",
      "{'_id': 10, 'name': 'Vicky', 'address': 'Yellow Garden 2'}\n",
      "{'_id': ObjectId('6230837e4737f8f882fddce6'), 'name': 'Viola', 'address': 'Sideway 1633'}\n",
      "{'_id': 14, 'name': 'Viola', 'address': 'Sideway 1633'}\n",
      "{'_id': ObjectId('6230837e4737f8f882fddce4'), 'name': 'William', 'address': 'Central st 954'}\n",
      "{'_id': 12, 'name': 'William', 'address': 'Central st 954'}\n"
     ]
    }
   ],
   "source": [
    "import pymongo\n",
    "\n",
    "myclient = pymongo.MongoClient(\"mongodb://localhost:27017/\")\n",
    "mydb = myclient[\"mydatabase\"]\n",
    "mycol = mydb[\"customers\"]\n",
    "\n",
    "mydoc = mycol.find().sort(\"name\")\n",
    "\n",
    "for x in mydoc:\n",
    "  print(x)"
   ]
  },
  {
   "cell_type": "markdown",
   "id": "2d29219b",
   "metadata": {},
   "source": [
    "### Sort Descending\n",
    "Use the value -1 as the second parameter to sort descending.\n",
    "\n",
    "sort(\"name\", 1) #ascending\n",
    "\n",
    "sort(\"name\", -1) #descending\n",
    "\n",
    "Example\n",
    "\n",
    "Sort the result reverse alphabetically by name:"
   ]
  },
  {
   "cell_type": "code",
   "execution_count": 26,
   "id": "f1b5fd65",
   "metadata": {},
   "outputs": [
    {
     "name": "stdout",
     "output_type": "stream",
     "text": [
      "{'_id': ObjectId('6230837e4737f8f882fddce4'), 'name': 'William', 'address': 'Central st 954'}\n",
      "{'_id': 12, 'name': 'William', 'address': 'Central st 954'}\n",
      "{'_id': ObjectId('6230837e4737f8f882fddce6'), 'name': 'Viola', 'address': 'Sideway 1633'}\n",
      "{'_id': 14, 'name': 'Viola', 'address': 'Sideway 1633'}\n",
      "{'_id': ObjectId('6230837e4737f8f882fddce2'), 'name': 'Vicky', 'address': 'Yellow Garden 2'}\n",
      "{'_id': 10, 'name': 'Vicky', 'address': 'Yellow Garden 2'}\n",
      "{'_id': ObjectId('6230837e4737f8f882fddce1'), 'name': 'Susan', 'address': 'One way 98'}\n",
      "{'_id': 9, 'name': 'Susan', 'address': 'One way 98'}\n",
      "{'_id': ObjectId('6230837e4737f8f882fddcde'), 'name': 'Sandy', 'address': 'Ocean blvd 2'}\n",
      "{'_id': 6, 'name': 'Sandy', 'address': 'Ocean blvd 2'}\n",
      "{'_id': ObjectId('6230837e4737f8f882fddce0'), 'name': 'Richard', 'address': 'Sky st 331'}\n",
      "{'_id': 8, 'name': 'Richard', 'address': 'Sky st 331'}\n",
      "{'_id': ObjectId('6230836c4737f8f882fddcd9'), 'name': 'Peter', 'address': 'Lowstreet 27'}\n",
      "{'_id': 2, 'name': 'Peter', 'address': 'Lowstreet 27'}\n",
      "{'_id': ObjectId('6230837e4737f8f882fddcdd'), 'name': 'Michael', 'address': 'Valley 345'}\n",
      "{'_id': 5, 'name': 'Michael', 'address': 'Valley 345'}\n",
      "{'_id': ObjectId('6230835b4737f8f882fddcd8'), 'name': 'John', 'address': 'Highway 37'}\n",
      "{'_id': 1, 'name': 'John', 'address': 'Highway 37'}\n",
      "{'_id': ObjectId('6230837e4737f8f882fddcdc'), 'name': 'Hannah', 'address': 'Mountain 21'}\n",
      "{'_id': 4, 'name': 'Hannah', 'address': 'Mountain 21'}\n",
      "{'_id': ObjectId('6230837e4737f8f882fddce5'), 'name': 'Chuck', 'address': 'Main Road 989'}\n",
      "{'_id': 13, 'name': 'Chuck', 'address': 'Main Road 989'}\n",
      "{'_id': ObjectId('6230837e4737f8f882fddcdf'), 'name': 'Betty', 'address': 'Green Grass 1'}\n",
      "{'_id': 7, 'name': 'Betty', 'address': 'Green Grass 1'}\n",
      "{'_id': ObjectId('6230837e4737f8f882fddce3'), 'name': 'Ben', 'address': 'Park Lane 38'}\n",
      "{'_id': 11, 'name': 'Ben', 'address': 'Park Lane 38'}\n",
      "{'_id': ObjectId('6230837e4737f8f882fddcdb'), 'name': 'Amy', 'address': 'Apple st 652'}\n",
      "{'_id': 3, 'name': 'Amy', 'address': 'Apple st 652'}\n"
     ]
    }
   ],
   "source": [
    "import pymongo\n",
    "\n",
    "myclient = pymongo.MongoClient(\"mongodb://localhost:27017/\")\n",
    "mydb = myclient[\"mydatabase\"]\n",
    "mycol = mydb[\"customers\"]\n",
    "\n",
    "mydoc = mycol.find().sort(\"name\", -1)\n",
    "\n",
    "for x in mydoc:\n",
    "  print(x)"
   ]
  },
  {
   "cell_type": "markdown",
   "id": "ca2d8977",
   "metadata": {},
   "source": [
    "# Python MongoDB Update"
   ]
  },
  {
   "cell_type": "markdown",
   "id": "04c81fff",
   "metadata": {},
   "source": [
    "### Update Collection\n",
    "You can update a record, or document as it is called in MongoDB, by using the update_one() method.\n",
    "\n",
    "The first parameter of the update_one() method is a query object defining which document to update."
   ]
  },
  {
   "cell_type": "raw",
   "id": "9e2d9547",
   "metadata": {},
   "source": [
    "Note: If the query finds more than one record, only the first occurrence is updated."
   ]
  },
  {
   "cell_type": "raw",
   "id": "d96b4bfa",
   "metadata": {},
   "source": [
    "The second parameter is an object defining the new values of the document."
   ]
  },
  {
   "cell_type": "markdown",
   "id": "52ef717f",
   "metadata": {},
   "source": [
    "### Example\n",
    "Change the address from \"Valley 345\" to \"Canyon 123\":"
   ]
  },
  {
   "cell_type": "code",
   "execution_count": 27,
   "id": "ef504ceb",
   "metadata": {},
   "outputs": [
    {
     "name": "stdout",
     "output_type": "stream",
     "text": [
      "{'_id': ObjectId('6230835b4737f8f882fddcd8'), 'name': 'John', 'address': 'Highway 37'}\n",
      "{'_id': ObjectId('6230836c4737f8f882fddcd9'), 'name': 'Peter', 'address': 'Lowstreet 27'}\n",
      "{'_id': ObjectId('6230837e4737f8f882fddcdb'), 'name': 'Amy', 'address': 'Apple st 652'}\n",
      "{'_id': ObjectId('6230837e4737f8f882fddcdc'), 'name': 'Hannah', 'address': 'Mountain 21'}\n",
      "{'_id': ObjectId('6230837e4737f8f882fddcdd'), 'name': 'Michael', 'address': 'Canyon 123'}\n",
      "{'_id': ObjectId('6230837e4737f8f882fddcde'), 'name': 'Sandy', 'address': 'Ocean blvd 2'}\n",
      "{'_id': ObjectId('6230837e4737f8f882fddcdf'), 'name': 'Betty', 'address': 'Green Grass 1'}\n",
      "{'_id': ObjectId('6230837e4737f8f882fddce0'), 'name': 'Richard', 'address': 'Sky st 331'}\n",
      "{'_id': ObjectId('6230837e4737f8f882fddce1'), 'name': 'Susan', 'address': 'One way 98'}\n",
      "{'_id': ObjectId('6230837e4737f8f882fddce2'), 'name': 'Vicky', 'address': 'Yellow Garden 2'}\n",
      "{'_id': ObjectId('6230837e4737f8f882fddce3'), 'name': 'Ben', 'address': 'Park Lane 38'}\n",
      "{'_id': ObjectId('6230837e4737f8f882fddce4'), 'name': 'William', 'address': 'Central st 954'}\n",
      "{'_id': ObjectId('6230837e4737f8f882fddce5'), 'name': 'Chuck', 'address': 'Main Road 989'}\n",
      "{'_id': ObjectId('6230837e4737f8f882fddce6'), 'name': 'Viola', 'address': 'Sideway 1633'}\n",
      "{'_id': 1, 'name': 'John', 'address': 'Highway 37'}\n",
      "{'_id': 2, 'name': 'Peter', 'address': 'Lowstreet 27'}\n",
      "{'_id': 3, 'name': 'Amy', 'address': 'Apple st 652'}\n",
      "{'_id': 4, 'name': 'Hannah', 'address': 'Mountain 21'}\n",
      "{'_id': 5, 'name': 'Michael', 'address': 'Valley 345'}\n",
      "{'_id': 6, 'name': 'Sandy', 'address': 'Ocean blvd 2'}\n",
      "{'_id': 7, 'name': 'Betty', 'address': 'Green Grass 1'}\n",
      "{'_id': 8, 'name': 'Richard', 'address': 'Sky st 331'}\n",
      "{'_id': 9, 'name': 'Susan', 'address': 'One way 98'}\n",
      "{'_id': 10, 'name': 'Vicky', 'address': 'Yellow Garden 2'}\n",
      "{'_id': 11, 'name': 'Ben', 'address': 'Park Lane 38'}\n",
      "{'_id': 12, 'name': 'William', 'address': 'Central st 954'}\n",
      "{'_id': 13, 'name': 'Chuck', 'address': 'Main Road 989'}\n",
      "{'_id': 14, 'name': 'Viola', 'address': 'Sideway 1633'}\n"
     ]
    }
   ],
   "source": [
    "import pymongo\n",
    "\n",
    "myclient = pymongo.MongoClient(\"mongodb://localhost:27017/\")\n",
    "mydb = myclient[\"mydatabase\"]\n",
    "mycol = mydb[\"customers\"]\n",
    "\n",
    "myquery = { \"address\": \"Valley 345\" }\n",
    "newvalues = { \"$set\": { \"address\": \"Canyon 123\" } }\n",
    "\n",
    "mycol.update_one(myquery, newvalues)\n",
    "\n",
    "#print \"customers\" after the update:\n",
    "for x in mycol.find():\n",
    "  print(x)"
   ]
  },
  {
   "cell_type": "markdown",
   "id": "49d53724",
   "metadata": {},
   "source": [
    "# Update Many\n",
    "To update all documents that meets the criteria of the query, use the update_many() method"
   ]
  },
  {
   "cell_type": "markdown",
   "id": "f30a2bed",
   "metadata": {},
   "source": [
    "## Example\n",
    "Update all documents where the address starts with the letter \"S\":"
   ]
  },
  {
   "cell_type": "code",
   "execution_count": 28,
   "id": "60c7b251",
   "metadata": {},
   "outputs": [
    {
     "name": "stdout",
     "output_type": "stream",
     "text": [
      "4 documents updated.\n"
     ]
    }
   ],
   "source": [
    "import pymongo\n",
    "\n",
    "myclient = pymongo.MongoClient(\"mongodb://localhost:27017/\")\n",
    "mydb = myclient[\"mydatabase\"]\n",
    "mycol = mydb[\"customers\"]\n",
    "\n",
    "myquery = { \"address\": { \"$regex\": \"^S\" } }\n",
    "newvalues = { \"$set\": { \"name\": \"Minnie\" } }\n",
    "\n",
    "x = mycol.update_many(myquery, newvalues)\n",
    "\n",
    "print(x.modified_count, \"documents updated.\")"
   ]
  },
  {
   "cell_type": "markdown",
   "id": "102cb814",
   "metadata": {},
   "source": [
    "# Python MongoDB Limit\n"
   ]
  },
  {
   "cell_type": "markdown",
   "id": "f2f86e02",
   "metadata": {},
   "source": [
    "# Limit the Result\n",
    "To limit the result in MongoDB, we use the limit() method.\n",
    "\n",
    "The limit() method takes one parameter, a number defining how many documents to return.\n",
    "\n",
    "Consider you have a \"customers\" collection:"
   ]
  },
  {
   "cell_type": "raw",
   "id": "0196ca99",
   "metadata": {},
   "source": [
    "Customers\n",
    "{'_id': 1, 'name': 'John', 'address': 'Highway37'}\n",
    "{'_id': 2, 'name': 'Peter', 'address': 'Lowstreet 27'}\n",
    "{'_id': 3, 'name': 'Amy', 'address': 'Apple st 652'}\n",
    "{'_id': 4, 'name': 'Hannah', 'address': 'Mountain 21'}\n",
    "{'_id': 5, 'name': 'Michael', 'address': 'Valley 345'}\n",
    "{'_id': 6, 'name': 'Sandy', 'address': 'Ocean blvd 2'}\n",
    "{'_id': 7, 'name': 'Betty', 'address': 'Green Grass 1'}\n",
    "{'_id': 8, 'name': 'Richard', 'address': 'Sky st 331'}\n",
    "{'_id': 9, 'name': 'Susan', 'address': 'One way 98'}\n",
    "{'_id': 10, 'name': 'Vicky', 'address': 'Yellow Garden 2'}\n",
    "{'_id': 11, 'name': 'Ben', 'address': 'Park Lane 38'}\n",
    "{'_id': 12, 'name': 'William', 'address': 'Central st 954'}\n",
    "{'_id': 13, 'name': 'Chuck', 'address': 'Main Road 989'}\n",
    "{'_id': 14, 'name': 'Viola', 'address': 'Sideway 1633'}"
   ]
  },
  {
   "cell_type": "markdown",
   "id": "16aacaf8",
   "metadata": {},
   "source": [
    "### Example\n",
    "Limit the result to only return 5 documents:"
   ]
  },
  {
   "cell_type": "code",
   "execution_count": 29,
   "id": "93bd4211",
   "metadata": {},
   "outputs": [
    {
     "name": "stdout",
     "output_type": "stream",
     "text": [
      "{'_id': ObjectId('6230835b4737f8f882fddcd8'), 'name': 'John', 'address': 'Highway 37'}\n",
      "{'_id': ObjectId('6230836c4737f8f882fddcd9'), 'name': 'Peter', 'address': 'Lowstreet 27'}\n",
      "{'_id': ObjectId('6230837e4737f8f882fddcdb'), 'name': 'Amy', 'address': 'Apple st 652'}\n",
      "{'_id': ObjectId('6230837e4737f8f882fddcdc'), 'name': 'Hannah', 'address': 'Mountain 21'}\n",
      "{'_id': ObjectId('6230837e4737f8f882fddcdd'), 'name': 'Michael', 'address': 'Canyon 123'}\n"
     ]
    }
   ],
   "source": [
    "import pymongo\n",
    "\n",
    "myclient = pymongo.MongoClient(\"mongodb://localhost:27017/\")\n",
    "mydb = myclient[\"mydatabase\"]\n",
    "mycol = mydb[\"customers\"]\n",
    "\n",
    "myresult = mycol.find().limit(5)\n",
    "\n",
    "#print the result:\n",
    "for x in myresult:\n",
    "  print(x)"
   ]
  },
  {
   "cell_type": "markdown",
   "id": "dbeebe5d",
   "metadata": {},
   "source": [
    "# Python MongoDB Delete Document"
   ]
  },
  {
   "cell_type": "markdown",
   "id": "5632c71f",
   "metadata": {},
   "source": [
    "## Delete Document\n",
    "To delete one document, we use the delete_one() method.\n",
    "\n",
    "The first parameter of the delete_one() method is a query object defining which document to delete.\n",
    "\n",
    "Note: \n",
    "\n",
    "If the query finds more than one document, only the first occurrence is deleted."
   ]
  },
  {
   "cell_type": "markdown",
   "id": "02caf904",
   "metadata": {},
   "source": [
    "### Example\n",
    "Delete the document with the address \"Mountain 21\":"
   ]
  },
  {
   "cell_type": "code",
   "execution_count": 30,
   "id": "aa05aba1",
   "metadata": {},
   "outputs": [
    {
     "data": {
      "text/plain": [
       "<pymongo.results.DeleteResult at 0x7f250c5da480>"
      ]
     },
     "execution_count": 30,
     "metadata": {},
     "output_type": "execute_result"
    }
   ],
   "source": [
    "import pymongo\n",
    "\n",
    "myclient = pymongo.MongoClient(\"mongodb://localhost:27017/\")\n",
    "mydb = myclient[\"mydatabase\"]\n",
    "mycol = mydb[\"customers\"]\n",
    "\n",
    "myquery = { \"address\": \"Mountain 21\" }\n",
    "\n",
    "mycol.delete_one(myquery)"
   ]
  },
  {
   "cell_type": "markdown",
   "id": "4dbc82e0",
   "metadata": {},
   "source": [
    "## Delete Many Documents\n",
    "\n",
    "To delete more than one document, use the delete_many() method.\n",
    "\n",
    "The first parameter of the delete_many() method is a query object defining which documents to delete.\n",
    "\n",
    "## Example\n",
    "\n",
    "Delete all documents were the address starts with the letter S:\n",
    "\n"
   ]
  },
  {
   "cell_type": "code",
   "execution_count": 31,
   "id": "a88ded3a",
   "metadata": {},
   "outputs": [
    {
     "name": "stdout",
     "output_type": "stream",
     "text": [
      "4  documents deleted.\n"
     ]
    }
   ],
   "source": [
    "import pymongo\n",
    "\n",
    "myclient = pymongo.MongoClient(\"mongodb://localhost:27017/\")\n",
    "mydb = myclient[\"mydatabase\"]\n",
    "mycol = mydb[\"customers\"]\n",
    "\n",
    "myquery = { \"address\": {\"$regex\": \"^S\"} }\n",
    "\n",
    "x = mycol.delete_many(myquery)\n",
    "\n",
    "print(x.deleted_count, \" documents deleted.\")"
   ]
  },
  {
   "cell_type": "markdown",
   "id": "0b646746",
   "metadata": {},
   "source": [
    "## Delete All Documents in a Collection\n",
    "\n",
    "To delete all documents in a collection, pass an empty query object to the delete_many() method:\n",
    "\n",
    "## Example\n",
    "\n",
    "Delete all documents in the \"customers\" collection:"
   ]
  },
  {
   "cell_type": "code",
   "execution_count": 32,
   "id": "953195b1",
   "metadata": {},
   "outputs": [
    {
     "name": "stdout",
     "output_type": "stream",
     "text": [
      "23  documents deleted.\n"
     ]
    }
   ],
   "source": [
    "import pymongo\n",
    "\n",
    "myclient = pymongo.MongoClient(\"mongodb://localhost:27017/\")\n",
    "mydb = myclient[\"mydatabase\"]\n",
    "mycol = mydb[\"customers\"]\n",
    "\n",
    "x = mycol.delete_many({})\n",
    "\n",
    "print(x.deleted_count, \" documents deleted.\")"
   ]
  },
  {
   "cell_type": "markdown",
   "id": "eb11f3c1",
   "metadata": {},
   "source": [
    "## Delete Collection\n",
    "You can delete a table, or collection as it is called in MongoDB, by using the drop() method.\n",
    "\n",
    "### Example\n",
    "\n",
    "Delete the \"customers\" collection:"
   ]
  },
  {
   "cell_type": "code",
   "execution_count": 33,
   "id": "c3578c1f",
   "metadata": {},
   "outputs": [],
   "source": [
    "import pymongo\n",
    "\n",
    "myclient = pymongo.MongoClient(\"mongodb://localhost:27017/\")\n",
    "mydb = myclient[\"mydatabase\"]\n",
    "mycol = mydb[\"customers\"]\n",
    "\n",
    "mycol.drop()"
   ]
  },
  {
   "cell_type": "markdown",
   "id": "69e8ab3a",
   "metadata": {},
   "source": [
    "The drop() method returns true if the collection was dropped successfully, and false if the collection does not exist."
   ]
  }
 ],
 "metadata": {
  "kernelspec": {
   "display_name": "Python 3 (ipykernel)",
   "language": "python",
   "name": "python3"
  },
  "language_info": {
   "codemirror_mode": {
    "name": "ipython",
    "version": 3
   },
   "file_extension": ".py",
   "mimetype": "text/x-python",
   "name": "python",
   "nbconvert_exporter": "python",
   "pygments_lexer": "ipython3",
   "version": "3.9.7"
  }
 },
 "nbformat": 4,
 "nbformat_minor": 5
}
